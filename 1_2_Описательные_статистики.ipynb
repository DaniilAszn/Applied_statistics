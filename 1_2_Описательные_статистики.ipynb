{
  "nbformat": 4,
  "nbformat_minor": 0,
  "metadata": {
    "colab": {
      "provenance": [],
      "authorship_tag": "ABX9TyPwxMhaMdCmpBqFYB3N45ib",
      "include_colab_link": true
    },
    "kernelspec": {
      "name": "python3",
      "display_name": "Python 3"
    },
    "language_info": {
      "name": "python"
    }
  },
  "cells": [
    {
      "cell_type": "markdown",
      "metadata": {
        "id": "view-in-github",
        "colab_type": "text"
      },
      "source": [
        "<a href=\"https://colab.research.google.com/github/DaniilAszn/Applied_statistics/blob/main/1_2_%D0%9E%D0%BF%D0%B8%D1%81%D0%B0%D1%82%D0%B5%D0%BB%D1%8C%D0%BD%D1%8B%D0%B5_%D1%81%D1%82%D0%B0%D1%82%D0%B8%D1%81%D1%82%D0%B8%D0%BA%D0%B8.ipynb\" target=\"_parent\"><img src=\"https://colab.research.google.com/assets/colab-badge.svg\" alt=\"Open In Colab\"/></a>"
      ]
    },
    {
      "cell_type": "markdown",
      "source": [
        "# Описательные статистики"
      ],
      "metadata": {
        "id": "WS_IKeDSeZ_I"
      }
    },
    {
      "cell_type": "code",
      "execution_count": null,
      "metadata": {
        "id": "4sXClzsJeUa2"
      },
      "outputs": [],
      "source": [
        "import numpy as np\n",
        "import pandas as pd\n",
        "from scipy import stats\n",
        "\n",
        "import matplotlib.pyplot as plt\n",
        "import seaborn as sns\n",
        "\n",
        "plt.style.use('ggplot')\n",
        "%matplotlib inline"
      ]
    },
    {
      "cell_type": "markdown",
      "source": [
        "## 1. Данные"
      ],
      "metadata": {
        "id": "mhJsMCK1gou4"
      }
    },
    {
      "cell_type": "code",
      "source": [
        "df = pd.read_csv('youtube_data_short.csv', sep='\\t')\n",
        "print(df.shape) # размер датафрейма"
      ],
      "metadata": {
        "colab": {
          "base_uri": "https://localhost:8080/"
        },
        "id": "VMaAhCKEgrY1",
        "outputId": "69058677-d27a-4a9d-cc3f-a8c1ed9b1d57"
      },
      "execution_count": null,
      "outputs": [
        {
          "output_type": "stream",
          "name": "stdout",
          "text": [
            "(19124, 10)\n"
          ]
        }
      ]
    },
    {
      "cell_type": "code",
      "source": [
        "df.head() # первые пять строк в датафрейме"
      ],
      "metadata": {
        "colab": {
          "base_uri": "https://localhost:8080/",
          "height": 521
        },
        "id": "nw9b_VkChJvI",
        "outputId": "e1805d0b-45db-48c9-88a6-79e9a958096f"
      },
      "execution_count": null,
      "outputs": [
        {
          "output_type": "execute_result",
          "data": {
            "text/plain": [
              "                                               title  commentCount  \\\n",
              "0                          \"#2Маши \"Свободные линии\"          34.0   \n",
              "1          \"ALARM\" СЕРГЕЙ ЛАЗАРЕВ ( SERGEY LAZAREV )           NaN   \n",
              "2  \"EARTH SONG\"  SERGEY LAZAREV. DEDICATED TO MIC...          26.0   \n",
              "3             \"Earth song\" премия МУЗ-тВ 2010 (LIVE)          12.0   \n",
              "4                     \"FAKE\" СЕРГЕЙ ЛАЗАРЕВ (SERGEY)          46.0   \n",
              "\n",
              "   dislikeCount  likeCount music_style performer  viewCount  \\\n",
              "0          43.0     1402.0       popsa     2маши   214301.0   \n",
              "1         690.0    10532.0       popsa   лазарев  2221419.0   \n",
              "2          10.0      269.0       popsa   лазарев    40327.0   \n",
              "3           7.0      163.0       popsa   лазарев    11907.0   \n",
              "4          19.0      597.0       popsa   лазарев    91483.0   \n",
              "\n",
              "   commentators_uniq  comments_obscene_cnt  video_age  \n",
              "0               24.0                   0.0       1141  \n",
              "1                NaN                   NaN       3217  \n",
              "2               23.0                   0.0       3546  \n",
              "3               11.0                   0.0       3189  \n",
              "4               33.0                   1.0       3361  "
            ],
            "text/html": [
              "\n",
              "  <div id=\"df-0cd23047-2cdc-43a2-b0c4-807d54b4ef86\" class=\"colab-df-container\">\n",
              "    <div>\n",
              "<style scoped>\n",
              "    .dataframe tbody tr th:only-of-type {\n",
              "        vertical-align: middle;\n",
              "    }\n",
              "\n",
              "    .dataframe tbody tr th {\n",
              "        vertical-align: top;\n",
              "    }\n",
              "\n",
              "    .dataframe thead th {\n",
              "        text-align: right;\n",
              "    }\n",
              "</style>\n",
              "<table border=\"1\" class=\"dataframe\">\n",
              "  <thead>\n",
              "    <tr style=\"text-align: right;\">\n",
              "      <th></th>\n",
              "      <th>title</th>\n",
              "      <th>commentCount</th>\n",
              "      <th>dislikeCount</th>\n",
              "      <th>likeCount</th>\n",
              "      <th>music_style</th>\n",
              "      <th>performer</th>\n",
              "      <th>viewCount</th>\n",
              "      <th>commentators_uniq</th>\n",
              "      <th>comments_obscene_cnt</th>\n",
              "      <th>video_age</th>\n",
              "    </tr>\n",
              "  </thead>\n",
              "  <tbody>\n",
              "    <tr>\n",
              "      <th>0</th>\n",
              "      <td>\"#2Маши \"Свободные линии\"</td>\n",
              "      <td>34.0</td>\n",
              "      <td>43.0</td>\n",
              "      <td>1402.0</td>\n",
              "      <td>popsa</td>\n",
              "      <td>2маши</td>\n",
              "      <td>214301.0</td>\n",
              "      <td>24.0</td>\n",
              "      <td>0.0</td>\n",
              "      <td>1141</td>\n",
              "    </tr>\n",
              "    <tr>\n",
              "      <th>1</th>\n",
              "      <td>\"ALARM\" СЕРГЕЙ ЛАЗАРЕВ ( SERGEY LAZAREV )</td>\n",
              "      <td>NaN</td>\n",
              "      <td>690.0</td>\n",
              "      <td>10532.0</td>\n",
              "      <td>popsa</td>\n",
              "      <td>лазарев</td>\n",
              "      <td>2221419.0</td>\n",
              "      <td>NaN</td>\n",
              "      <td>NaN</td>\n",
              "      <td>3217</td>\n",
              "    </tr>\n",
              "    <tr>\n",
              "      <th>2</th>\n",
              "      <td>\"EARTH SONG\"  SERGEY LAZAREV. DEDICATED TO MIC...</td>\n",
              "      <td>26.0</td>\n",
              "      <td>10.0</td>\n",
              "      <td>269.0</td>\n",
              "      <td>popsa</td>\n",
              "      <td>лазарев</td>\n",
              "      <td>40327.0</td>\n",
              "      <td>23.0</td>\n",
              "      <td>0.0</td>\n",
              "      <td>3546</td>\n",
              "    </tr>\n",
              "    <tr>\n",
              "      <th>3</th>\n",
              "      <td>\"Earth song\" премия МУЗ-тВ 2010 (LIVE)</td>\n",
              "      <td>12.0</td>\n",
              "      <td>7.0</td>\n",
              "      <td>163.0</td>\n",
              "      <td>popsa</td>\n",
              "      <td>лазарев</td>\n",
              "      <td>11907.0</td>\n",
              "      <td>11.0</td>\n",
              "      <td>0.0</td>\n",
              "      <td>3189</td>\n",
              "    </tr>\n",
              "    <tr>\n",
              "      <th>4</th>\n",
              "      <td>\"FAKE\" СЕРГЕЙ ЛАЗАРЕВ (SERGEY)</td>\n",
              "      <td>46.0</td>\n",
              "      <td>19.0</td>\n",
              "      <td>597.0</td>\n",
              "      <td>popsa</td>\n",
              "      <td>лазарев</td>\n",
              "      <td>91483.0</td>\n",
              "      <td>33.0</td>\n",
              "      <td>1.0</td>\n",
              "      <td>3361</td>\n",
              "    </tr>\n",
              "  </tbody>\n",
              "</table>\n",
              "</div>\n",
              "    <div class=\"colab-df-buttons\">\n",
              "\n",
              "  <div class=\"colab-df-container\">\n",
              "    <button class=\"colab-df-convert\" onclick=\"convertToInteractive('df-0cd23047-2cdc-43a2-b0c4-807d54b4ef86')\"\n",
              "            title=\"Convert this dataframe to an interactive table.\"\n",
              "            style=\"display:none;\">\n",
              "\n",
              "  <svg xmlns=\"http://www.w3.org/2000/svg\" height=\"24px\" viewBox=\"0 -960 960 960\">\n",
              "    <path d=\"M120-120v-720h720v720H120Zm60-500h600v-160H180v160Zm220 220h160v-160H400v160Zm0 220h160v-160H400v160ZM180-400h160v-160H180v160Zm440 0h160v-160H620v160ZM180-180h160v-160H180v160Zm440 0h160v-160H620v160Z\"/>\n",
              "  </svg>\n",
              "    </button>\n",
              "\n",
              "  <style>\n",
              "    .colab-df-container {\n",
              "      display:flex;\n",
              "      gap: 12px;\n",
              "    }\n",
              "\n",
              "    .colab-df-convert {\n",
              "      background-color: #E8F0FE;\n",
              "      border: none;\n",
              "      border-radius: 50%;\n",
              "      cursor: pointer;\n",
              "      display: none;\n",
              "      fill: #1967D2;\n",
              "      height: 32px;\n",
              "      padding: 0 0 0 0;\n",
              "      width: 32px;\n",
              "    }\n",
              "\n",
              "    .colab-df-convert:hover {\n",
              "      background-color: #E2EBFA;\n",
              "      box-shadow: 0px 1px 2px rgba(60, 64, 67, 0.3), 0px 1px 3px 1px rgba(60, 64, 67, 0.15);\n",
              "      fill: #174EA6;\n",
              "    }\n",
              "\n",
              "    .colab-df-buttons div {\n",
              "      margin-bottom: 4px;\n",
              "    }\n",
              "\n",
              "    [theme=dark] .colab-df-convert {\n",
              "      background-color: #3B4455;\n",
              "      fill: #D2E3FC;\n",
              "    }\n",
              "\n",
              "    [theme=dark] .colab-df-convert:hover {\n",
              "      background-color: #434B5C;\n",
              "      box-shadow: 0px 1px 3px 1px rgba(0, 0, 0, 0.15);\n",
              "      filter: drop-shadow(0px 1px 2px rgba(0, 0, 0, 0.3));\n",
              "      fill: #FFFFFF;\n",
              "    }\n",
              "  </style>\n",
              "\n",
              "    <script>\n",
              "      const buttonEl =\n",
              "        document.querySelector('#df-0cd23047-2cdc-43a2-b0c4-807d54b4ef86 button.colab-df-convert');\n",
              "      buttonEl.style.display =\n",
              "        google.colab.kernel.accessAllowed ? 'block' : 'none';\n",
              "\n",
              "      async function convertToInteractive(key) {\n",
              "        const element = document.querySelector('#df-0cd23047-2cdc-43a2-b0c4-807d54b4ef86');\n",
              "        const dataTable =\n",
              "          await google.colab.kernel.invokeFunction('convertToInteractive',\n",
              "                                                    [key], {});\n",
              "        if (!dataTable) return;\n",
              "\n",
              "        const docLinkHtml = 'Like what you see? Visit the ' +\n",
              "          '<a target=\"_blank\" href=https://colab.research.google.com/notebooks/data_table.ipynb>data table notebook</a>'\n",
              "          + ' to learn more about interactive tables.';\n",
              "        element.innerHTML = '';\n",
              "        dataTable['output_type'] = 'display_data';\n",
              "        await google.colab.output.renderOutput(dataTable, element);\n",
              "        const docLink = document.createElement('div');\n",
              "        docLink.innerHTML = docLinkHtml;\n",
              "        element.appendChild(docLink);\n",
              "      }\n",
              "    </script>\n",
              "  </div>\n",
              "\n",
              "\n",
              "<div id=\"df-73c9ff8f-b7cc-48d5-951c-4227528b85bb\">\n",
              "  <button class=\"colab-df-quickchart\" onclick=\"quickchart('df-73c9ff8f-b7cc-48d5-951c-4227528b85bb')\"\n",
              "            title=\"Suggest charts\"\n",
              "            style=\"display:none;\">\n",
              "\n",
              "<svg xmlns=\"http://www.w3.org/2000/svg\" height=\"24px\"viewBox=\"0 0 24 24\"\n",
              "     width=\"24px\">\n",
              "    <g>\n",
              "        <path d=\"M19 3H5c-1.1 0-2 .9-2 2v14c0 1.1.9 2 2 2h14c1.1 0 2-.9 2-2V5c0-1.1-.9-2-2-2zM9 17H7v-7h2v7zm4 0h-2V7h2v10zm4 0h-2v-4h2v4z\"/>\n",
              "    </g>\n",
              "</svg>\n",
              "  </button>\n",
              "\n",
              "<style>\n",
              "  .colab-df-quickchart {\n",
              "      --bg-color: #E8F0FE;\n",
              "      --fill-color: #1967D2;\n",
              "      --hover-bg-color: #E2EBFA;\n",
              "      --hover-fill-color: #174EA6;\n",
              "      --disabled-fill-color: #AAA;\n",
              "      --disabled-bg-color: #DDD;\n",
              "  }\n",
              "\n",
              "  [theme=dark] .colab-df-quickchart {\n",
              "      --bg-color: #3B4455;\n",
              "      --fill-color: #D2E3FC;\n",
              "      --hover-bg-color: #434B5C;\n",
              "      --hover-fill-color: #FFFFFF;\n",
              "      --disabled-bg-color: #3B4455;\n",
              "      --disabled-fill-color: #666;\n",
              "  }\n",
              "\n",
              "  .colab-df-quickchart {\n",
              "    background-color: var(--bg-color);\n",
              "    border: none;\n",
              "    border-radius: 50%;\n",
              "    cursor: pointer;\n",
              "    display: none;\n",
              "    fill: var(--fill-color);\n",
              "    height: 32px;\n",
              "    padding: 0;\n",
              "    width: 32px;\n",
              "  }\n",
              "\n",
              "  .colab-df-quickchart:hover {\n",
              "    background-color: var(--hover-bg-color);\n",
              "    box-shadow: 0 1px 2px rgba(60, 64, 67, 0.3), 0 1px 3px 1px rgba(60, 64, 67, 0.15);\n",
              "    fill: var(--button-hover-fill-color);\n",
              "  }\n",
              "\n",
              "  .colab-df-quickchart-complete:disabled,\n",
              "  .colab-df-quickchart-complete:disabled:hover {\n",
              "    background-color: var(--disabled-bg-color);\n",
              "    fill: var(--disabled-fill-color);\n",
              "    box-shadow: none;\n",
              "  }\n",
              "\n",
              "  .colab-df-spinner {\n",
              "    border: 2px solid var(--fill-color);\n",
              "    border-color: transparent;\n",
              "    border-bottom-color: var(--fill-color);\n",
              "    animation:\n",
              "      spin 1s steps(1) infinite;\n",
              "  }\n",
              "\n",
              "  @keyframes spin {\n",
              "    0% {\n",
              "      border-color: transparent;\n",
              "      border-bottom-color: var(--fill-color);\n",
              "      border-left-color: var(--fill-color);\n",
              "    }\n",
              "    20% {\n",
              "      border-color: transparent;\n",
              "      border-left-color: var(--fill-color);\n",
              "      border-top-color: var(--fill-color);\n",
              "    }\n",
              "    30% {\n",
              "      border-color: transparent;\n",
              "      border-left-color: var(--fill-color);\n",
              "      border-top-color: var(--fill-color);\n",
              "      border-right-color: var(--fill-color);\n",
              "    }\n",
              "    40% {\n",
              "      border-color: transparent;\n",
              "      border-right-color: var(--fill-color);\n",
              "      border-top-color: var(--fill-color);\n",
              "    }\n",
              "    60% {\n",
              "      border-color: transparent;\n",
              "      border-right-color: var(--fill-color);\n",
              "    }\n",
              "    80% {\n",
              "      border-color: transparent;\n",
              "      border-right-color: var(--fill-color);\n",
              "      border-bottom-color: var(--fill-color);\n",
              "    }\n",
              "    90% {\n",
              "      border-color: transparent;\n",
              "      border-bottom-color: var(--fill-color);\n",
              "    }\n",
              "  }\n",
              "</style>\n",
              "\n",
              "  <script>\n",
              "    async function quickchart(key) {\n",
              "      const quickchartButtonEl =\n",
              "        document.querySelector('#' + key + ' button');\n",
              "      quickchartButtonEl.disabled = true;  // To prevent multiple clicks.\n",
              "      quickchartButtonEl.classList.add('colab-df-spinner');\n",
              "      try {\n",
              "        const charts = await google.colab.kernel.invokeFunction(\n",
              "            'suggestCharts', [key], {});\n",
              "      } catch (error) {\n",
              "        console.error('Error during call to suggestCharts:', error);\n",
              "      }\n",
              "      quickchartButtonEl.classList.remove('colab-df-spinner');\n",
              "      quickchartButtonEl.classList.add('colab-df-quickchart-complete');\n",
              "    }\n",
              "    (() => {\n",
              "      let quickchartButtonEl =\n",
              "        document.querySelector('#df-73c9ff8f-b7cc-48d5-951c-4227528b85bb button');\n",
              "      quickchartButtonEl.style.display =\n",
              "        google.colab.kernel.accessAllowed ? 'block' : 'none';\n",
              "    })();\n",
              "  </script>\n",
              "</div>\n",
              "    </div>\n",
              "  </div>\n"
            ]
          },
          "metadata": {},
          "execution_count": 6
        }
      ]
    },
    {
      "cell_type": "code",
      "source": [
        "df.dtypes # типы данных"
      ],
      "metadata": {
        "colab": {
          "base_uri": "https://localhost:8080/"
        },
        "id": "jSwvvitghu7V",
        "outputId": "3770f889-5b59-4dae-ca81-5f20477d4202"
      },
      "execution_count": null,
      "outputs": [
        {
          "output_type": "execute_result",
          "data": {
            "text/plain": [
              "title                    object\n",
              "commentCount            float64\n",
              "dislikeCount            float64\n",
              "likeCount               float64\n",
              "music_style              object\n",
              "performer                object\n",
              "viewCount               float64\n",
              "commentators_uniq       float64\n",
              "comments_obscene_cnt    float64\n",
              "video_age                 int64\n",
              "dtype: object"
            ]
          },
          "metadata": {},
          "execution_count": 7
        }
      ]
    },
    {
      "cell_type": "markdown",
      "source": [
        "## 2. Описательные статистики"
      ],
      "metadata": {
        "id": "eWgwPLK7iDLo"
      }
    },
    {
      "cell_type": "code",
      "source": [
        "df['likeCount']"
      ],
      "metadata": {
        "colab": {
          "base_uri": "https://localhost:8080/"
        },
        "id": "yQA4GOqxivSk",
        "outputId": "6a066a02-7bdd-46d8-eb66-5148b950ff10"
      },
      "execution_count": null,
      "outputs": [
        {
          "output_type": "execute_result",
          "data": {
            "text/plain": [
              "0         1402.0\n",
              "1        10532.0\n",
              "2          269.0\n",
              "3          163.0\n",
              "4          597.0\n",
              "          ...   \n",
              "19119       11.0\n",
              "19120     1837.0\n",
              "19121    30603.0\n",
              "19122      260.0\n",
              "19123       22.0\n",
              "Name: likeCount, Length: 19124, dtype: float64"
            ]
          },
          "metadata": {},
          "execution_count": 12
        }
      ]
    },
    {
      "cell_type": "code",
      "source": [
        "# index\n",
        "df['likeCount'].index"
      ],
      "metadata": {
        "colab": {
          "base_uri": "https://localhost:8080/"
        },
        "id": "rzx39BmRjLLZ",
        "outputId": "0bf1b0a7-8341-44a3-f44a-76278e1983c1"
      },
      "execution_count": null,
      "outputs": [
        {
          "output_type": "execute_result",
          "data": {
            "text/plain": [
              "RangeIndex(start=0, stop=19124, step=1)"
            ]
          },
          "metadata": {},
          "execution_count": 13
        }
      ]
    },
    {
      "cell_type": "code",
      "source": [
        "# values\n",
        "df['likeCount'].values"
      ],
      "metadata": {
        "colab": {
          "base_uri": "https://localhost:8080/"
        },
        "id": "c-fRLuVtjSSY",
        "outputId": "d823817a-7a73-4159-e548-138bc7ac16d4"
      },
      "execution_count": null,
      "outputs": [
        {
          "output_type": "execute_result",
          "data": {
            "text/plain": [
              "array([1.4020e+03, 1.0532e+04, 2.6900e+02, ..., 3.0603e+04, 2.6000e+02,\n",
              "       2.2000e+01])"
            ]
          },
          "metadata": {},
          "execution_count": 14
        }
      ]
    },
    {
      "cell_type": "code",
      "source": [
        "# максимальное значение\n",
        "df.likeCount.max() # df['likeCount'].max()"
      ],
      "metadata": {
        "colab": {
          "base_uri": "https://localhost:8080/"
        },
        "id": "MUcsmV72iGJg",
        "outputId": "a2750164-6c0a-4b26-c435-8a6988d45324"
      },
      "execution_count": null,
      "outputs": [
        {
          "output_type": "execute_result",
          "data": {
            "text/plain": [
              "1686810.0"
            ]
          },
          "metadata": {},
          "execution_count": 8
        }
      ]
    },
    {
      "cell_type": "code",
      "source": [
        "# минимальное значение\n",
        "df['likeCount'].min()"
      ],
      "metadata": {
        "colab": {
          "base_uri": "https://localhost:8080/"
        },
        "id": "5vWuKRZ2iPIq",
        "outputId": "5da4dcd1-95dd-4724-98cb-bc4838c61a29"
      },
      "execution_count": null,
      "outputs": [
        {
          "output_type": "execute_result",
          "data": {
            "text/plain": [
              "0.0"
            ]
          },
          "metadata": {},
          "execution_count": 11
        }
      ]
    },
    {
      "cell_type": "code",
      "source": [
        "mx = df['likeCount'].max()\n",
        "mx"
      ],
      "metadata": {
        "colab": {
          "base_uri": "https://localhost:8080/"
        },
        "id": "DZ6458rijo0U",
        "outputId": "354eab7e-fb88-429c-a033-353eb41152b4"
      },
      "execution_count": null,
      "outputs": [
        {
          "output_type": "execute_result",
          "data": {
            "text/plain": [
              "1686810.0"
            ]
          },
          "metadata": {},
          "execution_count": 15
        }
      ]
    },
    {
      "cell_type": "code",
      "source": [
        "df['likeCount'] == mx"
      ],
      "metadata": {
        "colab": {
          "base_uri": "https://localhost:8080/"
        },
        "id": "RMYQeOCEjyMW",
        "outputId": "4b2c3363-32f8-4ff2-8709-eef630cf7e87"
      },
      "execution_count": null,
      "outputs": [
        {
          "output_type": "execute_result",
          "data": {
            "text/plain": [
              "0        False\n",
              "1        False\n",
              "2        False\n",
              "3        False\n",
              "4        False\n",
              "         ...  \n",
              "19119    False\n",
              "19120    False\n",
              "19121    False\n",
              "19122    False\n",
              "19123    False\n",
              "Name: likeCount, Length: 19124, dtype: bool"
            ]
          },
          "metadata": {},
          "execution_count": 16
        }
      ]
    },
    {
      "cell_type": "code",
      "source": [
        "# поиск строки, у которой максимальное количество лайков (срез)\n",
        "df[df['likeCount'] == mx]"
      ],
      "metadata": {
        "colab": {
          "base_uri": "https://localhost:8080/",
          "height": 170
        },
        "id": "pmpTc2e5j9DC",
        "outputId": "ab42c0aa-5942-41c6-cdf9-a12b77301395"
      },
      "execution_count": null,
      "outputs": [
        {
          "output_type": "execute_result",
          "data": {
            "text/plain": [
              "                               title  commentCount  dislikeCount  likeCount  \\\n",
              "18649  Элджей & Feduk - Розовое вино      191702.0      151772.0  1686810.0   \n",
              "\n",
              "      music_style performer    viewCount  commentators_uniq  \\\n",
              "18649         rap     feduk  208753182.0             3702.0   \n",
              "\n",
              "       comments_obscene_cnt  video_age  \n",
              "18649                 183.0        485  "
            ],
            "text/html": [
              "\n",
              "  <div id=\"df-3a238be1-b86b-4ff0-b580-84552131d243\" class=\"colab-df-container\">\n",
              "    <div>\n",
              "<style scoped>\n",
              "    .dataframe tbody tr th:only-of-type {\n",
              "        vertical-align: middle;\n",
              "    }\n",
              "\n",
              "    .dataframe tbody tr th {\n",
              "        vertical-align: top;\n",
              "    }\n",
              "\n",
              "    .dataframe thead th {\n",
              "        text-align: right;\n",
              "    }\n",
              "</style>\n",
              "<table border=\"1\" class=\"dataframe\">\n",
              "  <thead>\n",
              "    <tr style=\"text-align: right;\">\n",
              "      <th></th>\n",
              "      <th>title</th>\n",
              "      <th>commentCount</th>\n",
              "      <th>dislikeCount</th>\n",
              "      <th>likeCount</th>\n",
              "      <th>music_style</th>\n",
              "      <th>performer</th>\n",
              "      <th>viewCount</th>\n",
              "      <th>commentators_uniq</th>\n",
              "      <th>comments_obscene_cnt</th>\n",
              "      <th>video_age</th>\n",
              "    </tr>\n",
              "  </thead>\n",
              "  <tbody>\n",
              "    <tr>\n",
              "      <th>18649</th>\n",
              "      <td>Элджей &amp; Feduk - Розовое вино</td>\n",
              "      <td>191702.0</td>\n",
              "      <td>151772.0</td>\n",
              "      <td>1686810.0</td>\n",
              "      <td>rap</td>\n",
              "      <td>feduk</td>\n",
              "      <td>208753182.0</td>\n",
              "      <td>3702.0</td>\n",
              "      <td>183.0</td>\n",
              "      <td>485</td>\n",
              "    </tr>\n",
              "  </tbody>\n",
              "</table>\n",
              "</div>\n",
              "    <div class=\"colab-df-buttons\">\n",
              "\n",
              "  <div class=\"colab-df-container\">\n",
              "    <button class=\"colab-df-convert\" onclick=\"convertToInteractive('df-3a238be1-b86b-4ff0-b580-84552131d243')\"\n",
              "            title=\"Convert this dataframe to an interactive table.\"\n",
              "            style=\"display:none;\">\n",
              "\n",
              "  <svg xmlns=\"http://www.w3.org/2000/svg\" height=\"24px\" viewBox=\"0 -960 960 960\">\n",
              "    <path d=\"M120-120v-720h720v720H120Zm60-500h600v-160H180v160Zm220 220h160v-160H400v160Zm0 220h160v-160H400v160ZM180-400h160v-160H180v160Zm440 0h160v-160H620v160ZM180-180h160v-160H180v160Zm440 0h160v-160H620v160Z\"/>\n",
              "  </svg>\n",
              "    </button>\n",
              "\n",
              "  <style>\n",
              "    .colab-df-container {\n",
              "      display:flex;\n",
              "      gap: 12px;\n",
              "    }\n",
              "\n",
              "    .colab-df-convert {\n",
              "      background-color: #E8F0FE;\n",
              "      border: none;\n",
              "      border-radius: 50%;\n",
              "      cursor: pointer;\n",
              "      display: none;\n",
              "      fill: #1967D2;\n",
              "      height: 32px;\n",
              "      padding: 0 0 0 0;\n",
              "      width: 32px;\n",
              "    }\n",
              "\n",
              "    .colab-df-convert:hover {\n",
              "      background-color: #E2EBFA;\n",
              "      box-shadow: 0px 1px 2px rgba(60, 64, 67, 0.3), 0px 1px 3px 1px rgba(60, 64, 67, 0.15);\n",
              "      fill: #174EA6;\n",
              "    }\n",
              "\n",
              "    .colab-df-buttons div {\n",
              "      margin-bottom: 4px;\n",
              "    }\n",
              "\n",
              "    [theme=dark] .colab-df-convert {\n",
              "      background-color: #3B4455;\n",
              "      fill: #D2E3FC;\n",
              "    }\n",
              "\n",
              "    [theme=dark] .colab-df-convert:hover {\n",
              "      background-color: #434B5C;\n",
              "      box-shadow: 0px 1px 3px 1px rgba(0, 0, 0, 0.15);\n",
              "      filter: drop-shadow(0px 1px 2px rgba(0, 0, 0, 0.3));\n",
              "      fill: #FFFFFF;\n",
              "    }\n",
              "  </style>\n",
              "\n",
              "    <script>\n",
              "      const buttonEl =\n",
              "        document.querySelector('#df-3a238be1-b86b-4ff0-b580-84552131d243 button.colab-df-convert');\n",
              "      buttonEl.style.display =\n",
              "        google.colab.kernel.accessAllowed ? 'block' : 'none';\n",
              "\n",
              "      async function convertToInteractive(key) {\n",
              "        const element = document.querySelector('#df-3a238be1-b86b-4ff0-b580-84552131d243');\n",
              "        const dataTable =\n",
              "          await google.colab.kernel.invokeFunction('convertToInteractive',\n",
              "                                                    [key], {});\n",
              "        if (!dataTable) return;\n",
              "\n",
              "        const docLinkHtml = 'Like what you see? Visit the ' +\n",
              "          '<a target=\"_blank\" href=https://colab.research.google.com/notebooks/data_table.ipynb>data table notebook</a>'\n",
              "          + ' to learn more about interactive tables.';\n",
              "        element.innerHTML = '';\n",
              "        dataTable['output_type'] = 'display_data';\n",
              "        await google.colab.output.renderOutput(dataTable, element);\n",
              "        const docLink = document.createElement('div');\n",
              "        docLink.innerHTML = docLinkHtml;\n",
              "        element.appendChild(docLink);\n",
              "      }\n",
              "    </script>\n",
              "  </div>\n",
              "\n",
              "    </div>\n",
              "  </div>\n"
            ]
          },
          "metadata": {},
          "execution_count": 18
        }
      ]
    },
    {
      "cell_type": "markdown",
      "source": [
        "Меры центральной тенденции"
      ],
      "metadata": {
        "id": "LHGnsjJbksqD"
      }
    },
    {
      "cell_type": "code",
      "source": [
        "df['likeCount'].mean()"
      ],
      "metadata": {
        "colab": {
          "base_uri": "https://localhost:8080/"
        },
        "id": "qBwqMvclkwDG",
        "outputId": "aa688008-591b-456d-fafb-d44dab0814cb"
      },
      "execution_count": null,
      "outputs": [
        {
          "output_type": "execute_result",
          "data": {
            "text/plain": [
              "5735.014482758621"
            ]
          },
          "metadata": {},
          "execution_count": 20
        }
      ]
    },
    {
      "cell_type": "code",
      "source": [
        "df['likeCount'].median()"
      ],
      "metadata": {
        "colab": {
          "base_uri": "https://localhost:8080/"
        },
        "id": "TDpWr9cCk7so",
        "outputId": "ddd4fc29-7f9d-4b1a-8410-2dcc5a0d72f5"
      },
      "execution_count": null,
      "outputs": [
        {
          "output_type": "execute_result",
          "data": {
            "text/plain": [
              "100.0"
            ]
          },
          "metadata": {},
          "execution_count": 21
        }
      ]
    },
    {
      "cell_type": "markdown",
      "source": [
        "Медиана сильно отличается от среднего => в датасете имеются выбросы"
      ],
      "metadata": {
        "id": "zFg5H79kleat"
      }
    },
    {
      "cell_type": "markdown",
      "source": [
        "Гистограмма"
      ],
      "metadata": {
        "id": "6D8KR-EylIDe"
      }
    },
    {
      "cell_type": "code",
      "source": [
        "df['likeCount'].hist(bins=50)"
      ],
      "metadata": {
        "colab": {
          "base_uri": "https://localhost:8080/",
          "height": 465
        },
        "id": "CqAfhbNglKY_",
        "outputId": "91a5380d-c650-4b4b-d34f-4959779b2bf5"
      },
      "execution_count": null,
      "outputs": [
        {
          "output_type": "execute_result",
          "data": {
            "text/plain": [
              "<Axes: >"
            ]
          },
          "metadata": {},
          "execution_count": 22
        },
        {
          "output_type": "display_data",
          "data": {
            "text/plain": [
              "<Figure size 640x480 with 1 Axes>"
            ],
            "image/png": "[encoded data removed]"
          },
          "metadata": {}
        }
      ]
    },
    {
      "cell_type": "code",
      "source": [
        "df['likeCount'].hist(bins=50, density=True)"
      ],
      "metadata": {
        "colab": {
          "base_uri": "https://localhost:8080/",
          "height": 480
        },
        "id": "1JOvrvLCltMV",
        "outputId": "44100394-b640-424c-9d9a-71c576d5eaae"
      },
      "execution_count": null,
      "outputs": [
        {
          "output_type": "execute_result",
          "data": {
            "text/plain": [
              "<Axes: >"
            ]
          },
          "metadata": {},
          "execution_count": 25
        },
        {
          "output_type": "display_data",
          "data": {
            "text/plain": [
              "<Figure size 640x480 with 1 Axes>"
            ],
            "image/png": "[encoded data removed]"
          },
          "metadata": {}
        }
      ]
    },
    {
      "cell_type": "code",
      "source": [
        "# Чтоб лучше разглядеть выбросы, перейдём к логарифмической шкале\n",
        "df['likeCount'].hist(bins=50, log=True)"
      ],
      "metadata": {
        "colab": {
          "base_uri": "https://localhost:8080/",
          "height": 465
        },
        "id": "wXfKNKUElURz",
        "outputId": "7931a60a-2ac8-470a-c230-884468f08654"
      },
      "execution_count": null,
      "outputs": [
        {
          "output_type": "execute_result",
          "data": {
            "text/plain": [
              "<Axes: >"
            ]
          },
          "metadata": {},
          "execution_count": 27
        },
        {
          "output_type": "display_data",
          "data": {
            "text/plain": [
              "<Figure size 640x480 with 1 Axes>"
            ],
            "image/png": "[encoded data removed]"
          },
          "metadata": {}
        }
      ]
    },
    {
      "cell_type": "markdown",
      "source": [
        "Меры разброса"
      ],
      "metadata": {
        "id": "cZ2DQvQ-mYlw"
      }
    },
    {
      "cell_type": "code",
      "source": [
        "# дисперсия\n",
        "df['likeCount'].var(ddof=0)"
      ],
      "metadata": {
        "colab": {
          "base_uri": "https://localhost:8080/"
        },
        "id": "O_JwcXmlmapG",
        "outputId": "aa49412d-b37e-4267-80a5-925e8d0eec3c"
      },
      "execution_count": null,
      "outputs": [
        {
          "output_type": "execute_result",
          "data": {
            "text/plain": [
              "1513365309.7446709"
            ]
          },
          "metadata": {},
          "execution_count": 28
        }
      ]
    },
    {
      "cell_type": "code",
      "source": [
        "df['likeCount'].var(ddof=1) # несмещённый вариант"
      ],
      "metadata": {
        "colab": {
          "base_uri": "https://localhost:8080/"
        },
        "id": "6oiw3lfqmgXy",
        "outputId": "b9cd8e2f-496c-450a-9900-7a96bc643d57"
      },
      "execution_count": null,
      "outputs": [
        {
          "output_type": "execute_result",
          "data": {
            "text/plain": [
              "1513445598.6358452"
            ]
          },
          "metadata": {},
          "execution_count": 29
        }
      ]
    },
    {
      "cell_type": "code",
      "source": [
        "# стандартное отклонение\n",
        "df['likeCount'].std(ddof=0)"
      ],
      "metadata": {
        "colab": {
          "base_uri": "https://localhost:8080/"
        },
        "id": "gJJib6vQmq0J",
        "outputId": "feedebd5-b9d0-4d19-8215-b2b92d031afe"
      },
      "execution_count": null,
      "outputs": [
        {
          "output_type": "execute_result",
          "data": {
            "text/plain": [
              "38901.99621799209"
            ]
          },
          "metadata": {},
          "execution_count": 30
        }
      ]
    },
    {
      "cell_type": "code",
      "source": [
        "df['likeCount'].std(ddof=1) # несмещённый вариант"
      ],
      "metadata": {
        "colab": {
          "base_uri": "https://localhost:8080/"
        },
        "id": "XMVULHHdmuPy",
        "outputId": "72e3362e-bcea-460f-cec4-9a23c4533338"
      },
      "execution_count": null,
      "outputs": [
        {
          "output_type": "execute_result",
          "data": {
            "text/plain": [
              "38903.02814223907"
            ]
          },
          "metadata": {},
          "execution_count": 31
        }
      ]
    },
    {
      "cell_type": "markdown",
      "source": [
        "Квантили"
      ],
      "metadata": {
        "id": "puEZvTkvm8Gt"
      }
    },
    {
      "cell_type": "code",
      "source": [
        "df['likeCount'].quantile(0.99)"
      ],
      "metadata": {
        "colab": {
          "base_uri": "https://localhost:8080/"
        },
        "id": "_47WDLVRm9wW",
        "outputId": "f8e1c7e4-51c2-49a4-bede-1642896b10ce"
      },
      "execution_count": null,
      "outputs": [
        {
          "output_type": "execute_result",
          "data": {
            "text/plain": [
              "128146.6499999979"
            ]
          },
          "metadata": {},
          "execution_count": 33
        }
      ]
    },
    {
      "cell_type": "markdown",
      "source": [
        "Выходит, что у 99% видео из выборки меньше 128146 лайков, а у 1% - больше"
      ],
      "metadata": {
        "id": "Rc0_LUfEnOLo"
      }
    },
    {
      "cell_type": "code",
      "source": [
        "q = df['likeCount'].quantile(0.99)\n",
        "x = df[df['likeCount'] > q].music_style\n",
        "x.value_counts"
      ],
      "metadata": {
        "colab": {
          "base_uri": "https://localhost:8080/"
        },
        "id": "0WqjG1Ecnc3H",
        "outputId": "8239f979-50c1-4b8d-a884-f15ae31d2411"
      },
      "execution_count": null,
      "outputs": [
        {
          "output_type": "execute_result",
          "data": {
            "text/plain": [
              "<bound method IndexOpsMixin.value_counts of 186      popsa\n",
              "205      popsa\n",
              "288        rap\n",
              "305      popsa\n",
              "306      popsa\n",
              "         ...  \n",
              "18672      rap\n",
              "18680      rap\n",
              "18692      rap\n",
              "18693      rap\n",
              "18698      rap\n",
              "Name: music_style, Length: 189, dtype: object>"
            ]
          },
          "metadata": {},
          "execution_count": 37
        }
      ]
    },
    {
      "cell_type": "markdown",
      "source": [
        "ВСЁ И СРАЗУ"
      ],
      "metadata": {
        "id": "eGuEwYHLon43"
      }
    },
    {
      "cell_type": "code",
      "source": [
        "df.describe()"
      ],
      "metadata": {
        "colab": {
          "base_uri": "https://localhost:8080/",
          "height": 320
        },
        "id": "vhnM9himoprv",
        "outputId": "a090106d-bb40-4f6c-e38c-8fb12b190a52"
      },
      "execution_count": null,
      "outputs": [
        {
          "output_type": "execute_result",
          "data": {
            "text/plain": [
              "        commentCount   dislikeCount     likeCount     viewCount  \\\n",
              "count   18914.000000   18850.000000  1.885000e+04  1.912300e+04   \n",
              "mean      394.026065     745.344297  5.735014e+03  8.436486e+05   \n",
              "std      4200.463284    9339.777800  3.890303e+04  6.382348e+06   \n",
              "min         0.000000       0.000000  0.000000e+00  0.000000e+00   \n",
              "25%         0.000000       1.000000  1.800000e+01  1.915000e+03   \n",
              "50%         5.000000       5.000000  1.000000e+02  1.135300e+04   \n",
              "75%        35.000000      38.000000  6.367500e+02  8.180900e+04   \n",
              "max    303077.000000  640698.000000  1.686810e+06  2.720477e+08   \n",
              "\n",
              "       commentators_uniq  comments_obscene_cnt     video_age  \n",
              "count       12314.000000          12314.000000  19124.000000  \n",
              "mean          131.594608              8.952899   1389.772642  \n",
              "std           333.584804             37.887947   1054.261698  \n",
              "min             1.000000              0.000000      0.000000  \n",
              "25%             4.000000              0.000000    378.000000  \n",
              "50%            13.000000              0.000000   1213.000000  \n",
              "75%            61.000000              2.000000   2218.000000  \n",
              "max          3702.000000            693.000000   4574.000000  "
            ],
            "text/html": [
              "\n",
              "  <div id=\"df-f6f1877a-5fad-4548-9d6a-f23a6b40b7b5\" class=\"colab-df-container\">\n",
              "    <div>\n",
              "<style scoped>\n",
              "    .dataframe tbody tr th:only-of-type {\n",
              "        vertical-align: middle;\n",
              "    }\n",
              "\n",
              "    .dataframe tbody tr th {\n",
              "        vertical-align: top;\n",
              "    }\n",
              "\n",
              "    .dataframe thead th {\n",
              "        text-align: right;\n",
              "    }\n",
              "</style>\n",
              "<table border=\"1\" class=\"dataframe\">\n",
              "  <thead>\n",
              "    <tr style=\"text-align: right;\">\n",
              "      <th></th>\n",
              "      <th>commentCount</th>\n",
              "      <th>dislikeCount</th>\n",
              "      <th>likeCount</th>\n",
              "      <th>viewCount</th>\n",
              "      <th>commentators_uniq</th>\n",
              "      <th>comments_obscene_cnt</th>\n",
              "      <th>video_age</th>\n",
              "    </tr>\n",
              "  </thead>\n",
              "  <tbody>\n",
              "    <tr>\n",
              "      <th>count</th>\n",
              "      <td>18914.000000</td>\n",
              "      <td>18850.000000</td>\n",
              "      <td>1.885000e+04</td>\n",
              "      <td>1.912300e+04</td>\n",
              "      <td>12314.000000</td>\n",
              "      <td>12314.000000</td>\n",
              "      <td>19124.000000</td>\n",
              "    </tr>\n",
              "    <tr>\n",
              "      <th>mean</th>\n",
              "      <td>394.026065</td>\n",
              "      <td>745.344297</td>\n",
              "      <td>5.735014e+03</td>\n",
              "      <td>8.436486e+05</td>\n",
              "      <td>131.594608</td>\n",
              "      <td>8.952899</td>\n",
              "      <td>1389.772642</td>\n",
              "    </tr>\n",
              "    <tr>\n",
              "      <th>std</th>\n",
              "      <td>4200.463284</td>\n",
              "      <td>9339.777800</td>\n",
              "      <td>3.890303e+04</td>\n",
              "      <td>6.382348e+06</td>\n",
              "      <td>333.584804</td>\n",
              "      <td>37.887947</td>\n",
              "      <td>1054.261698</td>\n",
              "    </tr>\n",
              "    <tr>\n",
              "      <th>min</th>\n",
              "      <td>0.000000</td>\n",
              "      <td>0.000000</td>\n",
              "      <td>0.000000e+00</td>\n",
              "      <td>0.000000e+00</td>\n",
              "      <td>1.000000</td>\n",
              "      <td>0.000000</td>\n",
              "      <td>0.000000</td>\n",
              "    </tr>\n",
              "    <tr>\n",
              "      <th>25%</th>\n",
              "      <td>0.000000</td>\n",
              "      <td>1.000000</td>\n",
              "      <td>1.800000e+01</td>\n",
              "      <td>1.915000e+03</td>\n",
              "      <td>4.000000</td>\n",
              "      <td>0.000000</td>\n",
              "      <td>378.000000</td>\n",
              "    </tr>\n",
              "    <tr>\n",
              "      <th>50%</th>\n",
              "      <td>5.000000</td>\n",
              "      <td>5.000000</td>\n",
              "      <td>1.000000e+02</td>\n",
              "      <td>1.135300e+04</td>\n",
              "      <td>13.000000</td>\n",
              "      <td>0.000000</td>\n",
              "      <td>1213.000000</td>\n",
              "    </tr>\n",
              "    <tr>\n",
              "      <th>75%</th>\n",
              "      <td>35.000000</td>\n",
              "      <td>38.000000</td>\n",
              "      <td>6.367500e+02</td>\n",
              "      <td>8.180900e+04</td>\n",
              "      <td>61.000000</td>\n",
              "      <td>2.000000</td>\n",
              "      <td>2218.000000</td>\n",
              "    </tr>\n",
              "    <tr>\n",
              "      <th>max</th>\n",
              "      <td>303077.000000</td>\n",
              "      <td>640698.000000</td>\n",
              "      <td>1.686810e+06</td>\n",
              "      <td>2.720477e+08</td>\n",
              "      <td>3702.000000</td>\n",
              "      <td>693.000000</td>\n",
              "      <td>4574.000000</td>\n",
              "    </tr>\n",
              "  </tbody>\n",
              "</table>\n",
              "</div>\n",
              "    <div class=\"colab-df-buttons\">\n",
              "\n",
              "  <div class=\"colab-df-container\">\n",
              "    <button class=\"colab-df-convert\" onclick=\"convertToInteractive('df-f6f1877a-5fad-4548-9d6a-f23a6b40b7b5')\"\n",
              "            title=\"Convert this dataframe to an interactive table.\"\n",
              "            style=\"display:none;\">\n",
              "\n",
              "  <svg xmlns=\"http://www.w3.org/2000/svg\" height=\"24px\" viewBox=\"0 -960 960 960\">\n",
              "    <path d=\"M120-120v-720h720v720H120Zm60-500h600v-160H180v160Zm220 220h160v-160H400v160Zm0 220h160v-160H400v160ZM180-400h160v-160H180v160Zm440 0h160v-160H620v160ZM180-180h160v-160H180v160Zm440 0h160v-160H620v160Z\"/>\n",
              "  </svg>\n",
              "    </button>\n",
              "\n",
              "  <style>\n",
              "    .colab-df-container {\n",
              "      display:flex;\n",
              "      gap: 12px;\n",
              "    }\n",
              "\n",
              "    .colab-df-convert {\n",
              "      background-color: #E8F0FE;\n",
              "      border: none;\n",
              "      border-radius: 50%;\n",
              "      cursor: pointer;\n",
              "      display: none;\n",
              "      fill: #1967D2;\n",
              "      height: 32px;\n",
              "      padding: 0 0 0 0;\n",
              "      width: 32px;\n",
              "    }\n",
              "\n",
              "    .colab-df-convert:hover {\n",
              "      background-color: #E2EBFA;\n",
              "      box-shadow: 0px 1px 2px rgba(60, 64, 67, 0.3), 0px 1px 3px 1px rgba(60, 64, 67, 0.15);\n",
              "      fill: #174EA6;\n",
              "    }\n",
              "\n",
              "    .colab-df-buttons div {\n",
              "      margin-bottom: 4px;\n",
              "    }\n",
              "\n",
              "    [theme=dark] .colab-df-convert {\n",
              "      background-color: #3B4455;\n",
              "      fill: #D2E3FC;\n",
              "    }\n",
              "\n",
              "    [theme=dark] .colab-df-convert:hover {\n",
              "      background-color: #434B5C;\n",
              "      box-shadow: 0px 1px 3px 1px rgba(0, 0, 0, 0.15);\n",
              "      filter: drop-shadow(0px 1px 2px rgba(0, 0, 0, 0.3));\n",
              "      fill: #FFFFFF;\n",
              "    }\n",
              "  </style>\n",
              "\n",
              "    <script>\n",
              "      const buttonEl =\n",
              "        document.querySelector('#df-f6f1877a-5fad-4548-9d6a-f23a6b40b7b5 button.colab-df-convert');\n",
              "      buttonEl.style.display =\n",
              "        google.colab.kernel.accessAllowed ? 'block' : 'none';\n",
              "\n",
              "      async function convertToInteractive(key) {\n",
              "        const element = document.querySelector('#df-f6f1877a-5fad-4548-9d6a-f23a6b40b7b5');\n",
              "        const dataTable =\n",
              "          await google.colab.kernel.invokeFunction('convertToInteractive',\n",
              "                                                    [key], {});\n",
              "        if (!dataTable) return;\n",
              "\n",
              "        const docLinkHtml = 'Like what you see? Visit the ' +\n",
              "          '<a target=\"_blank\" href=https://colab.research.google.com/notebooks/data_table.ipynb>data table notebook</a>'\n",
              "          + ' to learn more about interactive tables.';\n",
              "        element.innerHTML = '';\n",
              "        dataTable['output_type'] = 'display_data';\n",
              "        await google.colab.output.renderOutput(dataTable, element);\n",
              "        const docLink = document.createElement('div');\n",
              "        docLink.innerHTML = docLinkHtml;\n",
              "        element.appendChild(docLink);\n",
              "      }\n",
              "    </script>\n",
              "  </div>\n",
              "\n",
              "\n",
              "<div id=\"df-668a0d48-6b30-4f6b-9c36-ffe53492b5ab\">\n",
              "  <button class=\"colab-df-quickchart\" onclick=\"quickchart('df-668a0d48-6b30-4f6b-9c36-ffe53492b5ab')\"\n",
              "            title=\"Suggest charts\"\n",
              "            style=\"display:none;\">\n",
              "\n",
              "<svg xmlns=\"http://www.w3.org/2000/svg\" height=\"24px\"viewBox=\"0 0 24 24\"\n",
              "     width=\"24px\">\n",
              "    <g>\n",
              "        <path d=\"M19 3H5c-1.1 0-2 .9-2 2v14c0 1.1.9 2 2 2h14c1.1 0 2-.9 2-2V5c0-1.1-.9-2-2-2zM9 17H7v-7h2v7zm4 0h-2V7h2v10zm4 0h-2v-4h2v4z\"/>\n",
              "    </g>\n",
              "</svg>\n",
              "  </button>\n",
              "\n",
              "<style>\n",
              "  .colab-df-quickchart {\n",
              "      --bg-color: #E8F0FE;\n",
              "      --fill-color: #1967D2;\n",
              "      --hover-bg-color: #E2EBFA;\n",
              "      --hover-fill-color: #174EA6;\n",
              "      --disabled-fill-color: #AAA;\n",
              "      --disabled-bg-color: #DDD;\n",
              "  }\n",
              "\n",
              "  [theme=dark] .colab-df-quickchart {\n",
              "      --bg-color: #3B4455;\n",
              "      --fill-color: #D2E3FC;\n",
              "      --hover-bg-color: #434B5C;\n",
              "      --hover-fill-color: #FFFFFF;\n",
              "      --disabled-bg-color: #3B4455;\n",
              "      --disabled-fill-color: #666;\n",
              "  }\n",
              "\n",
              "  .colab-df-quickchart {\n",
              "    background-color: var(--bg-color);\n",
              "    border: none;\n",
              "    border-radius: 50%;\n",
              "    cursor: pointer;\n",
              "    display: none;\n",
              "    fill: var(--fill-color);\n",
              "    height: 32px;\n",
              "    padding: 0;\n",
              "    width: 32px;\n",
              "  }\n",
              "\n",
              "  .colab-df-quickchart:hover {\n",
              "    background-color: var(--hover-bg-color);\n",
              "    box-shadow: 0 1px 2px rgba(60, 64, 67, 0.3), 0 1px 3px 1px rgba(60, 64, 67, 0.15);\n",
              "    fill: var(--button-hover-fill-color);\n",
              "  }\n",
              "\n",
              "  .colab-df-quickchart-complete:disabled,\n",
              "  .colab-df-quickchart-complete:disabled:hover {\n",
              "    background-color: var(--disabled-bg-color);\n",
              "    fill: var(--disabled-fill-color);\n",
              "    box-shadow: none;\n",
              "  }\n",
              "\n",
              "  .colab-df-spinner {\n",
              "    border: 2px solid var(--fill-color);\n",
              "    border-color: transparent;\n",
              "    border-bottom-color: var(--fill-color);\n",
              "    animation:\n",
              "      spin 1s steps(1) infinite;\n",
              "  }\n",
              "\n",
              "  @keyframes spin {\n",
              "    0% {\n",
              "      border-color: transparent;\n",
              "      border-bottom-color: var(--fill-color);\n",
              "      border-left-color: var(--fill-color);\n",
              "    }\n",
              "    20% {\n",
              "      border-color: transparent;\n",
              "      border-left-color: var(--fill-color);\n",
              "      border-top-color: var(--fill-color);\n",
              "    }\n",
              "    30% {\n",
              "      border-color: transparent;\n",
              "      border-left-color: var(--fill-color);\n",
              "      border-top-color: var(--fill-color);\n",
              "      border-right-color: var(--fill-color);\n",
              "    }\n",
              "    40% {\n",
              "      border-color: transparent;\n",
              "      border-right-color: var(--fill-color);\n",
              "      border-top-color: var(--fill-color);\n",
              "    }\n",
              "    60% {\n",
              "      border-color: transparent;\n",
              "      border-right-color: var(--fill-color);\n",
              "    }\n",
              "    80% {\n",
              "      border-color: transparent;\n",
              "      border-right-color: var(--fill-color);\n",
              "      border-bottom-color: var(--fill-color);\n",
              "    }\n",
              "    90% {\n",
              "      border-color: transparent;\n",
              "      border-bottom-color: var(--fill-color);\n",
              "    }\n",
              "  }\n",
              "</style>\n",
              "\n",
              "  <script>\n",
              "    async function quickchart(key) {\n",
              "      const quickchartButtonEl =\n",
              "        document.querySelector('#' + key + ' button');\n",
              "      quickchartButtonEl.disabled = true;  // To prevent multiple clicks.\n",
              "      quickchartButtonEl.classList.add('colab-df-spinner');\n",
              "      try {\n",
              "        const charts = await google.colab.kernel.invokeFunction(\n",
              "            'suggestCharts', [key], {});\n",
              "      } catch (error) {\n",
              "        console.error('Error during call to suggestCharts:', error);\n",
              "      }\n",
              "      quickchartButtonEl.classList.remove('colab-df-spinner');\n",
              "      quickchartButtonEl.classList.add('colab-df-quickchart-complete');\n",
              "    }\n",
              "    (() => {\n",
              "      let quickchartButtonEl =\n",
              "        document.querySelector('#df-668a0d48-6b30-4f6b-9c36-ffe53492b5ab button');\n",
              "      quickchartButtonEl.style.display =\n",
              "        google.colab.kernel.accessAllowed ? 'block' : 'none';\n",
              "    })();\n",
              "  </script>\n",
              "</div>\n",
              "    </div>\n",
              "  </div>\n"
            ]
          },
          "metadata": {},
          "execution_count": 38
        }
      ]
    },
    {
      "cell_type": "code",
      "source": [
        "df.describe(include='object')"
      ],
      "metadata": {
        "colab": {
          "base_uri": "https://localhost:8080/",
          "height": 175
        },
        "id": "ULiSkU0do7X1",
        "outputId": "f719ada6-a690-4043-e227-ae1eb7df562f"
      },
      "execution_count": null,
      "outputs": [
        {
          "output_type": "execute_result",
          "data": {
            "text/plain": [
              "                                                    title music_style  \\\n",
              "count                                               19124       19124   \n",
              "unique                                              18029           7   \n",
              "top     Алексей Кортнев и Валдис Пельш в проекте «Две ...        rock   \n",
              "freq                                                   11        5888   \n",
              "\n",
              "       performer  \n",
              "count      19124  \n",
              "unique       111  \n",
              "top     николаев  \n",
              "freq         566  "
            ],
            "text/html": [
              "\n",
              "  <div id=\"df-dd79291c-f2eb-4d6a-9adb-b6ab584bda29\" class=\"colab-df-container\">\n",
              "    <div>\n",
              "<style scoped>\n",
              "    .dataframe tbody tr th:only-of-type {\n",
              "        vertical-align: middle;\n",
              "    }\n",
              "\n",
              "    .dataframe tbody tr th {\n",
              "        vertical-align: top;\n",
              "    }\n",
              "\n",
              "    .dataframe thead th {\n",
              "        text-align: right;\n",
              "    }\n",
              "</style>\n",
              "<table border=\"1\" class=\"dataframe\">\n",
              "  <thead>\n",
              "    <tr style=\"text-align: right;\">\n",
              "      <th></th>\n",
              "      <th>title</th>\n",
              "      <th>music_style</th>\n",
              "      <th>performer</th>\n",
              "    </tr>\n",
              "  </thead>\n",
              "  <tbody>\n",
              "    <tr>\n",
              "      <th>count</th>\n",
              "      <td>19124</td>\n",
              "      <td>19124</td>\n",
              "      <td>19124</td>\n",
              "    </tr>\n",
              "    <tr>\n",
              "      <th>unique</th>\n",
              "      <td>18029</td>\n",
              "      <td>7</td>\n",
              "      <td>111</td>\n",
              "    </tr>\n",
              "    <tr>\n",
              "      <th>top</th>\n",
              "      <td>Алексей Кортнев и Валдис Пельш в проекте «Две ...</td>\n",
              "      <td>rock</td>\n",
              "      <td>николаев</td>\n",
              "    </tr>\n",
              "    <tr>\n",
              "      <th>freq</th>\n",
              "      <td>11</td>\n",
              "      <td>5888</td>\n",
              "      <td>566</td>\n",
              "    </tr>\n",
              "  </tbody>\n",
              "</table>\n",
              "</div>\n",
              "    <div class=\"colab-df-buttons\">\n",
              "\n",
              "  <div class=\"colab-df-container\">\n",
              "    <button class=\"colab-df-convert\" onclick=\"convertToInteractive('df-dd79291c-f2eb-4d6a-9adb-b6ab584bda29')\"\n",
              "            title=\"Convert this dataframe to an interactive table.\"\n",
              "            style=\"display:none;\">\n",
              "\n",
              "  <svg xmlns=\"http://www.w3.org/2000/svg\" height=\"24px\" viewBox=\"0 -960 960 960\">\n",
              "    <path d=\"M120-120v-720h720v720H120Zm60-500h600v-160H180v160Zm220 220h160v-160H400v160Zm0 220h160v-160H400v160ZM180-400h160v-160H180v160Zm440 0h160v-160H620v160ZM180-180h160v-160H180v160Zm440 0h160v-160H620v160Z\"/>\n",
              "  </svg>\n",
              "    </button>\n",
              "\n",
              "  <style>\n",
              "    .colab-df-container {\n",
              "      display:flex;\n",
              "      gap: 12px;\n",
              "    }\n",
              "\n",
              "    .colab-df-convert {\n",
              "      background-color: #E8F0FE;\n",
              "      border: none;\n",
              "      border-radius: 50%;\n",
              "      cursor: pointer;\n",
              "      display: none;\n",
              "      fill: #1967D2;\n",
              "      height: 32px;\n",
              "      padding: 0 0 0 0;\n",
              "      width: 32px;\n",
              "    }\n",
              "\n",
              "    .colab-df-convert:hover {\n",
              "      background-color: #E2EBFA;\n",
              "      box-shadow: 0px 1px 2px rgba(60, 64, 67, 0.3), 0px 1px 3px 1px rgba(60, 64, 67, 0.15);\n",
              "      fill: #174EA6;\n",
              "    }\n",
              "\n",
              "    .colab-df-buttons div {\n",
              "      margin-bottom: 4px;\n",
              "    }\n",
              "\n",
              "    [theme=dark] .colab-df-convert {\n",
              "      background-color: #3B4455;\n",
              "      fill: #D2E3FC;\n",
              "    }\n",
              "\n",
              "    [theme=dark] .colab-df-convert:hover {\n",
              "      background-color: #434B5C;\n",
              "      box-shadow: 0px 1px 3px 1px rgba(0, 0, 0, 0.15);\n",
              "      filter: drop-shadow(0px 1px 2px rgba(0, 0, 0, 0.3));\n",
              "      fill: #FFFFFF;\n",
              "    }\n",
              "  </style>\n",
              "\n",
              "    <script>\n",
              "      const buttonEl =\n",
              "        document.querySelector('#df-dd79291c-f2eb-4d6a-9adb-b6ab584bda29 button.colab-df-convert');\n",
              "      buttonEl.style.display =\n",
              "        google.colab.kernel.accessAllowed ? 'block' : 'none';\n",
              "\n",
              "      async function convertToInteractive(key) {\n",
              "        const element = document.querySelector('#df-dd79291c-f2eb-4d6a-9adb-b6ab584bda29');\n",
              "        const dataTable =\n",
              "          await google.colab.kernel.invokeFunction('convertToInteractive',\n",
              "                                                    [key], {});\n",
              "        if (!dataTable) return;\n",
              "\n",
              "        const docLinkHtml = 'Like what you see? Visit the ' +\n",
              "          '<a target=\"_blank\" href=https://colab.research.google.com/notebooks/data_table.ipynb>data table notebook</a>'\n",
              "          + ' to learn more about interactive tables.';\n",
              "        element.innerHTML = '';\n",
              "        dataTable['output_type'] = 'display_data';\n",
              "        await google.colab.output.renderOutput(dataTable, element);\n",
              "        const docLink = document.createElement('div');\n",
              "        docLink.innerHTML = docLinkHtml;\n",
              "        element.appendChild(docLink);\n",
              "      }\n",
              "    </script>\n",
              "  </div>\n",
              "\n",
              "\n",
              "<div id=\"df-9f78207b-7193-47e1-a315-98faaf20df95\">\n",
              "  <button class=\"colab-df-quickchart\" onclick=\"quickchart('df-9f78207b-7193-47e1-a315-98faaf20df95')\"\n",
              "            title=\"Suggest charts\"\n",
              "            style=\"display:none;\">\n",
              "\n",
              "<svg xmlns=\"http://www.w3.org/2000/svg\" height=\"24px\"viewBox=\"0 0 24 24\"\n",
              "     width=\"24px\">\n",
              "    <g>\n",
              "        <path d=\"M19 3H5c-1.1 0-2 .9-2 2v14c0 1.1.9 2 2 2h14c1.1 0 2-.9 2-2V5c0-1.1-.9-2-2-2zM9 17H7v-7h2v7zm4 0h-2V7h2v10zm4 0h-2v-4h2v4z\"/>\n",
              "    </g>\n",
              "</svg>\n",
              "  </button>\n",
              "\n",
              "<style>\n",
              "  .colab-df-quickchart {\n",
              "      --bg-color: #E8F0FE;\n",
              "      --fill-color: #1967D2;\n",
              "      --hover-bg-color: #E2EBFA;\n",
              "      --hover-fill-color: #174EA6;\n",
              "      --disabled-fill-color: #AAA;\n",
              "      --disabled-bg-color: #DDD;\n",
              "  }\n",
              "\n",
              "  [theme=dark] .colab-df-quickchart {\n",
              "      --bg-color: #3B4455;\n",
              "      --fill-color: #D2E3FC;\n",
              "      --hover-bg-color: #434B5C;\n",
              "      --hover-fill-color: #FFFFFF;\n",
              "      --disabled-bg-color: #3B4455;\n",
              "      --disabled-fill-color: #666;\n",
              "  }\n",
              "\n",
              "  .colab-df-quickchart {\n",
              "    background-color: var(--bg-color);\n",
              "    border: none;\n",
              "    border-radius: 50%;\n",
              "    cursor: pointer;\n",
              "    display: none;\n",
              "    fill: var(--fill-color);\n",
              "    height: 32px;\n",
              "    padding: 0;\n",
              "    width: 32px;\n",
              "  }\n",
              "\n",
              "  .colab-df-quickchart:hover {\n",
              "    background-color: var(--hover-bg-color);\n",
              "    box-shadow: 0 1px 2px rgba(60, 64, 67, 0.3), 0 1px 3px 1px rgba(60, 64, 67, 0.15);\n",
              "    fill: var(--button-hover-fill-color);\n",
              "  }\n",
              "\n",
              "  .colab-df-quickchart-complete:disabled,\n",
              "  .colab-df-quickchart-complete:disabled:hover {\n",
              "    background-color: var(--disabled-bg-color);\n",
              "    fill: var(--disabled-fill-color);\n",
              "    box-shadow: none;\n",
              "  }\n",
              "\n",
              "  .colab-df-spinner {\n",
              "    border: 2px solid var(--fill-color);\n",
              "    border-color: transparent;\n",
              "    border-bottom-color: var(--fill-color);\n",
              "    animation:\n",
              "      spin 1s steps(1) infinite;\n",
              "  }\n",
              "\n",
              "  @keyframes spin {\n",
              "    0% {\n",
              "      border-color: transparent;\n",
              "      border-bottom-color: var(--fill-color);\n",
              "      border-left-color: var(--fill-color);\n",
              "    }\n",
              "    20% {\n",
              "      border-color: transparent;\n",
              "      border-left-color: var(--fill-color);\n",
              "      border-top-color: var(--fill-color);\n",
              "    }\n",
              "    30% {\n",
              "      border-color: transparent;\n",
              "      border-left-color: var(--fill-color);\n",
              "      border-top-color: var(--fill-color);\n",
              "      border-right-color: var(--fill-color);\n",
              "    }\n",
              "    40% {\n",
              "      border-color: transparent;\n",
              "      border-right-color: var(--fill-color);\n",
              "      border-top-color: var(--fill-color);\n",
              "    }\n",
              "    60% {\n",
              "      border-color: transparent;\n",
              "      border-right-color: var(--fill-color);\n",
              "    }\n",
              "    80% {\n",
              "      border-color: transparent;\n",
              "      border-right-color: var(--fill-color);\n",
              "      border-bottom-color: var(--fill-color);\n",
              "    }\n",
              "    90% {\n",
              "      border-color: transparent;\n",
              "      border-bottom-color: var(--fill-color);\n",
              "    }\n",
              "  }\n",
              "</style>\n",
              "\n",
              "  <script>\n",
              "    async function quickchart(key) {\n",
              "      const quickchartButtonEl =\n",
              "        document.querySelector('#' + key + ' button');\n",
              "      quickchartButtonEl.disabled = true;  // To prevent multiple clicks.\n",
              "      quickchartButtonEl.classList.add('colab-df-spinner');\n",
              "      try {\n",
              "        const charts = await google.colab.kernel.invokeFunction(\n",
              "            'suggestCharts', [key], {});\n",
              "      } catch (error) {\n",
              "        console.error('Error during call to suggestCharts:', error);\n",
              "      }\n",
              "      quickchartButtonEl.classList.remove('colab-df-spinner');\n",
              "      quickchartButtonEl.classList.add('colab-df-quickchart-complete');\n",
              "    }\n",
              "    (() => {\n",
              "      let quickchartButtonEl =\n",
              "        document.querySelector('#df-9f78207b-7193-47e1-a315-98faaf20df95 button');\n",
              "      quickchartButtonEl.style.display =\n",
              "        google.colab.kernel.accessAllowed ? 'block' : 'none';\n",
              "    })();\n",
              "  </script>\n",
              "</div>\n",
              "    </div>\n",
              "  </div>\n"
            ]
          },
          "metadata": {},
          "execution_count": 39
        }
      ]
    },
    {
      "cell_type": "markdown",
      "source": [
        "## 3. Группировка"
      ],
      "metadata": {
        "id": "JejKGHy5pR8l"
      }
    },
    {
      "cell_type": "markdown",
      "source": [
        "Посчитаем среднее число лайков для рэпчины"
      ],
      "metadata": {
        "id": "jvqI9MAMpgs7"
      }
    },
    {
      "cell_type": "code",
      "source": [
        "df[df['music_style'] == 'rap']"
      ],
      "metadata": {
        "colab": {
          "base_uri": "https://localhost:8080/",
          "height": 686
        },
        "id": "vvxFdVXvqJ0Z",
        "outputId": "f422bb16-2a49-48d7-c224-9985a5727ace"
      },
      "execution_count": null,
      "outputs": [
        {
          "output_type": "execute_result",
          "data": {
            "text/plain": [
              "                                                   title  commentCount  \\\n",
              "232                   #BSM - Будь собой (official video)         156.0   \n",
              "233                            #BSM - Будь собой (track)          24.0   \n",
              "234                                     #BSM COMING SOON          27.0   \n",
              "235                                       #GazgolderLive           0.0   \n",
              "236                                       #GazgolderLive           0.0   \n",
              "...                                                  ...           ...   \n",
              "19034                                  бтл булгари федук          12.0   \n",
              "19047             г.Неаполь, Италия 2010 год Карина Кокс           6.0   \n",
              "19078                                       летний фрист          13.0   \n",
              "19101  презентация альбома Тимати The Boss в Киеве (У...           3.0   \n",
              "19121                                    モスクワライブショー ' 17        4872.0   \n",
              "\n",
              "       dislikeCount  likeCount music_style  performer  viewCount  \\\n",
              "232          1033.0     1859.0         rap     тимати   558557.0   \n",
              "233            95.0      230.0         rap     тимати    60981.0   \n",
              "234            52.0      225.0         rap     тимати    68296.0   \n",
              "235            38.0      108.0         rap  gazgolder        0.0   \n",
              "236            49.0      264.0         rap  gazgolder        0.0   \n",
              "...             ...        ...         ...        ...        ...   \n",
              "19034           4.0      117.0         rap      feduk    14137.0   \n",
              "19047           5.0       31.0         rap     тимати    21319.0   \n",
              "19078           7.0      119.0         rap      feduk     9129.0   \n",
              "19101           7.0       29.0         rap     тимати    14927.0   \n",
              "19121       15494.0    30603.0         rap     элджей  1187340.0   \n",
              "\n",
              "       commentators_uniq  comments_obscene_cnt  video_age  \n",
              "232                128.0                  20.0       2689  \n",
              "233                 22.0                   0.0       2699  \n",
              "234                 19.0                   2.0       2713  \n",
              "235                  NaN                   NaN        377  \n",
              "236                  NaN                   NaN        378  \n",
              "...                  ...                   ...        ...  \n",
              "19034               10.0                   0.0       2745  \n",
              "19047                NaN                   NaN       3074  \n",
              "19078                9.0                   0.0       2560  \n",
              "19101                2.0                   0.0       3319  \n",
              "19121             1788.0                 352.0        339  \n",
              "\n",
              "[2028 rows x 10 columns]"
            ],
            "text/html": [
              "\n",
              "  <div id=\"df-48d58f8d-2c7e-41ab-a6c1-672ef80286a9\" class=\"colab-df-container\">\n",
              "    <div>\n",
              "<style scoped>\n",
              "    .dataframe tbody tr th:only-of-type {\n",
              "        vertical-align: middle;\n",
              "    }\n",
              "\n",
              "    .dataframe tbody tr th {\n",
              "        vertical-align: top;\n",
              "    }\n",
              "\n",
              "    .dataframe thead th {\n",
              "        text-align: right;\n",
              "    }\n",
              "</style>\n",
              "<table border=\"1\" class=\"dataframe\">\n",
              "  <thead>\n",
              "    <tr style=\"text-align: right;\">\n",
              "      <th></th>\n",
              "      <th>title</th>\n",
              "      <th>commentCount</th>\n",
              "      <th>dislikeCount</th>\n",
              "      <th>likeCount</th>\n",
              "      <th>music_style</th>\n",
              "      <th>performer</th>\n",
              "      <th>viewCount</th>\n",
              "      <th>commentators_uniq</th>\n",
              "      <th>comments_obscene_cnt</th>\n",
              "      <th>video_age</th>\n",
              "    </tr>\n",
              "  </thead>\n",
              "  <tbody>\n",
              "    <tr>\n",
              "      <th>232</th>\n",
              "      <td>#BSM - Будь собой (official video)</td>\n",
              "      <td>156.0</td>\n",
              "      <td>1033.0</td>\n",
              "      <td>1859.0</td>\n",
              "      <td>rap</td>\n",
              "      <td>тимати</td>\n",
              "      <td>558557.0</td>\n",
              "      <td>128.0</td>\n",
              "      <td>20.0</td>\n",
              "      <td>2689</td>\n",
              "    </tr>\n",
              "    <tr>\n",
              "      <th>233</th>\n",
              "      <td>#BSM - Будь собой (track)</td>\n",
              "      <td>24.0</td>\n",
              "      <td>95.0</td>\n",
              "      <td>230.0</td>\n",
              "      <td>rap</td>\n",
              "      <td>тимати</td>\n",
              "      <td>60981.0</td>\n",
              "      <td>22.0</td>\n",
              "      <td>0.0</td>\n",
              "      <td>2699</td>\n",
              "    </tr>\n",
              "    <tr>\n",
              "      <th>234</th>\n",
              "      <td>#BSM COMING SOON</td>\n",
              "      <td>27.0</td>\n",
              "      <td>52.0</td>\n",
              "      <td>225.0</td>\n",
              "      <td>rap</td>\n",
              "      <td>тимати</td>\n",
              "      <td>68296.0</td>\n",
              "      <td>19.0</td>\n",
              "      <td>2.0</td>\n",
              "      <td>2713</td>\n",
              "    </tr>\n",
              "    <tr>\n",
              "      <th>235</th>\n",
              "      <td>#GazgolderLive</td>\n",
              "      <td>0.0</td>\n",
              "      <td>38.0</td>\n",
              "      <td>108.0</td>\n",
              "      <td>rap</td>\n",
              "      <td>gazgolder</td>\n",
              "      <td>0.0</td>\n",
              "      <td>NaN</td>\n",
              "      <td>NaN</td>\n",
              "      <td>377</td>\n",
              "    </tr>\n",
              "    <tr>\n",
              "      <th>236</th>\n",
              "      <td>#GazgolderLive</td>\n",
              "      <td>0.0</td>\n",
              "      <td>49.0</td>\n",
              "      <td>264.0</td>\n",
              "      <td>rap</td>\n",
              "      <td>gazgolder</td>\n",
              "      <td>0.0</td>\n",
              "      <td>NaN</td>\n",
              "      <td>NaN</td>\n",
              "      <td>378</td>\n",
              "    </tr>\n",
              "    <tr>\n",
              "      <th>...</th>\n",
              "      <td>...</td>\n",
              "      <td>...</td>\n",
              "      <td>...</td>\n",
              "      <td>...</td>\n",
              "      <td>...</td>\n",
              "      <td>...</td>\n",
              "      <td>...</td>\n",
              "      <td>...</td>\n",
              "      <td>...</td>\n",
              "      <td>...</td>\n",
              "    </tr>\n",
              "    <tr>\n",
              "      <th>19034</th>\n",
              "      <td>бтл булгари федук</td>\n",
              "      <td>12.0</td>\n",
              "      <td>4.0</td>\n",
              "      <td>117.0</td>\n",
              "      <td>rap</td>\n",
              "      <td>feduk</td>\n",
              "      <td>14137.0</td>\n",
              "      <td>10.0</td>\n",
              "      <td>0.0</td>\n",
              "      <td>2745</td>\n",
              "    </tr>\n",
              "    <tr>\n",
              "      <th>19047</th>\n",
              "      <td>г.Неаполь, Италия 2010 год Карина Кокс</td>\n",
              "      <td>6.0</td>\n",
              "      <td>5.0</td>\n",
              "      <td>31.0</td>\n",
              "      <td>rap</td>\n",
              "      <td>тимати</td>\n",
              "      <td>21319.0</td>\n",
              "      <td>NaN</td>\n",
              "      <td>NaN</td>\n",
              "      <td>3074</td>\n",
              "    </tr>\n",
              "    <tr>\n",
              "      <th>19078</th>\n",
              "      <td>летний фрист</td>\n",
              "      <td>13.0</td>\n",
              "      <td>7.0</td>\n",
              "      <td>119.0</td>\n",
              "      <td>rap</td>\n",
              "      <td>feduk</td>\n",
              "      <td>9129.0</td>\n",
              "      <td>9.0</td>\n",
              "      <td>0.0</td>\n",
              "      <td>2560</td>\n",
              "    </tr>\n",
              "    <tr>\n",
              "      <th>19101</th>\n",
              "      <td>презентация альбома Тимати The Boss в Киеве (У...</td>\n",
              "      <td>3.0</td>\n",
              "      <td>7.0</td>\n",
              "      <td>29.0</td>\n",
              "      <td>rap</td>\n",
              "      <td>тимати</td>\n",
              "      <td>14927.0</td>\n",
              "      <td>2.0</td>\n",
              "      <td>0.0</td>\n",
              "      <td>3319</td>\n",
              "    </tr>\n",
              "    <tr>\n",
              "      <th>19121</th>\n",
              "      <td>モスクワライブショー ' 17</td>\n",
              "      <td>4872.0</td>\n",
              "      <td>15494.0</td>\n",
              "      <td>30603.0</td>\n",
              "      <td>rap</td>\n",
              "      <td>элджей</td>\n",
              "      <td>1187340.0</td>\n",
              "      <td>1788.0</td>\n",
              "      <td>352.0</td>\n",
              "      <td>339</td>\n",
              "    </tr>\n",
              "  </tbody>\n",
              "</table>\n",
              "<p>2028 rows × 10 columns</p>\n",
              "</div>\n",
              "    <div class=\"colab-df-buttons\">\n",
              "\n",
              "  <div class=\"colab-df-container\">\n",
              "    <button class=\"colab-df-convert\" onclick=\"convertToInteractive('df-48d58f8d-2c7e-41ab-a6c1-672ef80286a9')\"\n",
              "            title=\"Convert this dataframe to an interactive table.\"\n",
              "            style=\"display:none;\">\n",
              "\n",
              "  <svg xmlns=\"http://www.w3.org/2000/svg\" height=\"24px\" viewBox=\"0 -960 960 960\">\n",
              "    <path d=\"M120-120v-720h720v720H120Zm60-500h600v-160H180v160Zm220 220h160v-160H400v160Zm0 220h160v-160H400v160ZM180-400h160v-160H180v160Zm440 0h160v-160H620v160ZM180-180h160v-160H180v160Zm440 0h160v-160H620v160Z\"/>\n",
              "  </svg>\n",
              "    </button>\n",
              "\n",
              "  <style>\n",
              "    .colab-df-container {\n",
              "      display:flex;\n",
              "      gap: 12px;\n",
              "    }\n",
              "\n",
              "    .colab-df-convert {\n",
              "      background-color: #E8F0FE;\n",
              "      border: none;\n",
              "      border-radius: 50%;\n",
              "      cursor: pointer;\n",
              "      display: none;\n",
              "      fill: #1967D2;\n",
              "      height: 32px;\n",
              "      padding: 0 0 0 0;\n",
              "      width: 32px;\n",
              "    }\n",
              "\n",
              "    .colab-df-convert:hover {\n",
              "      background-color: #E2EBFA;\n",
              "      box-shadow: 0px 1px 2px rgba(60, 64, 67, 0.3), 0px 1px 3px 1px rgba(60, 64, 67, 0.15);\n",
              "      fill: #174EA6;\n",
              "    }\n",
              "\n",
              "    .colab-df-buttons div {\n",
              "      margin-bottom: 4px;\n",
              "    }\n",
              "\n",
              "    [theme=dark] .colab-df-convert {\n",
              "      background-color: #3B4455;\n",
              "      fill: #D2E3FC;\n",
              "    }\n",
              "\n",
              "    [theme=dark] .colab-df-convert:hover {\n",
              "      background-color: #434B5C;\n",
              "      box-shadow: 0px 1px 3px 1px rgba(0, 0, 0, 0.15);\n",
              "      filter: drop-shadow(0px 1px 2px rgba(0, 0, 0, 0.3));\n",
              "      fill: #FFFFFF;\n",
              "    }\n",
              "  </style>\n",
              "\n",
              "    <script>\n",
              "      const buttonEl =\n",
              "        document.querySelector('#df-48d58f8d-2c7e-41ab-a6c1-672ef80286a9 button.colab-df-convert');\n",
              "      buttonEl.style.display =\n",
              "        google.colab.kernel.accessAllowed ? 'block' : 'none';\n",
              "\n",
              "      async function convertToInteractive(key) {\n",
              "        const element = document.querySelector('#df-48d58f8d-2c7e-41ab-a6c1-672ef80286a9');\n",
              "        const dataTable =\n",
              "          await google.colab.kernel.invokeFunction('convertToInteractive',\n",
              "                                                    [key], {});\n",
              "        if (!dataTable) return;\n",
              "\n",
              "        const docLinkHtml = 'Like what you see? Visit the ' +\n",
              "          '<a target=\"_blank\" href=https://colab.research.google.com/notebooks/data_table.ipynb>data table notebook</a>'\n",
              "          + ' to learn more about interactive tables.';\n",
              "        element.innerHTML = '';\n",
              "        dataTable['output_type'] = 'display_data';\n",
              "        await google.colab.output.renderOutput(dataTable, element);\n",
              "        const docLink = document.createElement('div');\n",
              "        docLink.innerHTML = docLinkHtml;\n",
              "        element.appendChild(docLink);\n",
              "      }\n",
              "    </script>\n",
              "  </div>\n",
              "\n",
              "\n",
              "<div id=\"df-90abe173-6915-4c2f-9f88-77358811dbdd\">\n",
              "  <button class=\"colab-df-quickchart\" onclick=\"quickchart('df-90abe173-6915-4c2f-9f88-77358811dbdd')\"\n",
              "            title=\"Suggest charts\"\n",
              "            style=\"display:none;\">\n",
              "\n",
              "<svg xmlns=\"http://www.w3.org/2000/svg\" height=\"24px\"viewBox=\"0 0 24 24\"\n",
              "     width=\"24px\">\n",
              "    <g>\n",
              "        <path d=\"M19 3H5c-1.1 0-2 .9-2 2v14c0 1.1.9 2 2 2h14c1.1 0 2-.9 2-2V5c0-1.1-.9-2-2-2zM9 17H7v-7h2v7zm4 0h-2V7h2v10zm4 0h-2v-4h2v4z\"/>\n",
              "    </g>\n",
              "</svg>\n",
              "  </button>\n",
              "\n",
              "<style>\n",
              "  .colab-df-quickchart {\n",
              "      --bg-color: #E8F0FE;\n",
              "      --fill-color: #1967D2;\n",
              "      --hover-bg-color: #E2EBFA;\n",
              "      --hover-fill-color: #174EA6;\n",
              "      --disabled-fill-color: #AAA;\n",
              "      --disabled-bg-color: #DDD;\n",
              "  }\n",
              "\n",
              "  [theme=dark] .colab-df-quickchart {\n",
              "      --bg-color: #3B4455;\n",
              "      --fill-color: #D2E3FC;\n",
              "      --hover-bg-color: #434B5C;\n",
              "      --hover-fill-color: #FFFFFF;\n",
              "      --disabled-bg-color: #3B4455;\n",
              "      --disabled-fill-color: #666;\n",
              "  }\n",
              "\n",
              "  .colab-df-quickchart {\n",
              "    background-color: var(--bg-color);\n",
              "    border: none;\n",
              "    border-radius: 50%;\n",
              "    cursor: pointer;\n",
              "    display: none;\n",
              "    fill: var(--fill-color);\n",
              "    height: 32px;\n",
              "    padding: 0;\n",
              "    width: 32px;\n",
              "  }\n",
              "\n",
              "  .colab-df-quickchart:hover {\n",
              "    background-color: var(--hover-bg-color);\n",
              "    box-shadow: 0 1px 2px rgba(60, 64, 67, 0.3), 0 1px 3px 1px rgba(60, 64, 67, 0.15);\n",
              "    fill: var(--button-hover-fill-color);\n",
              "  }\n",
              "\n",
              "  .colab-df-quickchart-complete:disabled,\n",
              "  .colab-df-quickchart-complete:disabled:hover {\n",
              "    background-color: var(--disabled-bg-color);\n",
              "    fill: var(--disabled-fill-color);\n",
              "    box-shadow: none;\n",
              "  }\n",
              "\n",
              "  .colab-df-spinner {\n",
              "    border: 2px solid var(--fill-color);\n",
              "    border-color: transparent;\n",
              "    border-bottom-color: var(--fill-color);\n",
              "    animation:\n",
              "      spin 1s steps(1) infinite;\n",
              "  }\n",
              "\n",
              "  @keyframes spin {\n",
              "    0% {\n",
              "      border-color: transparent;\n",
              "      border-bottom-color: var(--fill-color);\n",
              "      border-left-color: var(--fill-color);\n",
              "    }\n",
              "    20% {\n",
              "      border-color: transparent;\n",
              "      border-left-color: var(--fill-color);\n",
              "      border-top-color: var(--fill-color);\n",
              "    }\n",
              "    30% {\n",
              "      border-color: transparent;\n",
              "      border-left-color: var(--fill-color);\n",
              "      border-top-color: var(--fill-color);\n",
              "      border-right-color: var(--fill-color);\n",
              "    }\n",
              "    40% {\n",
              "      border-color: transparent;\n",
              "      border-right-color: var(--fill-color);\n",
              "      border-top-color: var(--fill-color);\n",
              "    }\n",
              "    60% {\n",
              "      border-color: transparent;\n",
              "      border-right-color: var(--fill-color);\n",
              "    }\n",
              "    80% {\n",
              "      border-color: transparent;\n",
              "      border-right-color: var(--fill-color);\n",
              "      border-bottom-color: var(--fill-color);\n",
              "    }\n",
              "    90% {\n",
              "      border-color: transparent;\n",
              "      border-bottom-color: var(--fill-color);\n",
              "    }\n",
              "  }\n",
              "</style>\n",
              "\n",
              "  <script>\n",
              "    async function quickchart(key) {\n",
              "      const quickchartButtonEl =\n",
              "        document.querySelector('#' + key + ' button');\n",
              "      quickchartButtonEl.disabled = true;  // To prevent multiple clicks.\n",
              "      quickchartButtonEl.classList.add('colab-df-spinner');\n",
              "      try {\n",
              "        const charts = await google.colab.kernel.invokeFunction(\n",
              "            'suggestCharts', [key], {});\n",
              "      } catch (error) {\n",
              "        console.error('Error during call to suggestCharts:', error);\n",
              "      }\n",
              "      quickchartButtonEl.classList.remove('colab-df-spinner');\n",
              "      quickchartButtonEl.classList.add('colab-df-quickchart-complete');\n",
              "    }\n",
              "    (() => {\n",
              "      let quickchartButtonEl =\n",
              "        document.querySelector('#df-90abe173-6915-4c2f-9f88-77358811dbdd button');\n",
              "      quickchartButtonEl.style.display =\n",
              "        google.colab.kernel.accessAllowed ? 'block' : 'none';\n",
              "    })();\n",
              "  </script>\n",
              "</div>\n",
              "    </div>\n",
              "  </div>\n"
            ]
          },
          "metadata": {},
          "execution_count": 46
        }
      ]
    },
    {
      "cell_type": "code",
      "source": [
        "# из нового датафрейма, где чисто рэп, мы берём колонку likeCount и счиатем среднее\n",
        "df[df['music_style'] == 'rap']['likeCount'].mean()"
      ],
      "metadata": {
        "colab": {
          "base_uri": "https://localhost:8080/"
        },
        "id": "v-plaw68pVm1",
        "outputId": "455f84e2-1352-4696-bded-c9a8efd3d964"
      },
      "execution_count": null,
      "outputs": [
        {
          "output_type": "execute_result",
          "data": {
            "text/plain": [
              "26802.456253089473"
            ]
          },
          "metadata": {},
          "execution_count": 48
        }
      ]
    },
    {
      "cell_type": "markdown",
      "source": [
        "Среднее количество лайков для каждого жанра"
      ],
      "metadata": {
        "id": "2MzpFy9xqxDk"
      }
    },
    {
      "cell_type": "code",
      "source": [
        "Genre = set(df['music_style'])\n",
        "\n",
        "for genre in Genre:\n",
        "    like_c = df[df['music_style'] == genre]['likeCount'].mean()\n",
        "    print(f'{genre}: {like_c}')"
      ],
      "metadata": {
        "colab": {
          "base_uri": "https://localhost:8080/"
        },
        "id": "aO7rqP5rq0I0",
        "outputId": "c84fcfcc-6c68-44f8-914a-4ffd78df011e"
      },
      "execution_count": null,
      "outputs": [
        {
          "output_type": "stream",
          "name": "stdout",
          "text": [
            "shanson: 440.39056420233464\n",
            "popsa: 7492.273791654158\n",
            "estrada: 938.686661604657\n",
            "rap: 26802.456253089473\n",
            "classic: 28663.333333333332\n",
            "indi: 2471.8422991893885\n",
            "rock: 2132.88706083976\n"
          ]
        }
      ]
    },
    {
      "cell_type": "code",
      "source": [
        "# group by\n",
        "\n",
        "df.groupby('music_style')['likeCount'].mean()"
      ],
      "metadata": {
        "colab": {
          "base_uri": "https://localhost:8080/"
        },
        "id": "VHByQqI0r4cs",
        "outputId": "0c2707df-74de-420a-a24e-f9849c2c2e11"
      },
      "execution_count": null,
      "outputs": [
        {
          "output_type": "execute_result",
          "data": {
            "text/plain": [
              "music_style\n",
              "classic    28663.333333\n",
              "estrada      938.686662\n",
              "indi        2471.842299\n",
              "popsa       7492.273792\n",
              "rap        26802.456253\n",
              "rock        2132.887061\n",
              "shanson      440.390564\n",
              "Name: likeCount, dtype: float64"
            ]
          },
          "metadata": {},
          "execution_count": 56
        }
      ]
    },
    {
      "cell_type": "markdown",
      "source": [
        "Можно использовать несколько:\n",
        "1. агрегатных функций"
      ],
      "metadata": {
        "id": "GsXpCtResk3C"
      }
    },
    {
      "cell_type": "code",
      "source": [
        "df.groupby('music_style')['likeCount'].agg(['mean', 'count'])"
      ],
      "metadata": {
        "colab": {
          "base_uri": "https://localhost:8080/",
          "height": 300
        },
        "id": "NmYLBcgmsRY0",
        "outputId": "828fc166-751c-4347-ec82-611339530c57"
      },
      "execution_count": null,
      "outputs": [
        {
          "output_type": "execute_result",
          "data": {
            "text/plain": [
              "                     mean  count\n",
              "music_style                     \n",
              "classic      28663.333333    297\n",
              "estrada        938.686662   3951\n",
              "indi          2471.842299   1357\n",
              "popsa         7492.273792   3331\n",
              "rap          26802.456253   2023\n",
              "rock          2132.887061   5835\n",
              "shanson        440.390564   2056"
            ],
            "text/html": [
              "\n",
              "  <div id=\"df-09474a43-ef9a-4f36-af76-d395f7c58e56\" class=\"colab-df-container\">\n",
              "    <div>\n",
              "<style scoped>\n",
              "    .dataframe tbody tr th:only-of-type {\n",
              "        vertical-align: middle;\n",
              "    }\n",
              "\n",
              "    .dataframe tbody tr th {\n",
              "        vertical-align: top;\n",
              "    }\n",
              "\n",
              "    .dataframe thead th {\n",
              "        text-align: right;\n",
              "    }\n",
              "</style>\n",
              "<table border=\"1\" class=\"dataframe\">\n",
              "  <thead>\n",
              "    <tr style=\"text-align: right;\">\n",
              "      <th></th>\n",
              "      <th>mean</th>\n",
              "      <th>count</th>\n",
              "    </tr>\n",
              "    <tr>\n",
              "      <th>music_style</th>\n",
              "      <th></th>\n",
              "      <th></th>\n",
              "    </tr>\n",
              "  </thead>\n",
              "  <tbody>\n",
              "    <tr>\n",
              "      <th>classic</th>\n",
              "      <td>28663.333333</td>\n",
              "      <td>297</td>\n",
              "    </tr>\n",
              "    <tr>\n",
              "      <th>estrada</th>\n",
              "      <td>938.686662</td>\n",
              "      <td>3951</td>\n",
              "    </tr>\n",
              "    <tr>\n",
              "      <th>indi</th>\n",
              "      <td>2471.842299</td>\n",
              "      <td>1357</td>\n",
              "    </tr>\n",
              "    <tr>\n",
              "      <th>popsa</th>\n",
              "      <td>7492.273792</td>\n",
              "      <td>3331</td>\n",
              "    </tr>\n",
              "    <tr>\n",
              "      <th>rap</th>\n",
              "      <td>26802.456253</td>\n",
              "      <td>2023</td>\n",
              "    </tr>\n",
              "    <tr>\n",
              "      <th>rock</th>\n",
              "      <td>2132.887061</td>\n",
              "      <td>5835</td>\n",
              "    </tr>\n",
              "    <tr>\n",
              "      <th>shanson</th>\n",
              "      <td>440.390564</td>\n",
              "      <td>2056</td>\n",
              "    </tr>\n",
              "  </tbody>\n",
              "</table>\n",
              "</div>\n",
              "    <div class=\"colab-df-buttons\">\n",
              "\n",
              "  <div class=\"colab-df-container\">\n",
              "    <button class=\"colab-df-convert\" onclick=\"convertToInteractive('df-09474a43-ef9a-4f36-af76-d395f7c58e56')\"\n",
              "            title=\"Convert this dataframe to an interactive table.\"\n",
              "            style=\"display:none;\">\n",
              "\n",
              "  <svg xmlns=\"http://www.w3.org/2000/svg\" height=\"24px\" viewBox=\"0 -960 960 960\">\n",
              "    <path d=\"M120-120v-720h720v720H120Zm60-500h600v-160H180v160Zm220 220h160v-160H400v160Zm0 220h160v-160H400v160ZM180-400h160v-160H180v160Zm440 0h160v-160H620v160ZM180-180h160v-160H180v160Zm440 0h160v-160H620v160Z\"/>\n",
              "  </svg>\n",
              "    </button>\n",
              "\n",
              "  <style>\n",
              "    .colab-df-container {\n",
              "      display:flex;\n",
              "      gap: 12px;\n",
              "    }\n",
              "\n",
              "    .colab-df-convert {\n",
              "      background-color: #E8F0FE;\n",
              "      border: none;\n",
              "      border-radius: 50%;\n",
              "      cursor: pointer;\n",
              "      display: none;\n",
              "      fill: #1967D2;\n",
              "      height: 32px;\n",
              "      padding: 0 0 0 0;\n",
              "      width: 32px;\n",
              "    }\n",
              "\n",
              "    .colab-df-convert:hover {\n",
              "      background-color: #E2EBFA;\n",
              "      box-shadow: 0px 1px 2px rgba(60, 64, 67, 0.3), 0px 1px 3px 1px rgba(60, 64, 67, 0.15);\n",
              "      fill: #174EA6;\n",
              "    }\n",
              "\n",
              "    .colab-df-buttons div {\n",
              "      margin-bottom: 4px;\n",
              "    }\n",
              "\n",
              "    [theme=dark] .colab-df-convert {\n",
              "      background-color: #3B4455;\n",
              "      fill: #D2E3FC;\n",
              "    }\n",
              "\n",
              "    [theme=dark] .colab-df-convert:hover {\n",
              "      background-color: #434B5C;\n",
              "      box-shadow: 0px 1px 3px 1px rgba(0, 0, 0, 0.15);\n",
              "      filter: drop-shadow(0px 1px 2px rgba(0, 0, 0, 0.3));\n",
              "      fill: #FFFFFF;\n",
              "    }\n",
              "  </style>\n",
              "\n",
              "    <script>\n",
              "      const buttonEl =\n",
              "        document.querySelector('#df-09474a43-ef9a-4f36-af76-d395f7c58e56 button.colab-df-convert');\n",
              "      buttonEl.style.display =\n",
              "        google.colab.kernel.accessAllowed ? 'block' : 'none';\n",
              "\n",
              "      async function convertToInteractive(key) {\n",
              "        const element = document.querySelector('#df-09474a43-ef9a-4f36-af76-d395f7c58e56');\n",
              "        const dataTable =\n",
              "          await google.colab.kernel.invokeFunction('convertToInteractive',\n",
              "                                                    [key], {});\n",
              "        if (!dataTable) return;\n",
              "\n",
              "        const docLinkHtml = 'Like what you see? Visit the ' +\n",
              "          '<a target=\"_blank\" href=https://colab.research.google.com/notebooks/data_table.ipynb>data table notebook</a>'\n",
              "          + ' to learn more about interactive tables.';\n",
              "        element.innerHTML = '';\n",
              "        dataTable['output_type'] = 'display_data';\n",
              "        await google.colab.output.renderOutput(dataTable, element);\n",
              "        const docLink = document.createElement('div');\n",
              "        docLink.innerHTML = docLinkHtml;\n",
              "        element.appendChild(docLink);\n",
              "      }\n",
              "    </script>\n",
              "  </div>\n",
              "\n",
              "\n",
              "<div id=\"df-21535ed2-e35c-4791-b63b-8d471ab9049b\">\n",
              "  <button class=\"colab-df-quickchart\" onclick=\"quickchart('df-21535ed2-e35c-4791-b63b-8d471ab9049b')\"\n",
              "            title=\"Suggest charts\"\n",
              "            style=\"display:none;\">\n",
              "\n",
              "<svg xmlns=\"http://www.w3.org/2000/svg\" height=\"24px\"viewBox=\"0 0 24 24\"\n",
              "     width=\"24px\">\n",
              "    <g>\n",
              "        <path d=\"M19 3H5c-1.1 0-2 .9-2 2v14c0 1.1.9 2 2 2h14c1.1 0 2-.9 2-2V5c0-1.1-.9-2-2-2zM9 17H7v-7h2v7zm4 0h-2V7h2v10zm4 0h-2v-4h2v4z\"/>\n",
              "    </g>\n",
              "</svg>\n",
              "  </button>\n",
              "\n",
              "<style>\n",
              "  .colab-df-quickchart {\n",
              "      --bg-color: #E8F0FE;\n",
              "      --fill-color: #1967D2;\n",
              "      --hover-bg-color: #E2EBFA;\n",
              "      --hover-fill-color: #174EA6;\n",
              "      --disabled-fill-color: #AAA;\n",
              "      --disabled-bg-color: #DDD;\n",
              "  }\n",
              "\n",
              "  [theme=dark] .colab-df-quickchart {\n",
              "      --bg-color: #3B4455;\n",
              "      --fill-color: #D2E3FC;\n",
              "      --hover-bg-color: #434B5C;\n",
              "      --hover-fill-color: #FFFFFF;\n",
              "      --disabled-bg-color: #3B4455;\n",
              "      --disabled-fill-color: #666;\n",
              "  }\n",
              "\n",
              "  .colab-df-quickchart {\n",
              "    background-color: var(--bg-color);\n",
              "    border: none;\n",
              "    border-radius: 50%;\n",
              "    cursor: pointer;\n",
              "    display: none;\n",
              "    fill: var(--fill-color);\n",
              "    height: 32px;\n",
              "    padding: 0;\n",
              "    width: 32px;\n",
              "  }\n",
              "\n",
              "  .colab-df-quickchart:hover {\n",
              "    background-color: var(--hover-bg-color);\n",
              "    box-shadow: 0 1px 2px rgba(60, 64, 67, 0.3), 0 1px 3px 1px rgba(60, 64, 67, 0.15);\n",
              "    fill: var(--button-hover-fill-color);\n",
              "  }\n",
              "\n",
              "  .colab-df-quickchart-complete:disabled,\n",
              "  .colab-df-quickchart-complete:disabled:hover {\n",
              "    background-color: var(--disabled-bg-color);\n",
              "    fill: var(--disabled-fill-color);\n",
              "    box-shadow: none;\n",
              "  }\n",
              "\n",
              "  .colab-df-spinner {\n",
              "    border: 2px solid var(--fill-color);\n",
              "    border-color: transparent;\n",
              "    border-bottom-color: var(--fill-color);\n",
              "    animation:\n",
              "      spin 1s steps(1) infinite;\n",
              "  }\n",
              "\n",
              "  @keyframes spin {\n",
              "    0% {\n",
              "      border-color: transparent;\n",
              "      border-bottom-color: var(--fill-color);\n",
              "      border-left-color: var(--fill-color);\n",
              "    }\n",
              "    20% {\n",
              "      border-color: transparent;\n",
              "      border-left-color: var(--fill-color);\n",
              "      border-top-color: var(--fill-color);\n",
              "    }\n",
              "    30% {\n",
              "      border-color: transparent;\n",
              "      border-left-color: var(--fill-color);\n",
              "      border-top-color: var(--fill-color);\n",
              "      border-right-color: var(--fill-color);\n",
              "    }\n",
              "    40% {\n",
              "      border-color: transparent;\n",
              "      border-right-color: var(--fill-color);\n",
              "      border-top-color: var(--fill-color);\n",
              "    }\n",
              "    60% {\n",
              "      border-color: transparent;\n",
              "      border-right-color: var(--fill-color);\n",
              "    }\n",
              "    80% {\n",
              "      border-color: transparent;\n",
              "      border-right-color: var(--fill-color);\n",
              "      border-bottom-color: var(--fill-color);\n",
              "    }\n",
              "    90% {\n",
              "      border-color: transparent;\n",
              "      border-bottom-color: var(--fill-color);\n",
              "    }\n",
              "  }\n",
              "</style>\n",
              "\n",
              "  <script>\n",
              "    async function quickchart(key) {\n",
              "      const quickchartButtonEl =\n",
              "        document.querySelector('#' + key + ' button');\n",
              "      quickchartButtonEl.disabled = true;  // To prevent multiple clicks.\n",
              "      quickchartButtonEl.classList.add('colab-df-spinner');\n",
              "      try {\n",
              "        const charts = await google.colab.kernel.invokeFunction(\n",
              "            'suggestCharts', [key], {});\n",
              "      } catch (error) {\n",
              "        console.error('Error during call to suggestCharts:', error);\n",
              "      }\n",
              "      quickchartButtonEl.classList.remove('colab-df-spinner');\n",
              "      quickchartButtonEl.classList.add('colab-df-quickchart-complete');\n",
              "    }\n",
              "    (() => {\n",
              "      let quickchartButtonEl =\n",
              "        document.querySelector('#df-21535ed2-e35c-4791-b63b-8d471ab9049b button');\n",
              "      quickchartButtonEl.style.display =\n",
              "        google.colab.kernel.accessAllowed ? 'block' : 'none';\n",
              "    })();\n",
              "  </script>\n",
              "</div>\n",
              "    </div>\n",
              "  </div>\n"
            ]
          },
          "metadata": {},
          "execution_count": 57
        }
      ]
    },
    {
      "cell_type": "markdown",
      "source": [
        "Можно использовать несколько:\n",
        "1. агрегатных функций\n",
        "2. штук для чего агрегируем"
      ],
      "metadata": {
        "id": "d1A4aRdatCHU"
      }
    },
    {
      "cell_type": "code",
      "source": [
        "df.groupby('music_style')[['likeCount', 'dislikeCount']].agg(['mean', 'count'])"
      ],
      "metadata": {
        "colab": {
          "base_uri": "https://localhost:8080/",
          "height": 331
        },
        "id": "TO_SmmQqsxHT",
        "outputId": "a9a5048b-2838-4293-ccaf-b723075eca76"
      },
      "execution_count": null,
      "outputs": [
        {
          "output_type": "execute_result",
          "data": {
            "text/plain": [
              "                likeCount       dislikeCount      \n",
              "                     mean count         mean count\n",
              "music_style                                       \n",
              "classic      28663.333333   297  1236.228956   297\n",
              "estrada        938.686662  3951   173.565933  3951\n",
              "indi          2471.842299  1357   220.419307  1357\n",
              "popsa         7492.273792  3331   790.161513  3331\n",
              "rap          26802.456253  2023  4099.575383  2023\n",
              "rock          2132.887061  5835   287.698201  5835\n",
              "shanson        440.390564  2056    45.488327  2056"
            ],
            "text/html": [
              "\n",
              "  <div id=\"df-e204fc5f-163f-448d-be85-9e25f2303a2e\" class=\"colab-df-container\">\n",
              "    <div>\n",
              "<style scoped>\n",
              "    .dataframe tbody tr th:only-of-type {\n",
              "        vertical-align: middle;\n",
              "    }\n",
              "\n",
              "    .dataframe tbody tr th {\n",
              "        vertical-align: top;\n",
              "    }\n",
              "\n",
              "    .dataframe thead tr th {\n",
              "        text-align: left;\n",
              "    }\n",
              "\n",
              "    .dataframe thead tr:last-of-type th {\n",
              "        text-align: right;\n",
              "    }\n",
              "</style>\n",
              "<table border=\"1\" class=\"dataframe\">\n",
              "  <thead>\n",
              "    <tr>\n",
              "      <th></th>\n",
              "      <th colspan=\"2\" halign=\"left\">likeCount</th>\n",
              "      <th colspan=\"2\" halign=\"left\">dislikeCount</th>\n",
              "    </tr>\n",
              "    <tr>\n",
              "      <th></th>\n",
              "      <th>mean</th>\n",
              "      <th>count</th>\n",
              "      <th>mean</th>\n",
              "      <th>count</th>\n",
              "    </tr>\n",
              "    <tr>\n",
              "      <th>music_style</th>\n",
              "      <th></th>\n",
              "      <th></th>\n",
              "      <th></th>\n",
              "      <th></th>\n",
              "    </tr>\n",
              "  </thead>\n",
              "  <tbody>\n",
              "    <tr>\n",
              "      <th>classic</th>\n",
              "      <td>28663.333333</td>\n",
              "      <td>297</td>\n",
              "      <td>1236.228956</td>\n",
              "      <td>297</td>\n",
              "    </tr>\n",
              "    <tr>\n",
              "      <th>estrada</th>\n",
              "      <td>938.686662</td>\n",
              "      <td>3951</td>\n",
              "      <td>173.565933</td>\n",
              "      <td>3951</td>\n",
              "    </tr>\n",
              "    <tr>\n",
              "      <th>indi</th>\n",
              "      <td>2471.842299</td>\n",
              "      <td>1357</td>\n",
              "      <td>220.419307</td>\n",
              "      <td>1357</td>\n",
              "    </tr>\n",
              "    <tr>\n",
              "      <th>popsa</th>\n",
              "      <td>7492.273792</td>\n",
              "      <td>3331</td>\n",
              "      <td>790.161513</td>\n",
              "      <td>3331</td>\n",
              "    </tr>\n",
              "    <tr>\n",
              "      <th>rap</th>\n",
              "      <td>26802.456253</td>\n",
              "      <td>2023</td>\n",
              "      <td>4099.575383</td>\n",
              "      <td>2023</td>\n",
              "    </tr>\n",
              "    <tr>\n",
              "      <th>rock</th>\n",
              "      <td>2132.887061</td>\n",
              "      <td>5835</td>\n",
              "      <td>287.698201</td>\n",
              "      <td>5835</td>\n",
              "    </tr>\n",
              "    <tr>\n",
              "      <th>shanson</th>\n",
              "      <td>440.390564</td>\n",
              "      <td>2056</td>\n",
              "      <td>45.488327</td>\n",
              "      <td>2056</td>\n",
              "    </tr>\n",
              "  </tbody>\n",
              "</table>\n",
              "</div>\n",
              "    <div class=\"colab-df-buttons\">\n",
              "\n",
              "  <div class=\"colab-df-container\">\n",
              "    <button class=\"colab-df-convert\" onclick=\"convertToInteractive('df-e204fc5f-163f-448d-be85-9e25f2303a2e')\"\n",
              "            title=\"Convert this dataframe to an interactive table.\"\n",
              "            style=\"display:none;\">\n",
              "\n",
              "  <svg xmlns=\"http://www.w3.org/2000/svg\" height=\"24px\" viewBox=\"0 -960 960 960\">\n",
              "    <path d=\"M120-120v-720h720v720H120Zm60-500h600v-160H180v160Zm220 220h160v-160H400v160Zm0 220h160v-160H400v160ZM180-400h160v-160H180v160Zm440 0h160v-160H620v160ZM180-180h160v-160H180v160Zm440 0h160v-160H620v160Z\"/>\n",
              "  </svg>\n",
              "    </button>\n",
              "\n",
              "  <style>\n",
              "    .colab-df-container {\n",
              "      display:flex;\n",
              "      gap: 12px;\n",
              "    }\n",
              "\n",
              "    .colab-df-convert {\n",
              "      background-color: #E8F0FE;\n",
              "      border: none;\n",
              "      border-radius: 50%;\n",
              "      cursor: pointer;\n",
              "      display: none;\n",
              "      fill: #1967D2;\n",
              "      height: 32px;\n",
              "      padding: 0 0 0 0;\n",
              "      width: 32px;\n",
              "    }\n",
              "\n",
              "    .colab-df-convert:hover {\n",
              "      background-color: #E2EBFA;\n",
              "      box-shadow: 0px 1px 2px rgba(60, 64, 67, 0.3), 0px 1px 3px 1px rgba(60, 64, 67, 0.15);\n",
              "      fill: #174EA6;\n",
              "    }\n",
              "\n",
              "    .colab-df-buttons div {\n",
              "      margin-bottom: 4px;\n",
              "    }\n",
              "\n",
              "    [theme=dark] .colab-df-convert {\n",
              "      background-color: #3B4455;\n",
              "      fill: #D2E3FC;\n",
              "    }\n",
              "\n",
              "    [theme=dark] .colab-df-convert:hover {\n",
              "      background-color: #434B5C;\n",
              "      box-shadow: 0px 1px 3px 1px rgba(0, 0, 0, 0.15);\n",
              "      filter: drop-shadow(0px 1px 2px rgba(0, 0, 0, 0.3));\n",
              "      fill: #FFFFFF;\n",
              "    }\n",
              "  </style>\n",
              "\n",
              "    <script>\n",
              "      const buttonEl =\n",
              "        document.querySelector('#df-e204fc5f-163f-448d-be85-9e25f2303a2e button.colab-df-convert');\n",
              "      buttonEl.style.display =\n",
              "        google.colab.kernel.accessAllowed ? 'block' : 'none';\n",
              "\n",
              "      async function convertToInteractive(key) {\n",
              "        const element = document.querySelector('#df-e204fc5f-163f-448d-be85-9e25f2303a2e');\n",
              "        const dataTable =\n",
              "          await google.colab.kernel.invokeFunction('convertToInteractive',\n",
              "                                                    [key], {});\n",
              "        if (!dataTable) return;\n",
              "\n",
              "        const docLinkHtml = 'Like what you see? Visit the ' +\n",
              "          '<a target=\"_blank\" href=https://colab.research.google.com/notebooks/data_table.ipynb>data table notebook</a>'\n",
              "          + ' to learn more about interactive tables.';\n",
              "        element.innerHTML = '';\n",
              "        dataTable['output_type'] = 'display_data';\n",
              "        await google.colab.output.renderOutput(dataTable, element);\n",
              "        const docLink = document.createElement('div');\n",
              "        docLink.innerHTML = docLinkHtml;\n",
              "        element.appendChild(docLink);\n",
              "      }\n",
              "    </script>\n",
              "  </div>\n",
              "\n",
              "\n",
              "<div id=\"df-625c2c42-a7a9-451f-b943-63c48faf455c\">\n",
              "  <button class=\"colab-df-quickchart\" onclick=\"quickchart('df-625c2c42-a7a9-451f-b943-63c48faf455c')\"\n",
              "            title=\"Suggest charts\"\n",
              "            style=\"display:none;\">\n",
              "\n",
              "<svg xmlns=\"http://www.w3.org/2000/svg\" height=\"24px\"viewBox=\"0 0 24 24\"\n",
              "     width=\"24px\">\n",
              "    <g>\n",
              "        <path d=\"M19 3H5c-1.1 0-2 .9-2 2v14c0 1.1.9 2 2 2h14c1.1 0 2-.9 2-2V5c0-1.1-.9-2-2-2zM9 17H7v-7h2v7zm4 0h-2V7h2v10zm4 0h-2v-4h2v4z\"/>\n",
              "    </g>\n",
              "</svg>\n",
              "  </button>\n",
              "\n",
              "<style>\n",
              "  .colab-df-quickchart {\n",
              "      --bg-color: #E8F0FE;\n",
              "      --fill-color: #1967D2;\n",
              "      --hover-bg-color: #E2EBFA;\n",
              "      --hover-fill-color: #174EA6;\n",
              "      --disabled-fill-color: #AAA;\n",
              "      --disabled-bg-color: #DDD;\n",
              "  }\n",
              "\n",
              "  [theme=dark] .colab-df-quickchart {\n",
              "      --bg-color: #3B4455;\n",
              "      --fill-color: #D2E3FC;\n",
              "      --hover-bg-color: #434B5C;\n",
              "      --hover-fill-color: #FFFFFF;\n",
              "      --disabled-bg-color: #3B4455;\n",
              "      --disabled-fill-color: #666;\n",
              "  }\n",
              "\n",
              "  .colab-df-quickchart {\n",
              "    background-color: var(--bg-color);\n",
              "    border: none;\n",
              "    border-radius: 50%;\n",
              "    cursor: pointer;\n",
              "    display: none;\n",
              "    fill: var(--fill-color);\n",
              "    height: 32px;\n",
              "    padding: 0;\n",
              "    width: 32px;\n",
              "  }\n",
              "\n",
              "  .colab-df-quickchart:hover {\n",
              "    background-color: var(--hover-bg-color);\n",
              "    box-shadow: 0 1px 2px rgba(60, 64, 67, 0.3), 0 1px 3px 1px rgba(60, 64, 67, 0.15);\n",
              "    fill: var(--button-hover-fill-color);\n",
              "  }\n",
              "\n",
              "  .colab-df-quickchart-complete:disabled,\n",
              "  .colab-df-quickchart-complete:disabled:hover {\n",
              "    background-color: var(--disabled-bg-color);\n",
              "    fill: var(--disabled-fill-color);\n",
              "    box-shadow: none;\n",
              "  }\n",
              "\n",
              "  .colab-df-spinner {\n",
              "    border: 2px solid var(--fill-color);\n",
              "    border-color: transparent;\n",
              "    border-bottom-color: var(--fill-color);\n",
              "    animation:\n",
              "      spin 1s steps(1) infinite;\n",
              "  }\n",
              "\n",
              "  @keyframes spin {\n",
              "    0% {\n",
              "      border-color: transparent;\n",
              "      border-bottom-color: var(--fill-color);\n",
              "      border-left-color: var(--fill-color);\n",
              "    }\n",
              "    20% {\n",
              "      border-color: transparent;\n",
              "      border-left-color: var(--fill-color);\n",
              "      border-top-color: var(--fill-color);\n",
              "    }\n",
              "    30% {\n",
              "      border-color: transparent;\n",
              "      border-left-color: var(--fill-color);\n",
              "      border-top-color: var(--fill-color);\n",
              "      border-right-color: var(--fill-color);\n",
              "    }\n",
              "    40% {\n",
              "      border-color: transparent;\n",
              "      border-right-color: var(--fill-color);\n",
              "      border-top-color: var(--fill-color);\n",
              "    }\n",
              "    60% {\n",
              "      border-color: transparent;\n",
              "      border-right-color: var(--fill-color);\n",
              "    }\n",
              "    80% {\n",
              "      border-color: transparent;\n",
              "      border-right-color: var(--fill-color);\n",
              "      border-bottom-color: var(--fill-color);\n",
              "    }\n",
              "    90% {\n",
              "      border-color: transparent;\n",
              "      border-bottom-color: var(--fill-color);\n",
              "    }\n",
              "  }\n",
              "</style>\n",
              "\n",
              "  <script>\n",
              "    async function quickchart(key) {\n",
              "      const quickchartButtonEl =\n",
              "        document.querySelector('#' + key + ' button');\n",
              "      quickchartButtonEl.disabled = true;  // To prevent multiple clicks.\n",
              "      quickchartButtonEl.classList.add('colab-df-spinner');\n",
              "      try {\n",
              "        const charts = await google.colab.kernel.invokeFunction(\n",
              "            'suggestCharts', [key], {});\n",
              "      } catch (error) {\n",
              "        console.error('Error during call to suggestCharts:', error);\n",
              "      }\n",
              "      quickchartButtonEl.classList.remove('colab-df-spinner');\n",
              "      quickchartButtonEl.classList.add('colab-df-quickchart-complete');\n",
              "    }\n",
              "    (() => {\n",
              "      let quickchartButtonEl =\n",
              "        document.querySelector('#df-625c2c42-a7a9-451f-b943-63c48faf455c button');\n",
              "      quickchartButtonEl.style.display =\n",
              "        google.colab.kernel.accessAllowed ? 'block' : 'none';\n",
              "    })();\n",
              "  </script>\n",
              "</div>\n",
              "    </div>\n",
              "  </div>\n"
            ]
          },
          "metadata": {},
          "execution_count": 58
        }
      ]
    },
    {
      "cell_type": "markdown",
      "source": [
        "Можно использовать несколько:\n",
        "1. агрегатных функций\n",
        "2. штук для чего агрегируем\n",
        "3. полей группировки"
      ],
      "metadata": {
        "id": "bmOoTz_9tafW"
      }
    },
    {
      "cell_type": "code",
      "source": [
        "df.groupby(['music_style', 'performer'])[['likeCount', 'dislikeCount']].agg(['mean', 'count'])"
      ],
      "metadata": {
        "colab": {
          "base_uri": "https://localhost:8080/",
          "height": 486
        },
        "id": "F_iBd1bTte3A",
        "outputId": "035152b1-2016-4e53-8eb8-ce6a6dd470e2"
      },
      "execution_count": null,
      "outputs": [
        {
          "output_type": "execute_result",
          "data": {
            "text/plain": [
              "                                  likeCount       dislikeCount      \n",
              "                                       mean count         mean count\n",
              "music_style performer                                               \n",
              "classic     classical_channel  28663.333333   297  1236.228956   297\n",
              "estrada     агутин                39.333333     3     4.666667     3\n",
              "            басков              1582.721311   122   233.270492   122\n",
              "            буйнов                 2.795455    44     0.727273    44\n",
              "            ваенга               133.773360   503     9.310139   503\n",
              "...                                     ...   ...          ...   ...\n",
              "shanson     жека                 505.681159   138    49.702899   138\n",
              "            ирина_круг          1520.352381   105   185.847619   105\n",
              "            михаил_круг          418.111340   485    44.216495   485\n",
              "            трофимов             252.857759   232    15.478448   232\n",
              "            шуфутинский          357.132565   347    17.040346   347\n",
              "\n",
              "[111 rows x 4 columns]"
            ],
            "text/html": [
              "\n",
              "  <div id=\"df-0c1da184-d291-4df2-994b-31930a383fe3\" class=\"colab-df-container\">\n",
              "    <div>\n",
              "<style scoped>\n",
              "    .dataframe tbody tr th:only-of-type {\n",
              "        vertical-align: middle;\n",
              "    }\n",
              "\n",
              "    .dataframe tbody tr th {\n",
              "        vertical-align: top;\n",
              "    }\n",
              "\n",
              "    .dataframe thead tr th {\n",
              "        text-align: left;\n",
              "    }\n",
              "\n",
              "    .dataframe thead tr:last-of-type th {\n",
              "        text-align: right;\n",
              "    }\n",
              "</style>\n",
              "<table border=\"1\" class=\"dataframe\">\n",
              "  <thead>\n",
              "    <tr>\n",
              "      <th></th>\n",
              "      <th></th>\n",
              "      <th colspan=\"2\" halign=\"left\">likeCount</th>\n",
              "      <th colspan=\"2\" halign=\"left\">dislikeCount</th>\n",
              "    </tr>\n",
              "    <tr>\n",
              "      <th></th>\n",
              "      <th></th>\n",
              "      <th>mean</th>\n",
              "      <th>count</th>\n",
              "      <th>mean</th>\n",
              "      <th>count</th>\n",
              "    </tr>\n",
              "    <tr>\n",
              "      <th>music_style</th>\n",
              "      <th>performer</th>\n",
              "      <th></th>\n",
              "      <th></th>\n",
              "      <th></th>\n",
              "      <th></th>\n",
              "    </tr>\n",
              "  </thead>\n",
              "  <tbody>\n",
              "    <tr>\n",
              "      <th>classic</th>\n",
              "      <th>classical_channel</th>\n",
              "      <td>28663.333333</td>\n",
              "      <td>297</td>\n",
              "      <td>1236.228956</td>\n",
              "      <td>297</td>\n",
              "    </tr>\n",
              "    <tr>\n",
              "      <th rowspan=\"4\" valign=\"top\">estrada</th>\n",
              "      <th>агутин</th>\n",
              "      <td>39.333333</td>\n",
              "      <td>3</td>\n",
              "      <td>4.666667</td>\n",
              "      <td>3</td>\n",
              "    </tr>\n",
              "    <tr>\n",
              "      <th>басков</th>\n",
              "      <td>1582.721311</td>\n",
              "      <td>122</td>\n",
              "      <td>233.270492</td>\n",
              "      <td>122</td>\n",
              "    </tr>\n",
              "    <tr>\n",
              "      <th>буйнов</th>\n",
              "      <td>2.795455</td>\n",
              "      <td>44</td>\n",
              "      <td>0.727273</td>\n",
              "      <td>44</td>\n",
              "    </tr>\n",
              "    <tr>\n",
              "      <th>ваенга</th>\n",
              "      <td>133.773360</td>\n",
              "      <td>503</td>\n",
              "      <td>9.310139</td>\n",
              "      <td>503</td>\n",
              "    </tr>\n",
              "    <tr>\n",
              "      <th>...</th>\n",
              "      <th>...</th>\n",
              "      <td>...</td>\n",
              "      <td>...</td>\n",
              "      <td>...</td>\n",
              "      <td>...</td>\n",
              "    </tr>\n",
              "    <tr>\n",
              "      <th rowspan=\"5\" valign=\"top\">shanson</th>\n",
              "      <th>жека</th>\n",
              "      <td>505.681159</td>\n",
              "      <td>138</td>\n",
              "      <td>49.702899</td>\n",
              "      <td>138</td>\n",
              "    </tr>\n",
              "    <tr>\n",
              "      <th>ирина_круг</th>\n",
              "      <td>1520.352381</td>\n",
              "      <td>105</td>\n",
              "      <td>185.847619</td>\n",
              "      <td>105</td>\n",
              "    </tr>\n",
              "    <tr>\n",
              "      <th>михаил_круг</th>\n",
              "      <td>418.111340</td>\n",
              "      <td>485</td>\n",
              "      <td>44.216495</td>\n",
              "      <td>485</td>\n",
              "    </tr>\n",
              "    <tr>\n",
              "      <th>трофимов</th>\n",
              "      <td>252.857759</td>\n",
              "      <td>232</td>\n",
              "      <td>15.478448</td>\n",
              "      <td>232</td>\n",
              "    </tr>\n",
              "    <tr>\n",
              "      <th>шуфутинский</th>\n",
              "      <td>357.132565</td>\n",
              "      <td>347</td>\n",
              "      <td>17.040346</td>\n",
              "      <td>347</td>\n",
              "    </tr>\n",
              "  </tbody>\n",
              "</table>\n",
              "<p>111 rows × 4 columns</p>\n",
              "</div>\n",
              "    <div class=\"colab-df-buttons\">\n",
              "\n",
              "  <div class=\"colab-df-container\">\n",
              "    <button class=\"colab-df-convert\" onclick=\"convertToInteractive('df-0c1da184-d291-4df2-994b-31930a383fe3')\"\n",
              "            title=\"Convert this dataframe to an interactive table.\"\n",
              "            style=\"display:none;\">\n",
              "\n",
              "  <svg xmlns=\"http://www.w3.org/2000/svg\" height=\"24px\" viewBox=\"0 -960 960 960\">\n",
              "    <path d=\"M120-120v-720h720v720H120Zm60-500h600v-160H180v160Zm220 220h160v-160H400v160Zm0 220h160v-160H400v160ZM180-400h160v-160H180v160Zm440 0h160v-160H620v160ZM180-180h160v-160H180v160Zm440 0h160v-160H620v160Z\"/>\n",
              "  </svg>\n",
              "    </button>\n",
              "\n",
              "  <style>\n",
              "    .colab-df-container {\n",
              "      display:flex;\n",
              "      gap: 12px;\n",
              "    }\n",
              "\n",
              "    .colab-df-convert {\n",
              "      background-color: #E8F0FE;\n",
              "      border: none;\n",
              "      border-radius: 50%;\n",
              "      cursor: pointer;\n",
              "      display: none;\n",
              "      fill: #1967D2;\n",
              "      height: 32px;\n",
              "      padding: 0 0 0 0;\n",
              "      width: 32px;\n",
              "    }\n",
              "\n",
              "    .colab-df-convert:hover {\n",
              "      background-color: #E2EBFA;\n",
              "      box-shadow: 0px 1px 2px rgba(60, 64, 67, 0.3), 0px 1px 3px 1px rgba(60, 64, 67, 0.15);\n",
              "      fill: #174EA6;\n",
              "    }\n",
              "\n",
              "    .colab-df-buttons div {\n",
              "      margin-bottom: 4px;\n",
              "    }\n",
              "\n",
              "    [theme=dark] .colab-df-convert {\n",
              "      background-color: #3B4455;\n",
              "      fill: #D2E3FC;\n",
              "    }\n",
              "\n",
              "    [theme=dark] .colab-df-convert:hover {\n",
              "      background-color: #434B5C;\n",
              "      box-shadow: 0px 1px 3px 1px rgba(0, 0, 0, 0.15);\n",
              "      filter: drop-shadow(0px 1px 2px rgba(0, 0, 0, 0.3));\n",
              "      fill: #FFFFFF;\n",
              "    }\n",
              "  </style>\n",
              "\n",
              "    <script>\n",
              "      const buttonEl =\n",
              "        document.querySelector('#df-0c1da184-d291-4df2-994b-31930a383fe3 button.colab-df-convert');\n",
              "      buttonEl.style.display =\n",
              "        google.colab.kernel.accessAllowed ? 'block' : 'none';\n",
              "\n",
              "      async function convertToInteractive(key) {\n",
              "        const element = document.querySelector('#df-0c1da184-d291-4df2-994b-31930a383fe3');\n",
              "        const dataTable =\n",
              "          await google.colab.kernel.invokeFunction('convertToInteractive',\n",
              "                                                    [key], {});\n",
              "        if (!dataTable) return;\n",
              "\n",
              "        const docLinkHtml = 'Like what you see? Visit the ' +\n",
              "          '<a target=\"_blank\" href=https://colab.research.google.com/notebooks/data_table.ipynb>data table notebook</a>'\n",
              "          + ' to learn more about interactive tables.';\n",
              "        element.innerHTML = '';\n",
              "        dataTable['output_type'] = 'display_data';\n",
              "        await google.colab.output.renderOutput(dataTable, element);\n",
              "        const docLink = document.createElement('div');\n",
              "        docLink.innerHTML = docLinkHtml;\n",
              "        element.appendChild(docLink);\n",
              "      }\n",
              "    </script>\n",
              "  </div>\n",
              "\n",
              "\n",
              "<div id=\"df-ca34d8a4-f234-4e97-a857-8765869610f9\">\n",
              "  <button class=\"colab-df-quickchart\" onclick=\"quickchart('df-ca34d8a4-f234-4e97-a857-8765869610f9')\"\n",
              "            title=\"Suggest charts\"\n",
              "            style=\"display:none;\">\n",
              "\n",
              "<svg xmlns=\"http://www.w3.org/2000/svg\" height=\"24px\"viewBox=\"0 0 24 24\"\n",
              "     width=\"24px\">\n",
              "    <g>\n",
              "        <path d=\"M19 3H5c-1.1 0-2 .9-2 2v14c0 1.1.9 2 2 2h14c1.1 0 2-.9 2-2V5c0-1.1-.9-2-2-2zM9 17H7v-7h2v7zm4 0h-2V7h2v10zm4 0h-2v-4h2v4z\"/>\n",
              "    </g>\n",
              "</svg>\n",
              "  </button>\n",
              "\n",
              "<style>\n",
              "  .colab-df-quickchart {\n",
              "      --bg-color: #E8F0FE;\n",
              "      --fill-color: #1967D2;\n",
              "      --hover-bg-color: #E2EBFA;\n",
              "      --hover-fill-color: #174EA6;\n",
              "      --disabled-fill-color: #AAA;\n",
              "      --disabled-bg-color: #DDD;\n",
              "  }\n",
              "\n",
              "  [theme=dark] .colab-df-quickchart {\n",
              "      --bg-color: #3B4455;\n",
              "      --fill-color: #D2E3FC;\n",
              "      --hover-bg-color: #434B5C;\n",
              "      --hover-fill-color: #FFFFFF;\n",
              "      --disabled-bg-color: #3B4455;\n",
              "      --disabled-fill-color: #666;\n",
              "  }\n",
              "\n",
              "  .colab-df-quickchart {\n",
              "    background-color: var(--bg-color);\n",
              "    border: none;\n",
              "    border-radius: 50%;\n",
              "    cursor: pointer;\n",
              "    display: none;\n",
              "    fill: var(--fill-color);\n",
              "    height: 32px;\n",
              "    padding: 0;\n",
              "    width: 32px;\n",
              "  }\n",
              "\n",
              "  .colab-df-quickchart:hover {\n",
              "    background-color: var(--hover-bg-color);\n",
              "    box-shadow: 0 1px 2px rgba(60, 64, 67, 0.3), 0 1px 3px 1px rgba(60, 64, 67, 0.15);\n",
              "    fill: var(--button-hover-fill-color);\n",
              "  }\n",
              "\n",
              "  .colab-df-quickchart-complete:disabled,\n",
              "  .colab-df-quickchart-complete:disabled:hover {\n",
              "    background-color: var(--disabled-bg-color);\n",
              "    fill: var(--disabled-fill-color);\n",
              "    box-shadow: none;\n",
              "  }\n",
              "\n",
              "  .colab-df-spinner {\n",
              "    border: 2px solid var(--fill-color);\n",
              "    border-color: transparent;\n",
              "    border-bottom-color: var(--fill-color);\n",
              "    animation:\n",
              "      spin 1s steps(1) infinite;\n",
              "  }\n",
              "\n",
              "  @keyframes spin {\n",
              "    0% {\n",
              "      border-color: transparent;\n",
              "      border-bottom-color: var(--fill-color);\n",
              "      border-left-color: var(--fill-color);\n",
              "    }\n",
              "    20% {\n",
              "      border-color: transparent;\n",
              "      border-left-color: var(--fill-color);\n",
              "      border-top-color: var(--fill-color);\n",
              "    }\n",
              "    30% {\n",
              "      border-color: transparent;\n",
              "      border-left-color: var(--fill-color);\n",
              "      border-top-color: var(--fill-color);\n",
              "      border-right-color: var(--fill-color);\n",
              "    }\n",
              "    40% {\n",
              "      border-color: transparent;\n",
              "      border-right-color: var(--fill-color);\n",
              "      border-top-color: var(--fill-color);\n",
              "    }\n",
              "    60% {\n",
              "      border-color: transparent;\n",
              "      border-right-color: var(--fill-color);\n",
              "    }\n",
              "    80% {\n",
              "      border-color: transparent;\n",
              "      border-right-color: var(--fill-color);\n",
              "      border-bottom-color: var(--fill-color);\n",
              "    }\n",
              "    90% {\n",
              "      border-color: transparent;\n",
              "      border-bottom-color: var(--fill-color);\n",
              "    }\n",
              "  }\n",
              "</style>\n",
              "\n",
              "  <script>\n",
              "    async function quickchart(key) {\n",
              "      const quickchartButtonEl =\n",
              "        document.querySelector('#' + key + ' button');\n",
              "      quickchartButtonEl.disabled = true;  // To prevent multiple clicks.\n",
              "      quickchartButtonEl.classList.add('colab-df-spinner');\n",
              "      try {\n",
              "        const charts = await google.colab.kernel.invokeFunction(\n",
              "            'suggestCharts', [key], {});\n",
              "      } catch (error) {\n",
              "        console.error('Error during call to suggestCharts:', error);\n",
              "      }\n",
              "      quickchartButtonEl.classList.remove('colab-df-spinner');\n",
              "      quickchartButtonEl.classList.add('colab-df-quickchart-complete');\n",
              "    }\n",
              "    (() => {\n",
              "      let quickchartButtonEl =\n",
              "        document.querySelector('#df-ca34d8a4-f234-4e97-a857-8765869610f9 button');\n",
              "      quickchartButtonEl.style.display =\n",
              "        google.colab.kernel.accessAllowed ? 'block' : 'none';\n",
              "    })();\n",
              "  </script>\n",
              "</div>\n",
              "    </div>\n",
              "  </div>\n"
            ]
          },
          "metadata": {},
          "execution_count": 59
        }
      ]
    },
    {
      "cell_type": "code",
      "source": [
        "# есть ли под видео комментарий\n",
        "df['is_comment'] = 1 * (df['commentators_uniq'] > 0)\n",
        "(df['commentators_uniq'] > 0).sum()\n",
        "df['is_comment'].value_counts"
      ],
      "metadata": {
        "colab": {
          "base_uri": "https://localhost:8080/"
        },
        "id": "roL4Qhx8uIAS",
        "outputId": "bf677519-371e-4ae5-ccbe-ef263cc31da1"
      },
      "execution_count": null,
      "outputs": [
        {
          "output_type": "execute_result",
          "data": {
            "text/plain": [
              "<bound method IndexOpsMixin.value_counts of 0        1\n",
              "1        0\n",
              "2        1\n",
              "3        1\n",
              "4        1\n",
              "        ..\n",
              "19119    0\n",
              "19120    1\n",
              "19121    1\n",
              "19122    1\n",
              "19123    0\n",
              "Name: is_comment, Length: 19124, dtype: int64>"
            ]
          },
          "metadata": {},
          "execution_count": 63
        }
      ]
    },
    {
      "cell_type": "markdown",
      "source": [
        "## 4. Apply"
      ],
      "metadata": {
        "id": "ydnyU2BLu7QR"
      }
    },
    {
      "cell_type": "markdown",
      "source": [
        "Выведем длину каждой песни"
      ],
      "metadata": {
        "id": "UmmdPv8SvL2L"
      }
    },
    {
      "cell_type": "code",
      "source": [
        "# apply\n",
        "\n",
        "df['title'].apply(len)[:10]"
      ],
      "metadata": {
        "colab": {
          "base_uri": "https://localhost:8080/"
        },
        "id": "qY6fyVvPu8hC",
        "outputId": "12e8d6e0-e55f-4938-d2eb-2e1dbbd6d4c2"
      },
      "execution_count": null,
      "outputs": [
        {
          "output_type": "execute_result",
          "data": {
            "text/plain": [
              "0    25\n",
              "1    41\n",
              "2    75\n",
              "3    38\n",
              "4    30\n",
              "5    48\n",
              "6    36\n",
              "7    43\n",
              "8    29\n",
              "9    56\n",
              "Name: title, dtype: int64"
            ]
          },
          "metadata": {},
          "execution_count": 64
        }
      ]
    },
    {
      "cell_type": "code",
      "source": [
        "df['title'].apply(len).mean() # средняя длина названия"
      ],
      "metadata": {
        "colab": {
          "base_uri": "https://localhost:8080/"
        },
        "id": "seFEh8xivkvr",
        "outputId": "1e8fd72b-ad17-4f43-face-fdab9d891e67"
      },
      "execution_count": null,
      "outputs": [
        {
          "output_type": "execute_result",
          "data": {
            "text/plain": [
              "35.293871574984315"
            ]
          },
          "metadata": {},
          "execution_count": 65
        }
      ]
    },
    {
      "cell_type": "markdown",
      "source": [
        "Apply может использовать функции, которые мы сами написали"
      ],
      "metadata": {
        "id": "SPwLtBxXv29u"
      }
    },
    {
      "cell_type": "code",
      "source": [
        "def firstSymbol(string_name: str) -> str:\n",
        "    return string_name[0]\n",
        "\n",
        "print(firstSymbol('Danya'))"
      ],
      "metadata": {
        "colab": {
          "base_uri": "https://localhost:8080/"
        },
        "id": "S_lBGfrav-Mr",
        "outputId": "46c4f57e-7679-4dd1-a856-2c51f6b01ad4"
      },
      "execution_count": null,
      "outputs": [
        {
          "output_type": "stream",
          "name": "stdout",
          "text": [
            "D\n"
          ]
        }
      ]
    },
    {
      "cell_type": "code",
      "source": [
        "df['title'].apply(firstSymbol)"
      ],
      "metadata": {
        "colab": {
          "base_uri": "https://localhost:8080/"
        },
        "id": "GzY3xjolwN9I",
        "outputId": "45b670e7-1248-4b3f-97d8-c1a30dbb796e"
      },
      "execution_count": null,
      "outputs": [
        {
          "output_type": "execute_result",
          "data": {
            "text/plain": [
              "0        \"\n",
              "1        \"\n",
              "2        \"\n",
              "3        \"\n",
              "4        \"\n",
              "        ..\n",
              "19119    ♫\n",
              "19120    ❤\n",
              "19121    モ\n",
              "19122    舞\n",
              "19123    🎄\n",
              "Name: title, Length: 19124, dtype: object"
            ]
          },
          "metadata": {},
          "execution_count": 67
        }
      ]
    },
    {
      "cell_type": "code",
      "source": [
        "df['title'].apply(lambda string_name: string_name[0])"
      ],
      "metadata": {
        "colab": {
          "base_uri": "https://localhost:8080/"
        },
        "id": "jGgd2OCAwilk",
        "outputId": "628cfe95-2752-42a4-972c-fbe33d5bb58b"
      },
      "execution_count": null,
      "outputs": [
        {
          "output_type": "execute_result",
          "data": {
            "text/plain": [
              "0        \"\n",
              "1        \"\n",
              "2        \"\n",
              "3        \"\n",
              "4        \"\n",
              "        ..\n",
              "19119    ♫\n",
              "19120    ❤\n",
              "19121    モ\n",
              "19122    舞\n",
              "19123    🎄\n",
              "Name: title, Length: 19124, dtype: object"
            ]
          },
          "metadata": {},
          "execution_count": 68
        }
      ]
    },
    {
      "cell_type": "markdown",
      "source": [
        "## 5. Гистограммы"
      ],
      "metadata": {
        "id": "QHaGywVSw0XO"
      }
    },
    {
      "cell_type": "code",
      "source": [
        "plt.figure(figsize=(7, 3.5))\n",
        "plt.hist(df['video_age'], bins=100)"
      ],
      "metadata": {
        "colab": {
          "base_uri": "https://localhost:8080/",
          "height": 816
        },
        "id": "OH6wdJjXw22O",
        "outputId": "c4731b43-28b2-41f2-887b-cb1870ed6862"
      },
      "execution_count": null,
      "outputs": [
        {
          "output_type": "execute_result",
          "data": {
            "text/plain": [
              "(array([ 251.,  297.,  312.,  450.,  595.,  879., 1091.,  712.,  609.,\n",
              "         304.,  377.,  267.,  191.,  289.,  243.,  275.,  264.,  212.,\n",
              "         262.,  209.,  270.,  248.,  209.,  189.,  290.,  190.,  216.,\n",
              "         225.,  142.,  183.,  220.,  294.,  402.,  462.,  379.,  176.,\n",
              "         152.,  104.,  286.,  218.,  270.,  104.,  166.,  202.,  125.,\n",
              "         104.,  152.,  182.,  198.,  144.,  110.,  159.,  150.,  113.,\n",
              "         157.,  117.,  173.,  200.,  168.,  239.,  115.,  111.,  235.,\n",
              "         257.,  288.,  187.,  244.,  152.,   94.,  206.,  139.,  105.,\n",
              "          83.,  139.,  126.,   99.,   39.,   50.,   29.,   27.,   21.,\n",
              "          16.,   10.,   55.,    9.,    7.,   11.,   18.,    6.,    6.,\n",
              "           2.,    9.,   14.,   13.,    6.,    7.,    9.,    0.,    0.,\n",
              "           3.]),\n",
              " array([   0.  ,   45.74,   91.48,  137.22,  182.96,  228.7 ,  274.44,\n",
              "         320.18,  365.92,  411.66,  457.4 ,  503.14,  548.88,  594.62,\n",
              "         640.36,  686.1 ,  731.84,  777.58,  823.32,  869.06,  914.8 ,\n",
              "         960.54, 1006.28, 1052.02, 1097.76, 1143.5 , 1189.24, 1234.98,\n",
              "        1280.72, 1326.46, 1372.2 , 1417.94, 1463.68, 1509.42, 1555.16,\n",
              "        1600.9 , 1646.64, 1692.38, 1738.12, 1783.86, 1829.6 , 1875.34,\n",
              "        1921.08, 1966.82, 2012.56, 2058.3 , 2104.04, 2149.78, 2195.52,\n",
              "        2241.26, 2287.  , 2332.74, 2378.48, 2424.22, 2469.96, 2515.7 ,\n",
              "        2561.44, 2607.18, 2652.92, 2698.66, 2744.4 , 2790.14, 2835.88,\n",
              "        2881.62, 2927.36, 2973.1 , 3018.84, 3064.58, 3110.32, 3156.06,\n",
              "        3201.8 , 3247.54, 3293.28, 3339.02, 3384.76, 3430.5 , 3476.24,\n",
              "        3521.98, 3567.72, 3613.46, 3659.2 , 3704.94, 3750.68, 3796.42,\n",
              "        3842.16, 3887.9 , 3933.64, 3979.38, 4025.12, 4070.86, 4116.6 ,\n",
              "        4162.34, 4208.08, 4253.82, 4299.56, 4345.3 , 4391.04, 4436.78,\n",
              "        4482.52, 4528.26, 4574.  ]),\n",
              " <BarContainer object of 100 artists>)"
            ]
          },
          "metadata": {},
          "execution_count": 69
        },
        {
          "output_type": "display_data",
          "data": {
            "text/plain": [
              "<Figure size 700x350 with 1 Axes>"
            ],
            "image/png": "[encoded data removed]"
          },
          "metadata": {}
        }
      ]
    },
    {
      "cell_type": "code",
      "source": [
        "plt.figure(figsize=(7, 3.5))\n",
        "\n",
        "df['video_age'].hist(bins=100, density=True)\n",
        "df['video_age'].plot(kind='kde', linewidth=4)\n",
        "plt.xlim(0, 4000)\n",
        "plt.title('Распределение возраста видео')"
      ],
      "metadata": {
        "colab": {
          "base_uri": "https://localhost:8080/",
          "height": 362
        },
        "id": "Qi3xjgefxn_S",
        "outputId": "102c3616-4bf5-462e-d705-21bffe22fbf1"
      },
      "execution_count": null,
      "outputs": [
        {
          "output_type": "execute_result",
          "data": {
            "text/plain": [
              "Text(0.5, 1.0, 'Распределение возраста видео')"
            ]
          },
          "metadata": {},
          "execution_count": 74
        },
        {
          "output_type": "display_data",
          "data": {
            "text/plain": [
              "<Figure size 700x350 with 1 Axes>"
            ],
            "image/png": "[encoded data removed]"
          },
          "metadata": {}
        }
      ]
    },
    {
      "cell_type": "code",
      "source": [
        "columns = ['viewCount', 'likeCount', 'dislikeCount']\n",
        "df[columns].hist(figsize=(7, 3.5))"
      ],
      "metadata": {
        "colab": {
          "base_uri": "https://localhost:8080/",
          "height": 405
        },
        "id": "YFPHSfatypTQ",
        "outputId": "fa2a4953-4277-4cbe-ab8b-db65d447380f"
      },
      "execution_count": null,
      "outputs": [
        {
          "output_type": "execute_result",
          "data": {
            "text/plain": [
              "array([[<Axes: title={'center': 'viewCount'}>,\n",
              "        <Axes: title={'center': 'likeCount'}>],\n",
              "       [<Axes: title={'center': 'dislikeCount'}>, <Axes: >]], dtype=object)"
            ]
          },
          "metadata": {},
          "execution_count": 75
        },
        {
          "output_type": "display_data",
          "data": {
            "text/plain": [
              "<Figure size 700x350 with 4 Axes>"
            ],
            "image/png": "[encoded data removed]"
          },
          "metadata": {}
        }
      ]
    },
    {
      "cell_type": "markdown",
      "source": [
        "Логарифмирование по у"
      ],
      "metadata": {
        "id": "6C7lsxc8zKI8"
      }
    },
    {
      "cell_type": "code",
      "source": [
        "columns = ['viewCount', 'likeCount', 'dislikeCount']\n",
        "df[columns].hist(figsize=(7, 3.5), log=True)"
      ],
      "metadata": {
        "colab": {
          "base_uri": "https://localhost:8080/",
          "height": 405
        },
        "id": "VEYOFiA8y7J-",
        "outputId": "6b408201-d9dc-4a07-edc2-35ffded84247"
      },
      "execution_count": null,
      "outputs": [
        {
          "output_type": "execute_result",
          "data": {
            "text/plain": [
              "array([[<Axes: title={'center': 'viewCount'}>,\n",
              "        <Axes: title={'center': 'likeCount'}>],\n",
              "       [<Axes: title={'center': 'dislikeCount'}>, <Axes: >]], dtype=object)"
            ]
          },
          "metadata": {},
          "execution_count": 76
        },
        {
          "output_type": "display_data",
          "data": {
            "text/plain": [
              "<Figure size 700x350 with 4 Axes>"
            ],
            "image/png": "[encoded data removed]"
          },
          "metadata": {}
        }
      ]
    },
    {
      "cell_type": "markdown",
      "source": [
        "Логарифмирование по х"
      ],
      "metadata": {
        "id": "EbEdpY_6zMfC"
      }
    },
    {
      "cell_type": "code",
      "source": [
        "df[columns].apply(lambda x: np.log(x + 1))"
      ],
      "metadata": {
        "colab": {
          "base_uri": "https://localhost:8080/",
          "height": 423
        },
        "id": "2Tc8WkdlzOCl",
        "outputId": "452ad6f9-e297-440c-e6f1-82513bd0814f"
      },
      "execution_count": null,
      "outputs": [
        {
          "output_type": "execute_result",
          "data": {
            "text/plain": [
              "       viewCount  likeCount  dislikeCount\n",
              "0      12.275142   7.246368      3.784190\n",
              "1      14.613657   9.262268      6.538140\n",
              "2      10.604801   5.598422      2.397895\n",
              "3       9.384966   5.099866      2.079442\n",
              "4      11.423919   6.393591      2.995732\n",
              "...          ...        ...           ...\n",
              "19119   7.010312   2.484907      0.000000\n",
              "19120  12.878601   7.516433      6.068426\n",
              "19121  13.987227  10.328886      9.648273\n",
              "19122   9.225032   5.564520      2.397895\n",
              "19123   7.356918   3.135494      0.000000\n",
              "\n",
              "[19124 rows x 3 columns]"
            ],
            "text/html": [
              "\n",
              "  <div id=\"df-b2b642f2-b9f3-41ba-affc-bd85631cca06\" class=\"colab-df-container\">\n",
              "    <div>\n",
              "<style scoped>\n",
              "    .dataframe tbody tr th:only-of-type {\n",
              "        vertical-align: middle;\n",
              "    }\n",
              "\n",
              "    .dataframe tbody tr th {\n",
              "        vertical-align: top;\n",
              "    }\n",
              "\n",
              "    .dataframe thead th {\n",
              "        text-align: right;\n",
              "    }\n",
              "</style>\n",
              "<table border=\"1\" class=\"dataframe\">\n",
              "  <thead>\n",
              "    <tr style=\"text-align: right;\">\n",
              "      <th></th>\n",
              "      <th>viewCount</th>\n",
              "      <th>likeCount</th>\n",
              "      <th>dislikeCount</th>\n",
              "    </tr>\n",
              "  </thead>\n",
              "  <tbody>\n",
              "    <tr>\n",
              "      <th>0</th>\n",
              "      <td>12.275142</td>\n",
              "      <td>7.246368</td>\n",
              "      <td>3.784190</td>\n",
              "    </tr>\n",
              "    <tr>\n",
              "      <th>1</th>\n",
              "      <td>14.613657</td>\n",
              "      <td>9.262268</td>\n",
              "      <td>6.538140</td>\n",
              "    </tr>\n",
              "    <tr>\n",
              "      <th>2</th>\n",
              "      <td>10.604801</td>\n",
              "      <td>5.598422</td>\n",
              "      <td>2.397895</td>\n",
              "    </tr>\n",
              "    <tr>\n",
              "      <th>3</th>\n",
              "      <td>9.384966</td>\n",
              "      <td>5.099866</td>\n",
              "      <td>2.079442</td>\n",
              "    </tr>\n",
              "    <tr>\n",
              "      <th>4</th>\n",
              "      <td>11.423919</td>\n",
              "      <td>6.393591</td>\n",
              "      <td>2.995732</td>\n",
              "    </tr>\n",
              "    <tr>\n",
              "      <th>...</th>\n",
              "      <td>...</td>\n",
              "      <td>...</td>\n",
              "      <td>...</td>\n",
              "    </tr>\n",
              "    <tr>\n",
              "      <th>19119</th>\n",
              "      <td>7.010312</td>\n",
              "      <td>2.484907</td>\n",
              "      <td>0.000000</td>\n",
              "    </tr>\n",
              "    <tr>\n",
              "      <th>19120</th>\n",
              "      <td>12.878601</td>\n",
              "      <td>7.516433</td>\n",
              "      <td>6.068426</td>\n",
              "    </tr>\n",
              "    <tr>\n",
              "      <th>19121</th>\n",
              "      <td>13.987227</td>\n",
              "      <td>10.328886</td>\n",
              "      <td>9.648273</td>\n",
              "    </tr>\n",
              "    <tr>\n",
              "      <th>19122</th>\n",
              "      <td>9.225032</td>\n",
              "      <td>5.564520</td>\n",
              "      <td>2.397895</td>\n",
              "    </tr>\n",
              "    <tr>\n",
              "      <th>19123</th>\n",
              "      <td>7.356918</td>\n",
              "      <td>3.135494</td>\n",
              "      <td>0.000000</td>\n",
              "    </tr>\n",
              "  </tbody>\n",
              "</table>\n",
              "<p>19124 rows × 3 columns</p>\n",
              "</div>\n",
              "    <div class=\"colab-df-buttons\">\n",
              "\n",
              "  <div class=\"colab-df-container\">\n",
              "    <button class=\"colab-df-convert\" onclick=\"convertToInteractive('df-b2b642f2-b9f3-41ba-affc-bd85631cca06')\"\n",
              "            title=\"Convert this dataframe to an interactive table.\"\n",
              "            style=\"display:none;\">\n",
              "\n",
              "  <svg xmlns=\"http://www.w3.org/2000/svg\" height=\"24px\" viewBox=\"0 -960 960 960\">\n",
              "    <path d=\"M120-120v-720h720v720H120Zm60-500h600v-160H180v160Zm220 220h160v-160H400v160Zm0 220h160v-160H400v160ZM180-400h160v-160H180v160Zm440 0h160v-160H620v160ZM180-180h160v-160H180v160Zm440 0h160v-160H620v160Z\"/>\n",
              "  </svg>\n",
              "    </button>\n",
              "\n",
              "  <style>\n",
              "    .colab-df-container {\n",
              "      display:flex;\n",
              "      gap: 12px;\n",
              "    }\n",
              "\n",
              "    .colab-df-convert {\n",
              "      background-color: #E8F0FE;\n",
              "      border: none;\n",
              "      border-radius: 50%;\n",
              "      cursor: pointer;\n",
              "      display: none;\n",
              "      fill: #1967D2;\n",
              "      height: 32px;\n",
              "      padding: 0 0 0 0;\n",
              "      width: 32px;\n",
              "    }\n",
              "\n",
              "    .colab-df-convert:hover {\n",
              "      background-color: #E2EBFA;\n",
              "      box-shadow: 0px 1px 2px rgba(60, 64, 67, 0.3), 0px 1px 3px 1px rgba(60, 64, 67, 0.15);\n",
              "      fill: #174EA6;\n",
              "    }\n",
              "\n",
              "    .colab-df-buttons div {\n",
              "      margin-bottom: 4px;\n",
              "    }\n",
              "\n",
              "    [theme=dark] .colab-df-convert {\n",
              "      background-color: #3B4455;\n",
              "      fill: #D2E3FC;\n",
              "    }\n",
              "\n",
              "    [theme=dark] .colab-df-convert:hover {\n",
              "      background-color: #434B5C;\n",
              "      box-shadow: 0px 1px 3px 1px rgba(0, 0, 0, 0.15);\n",
              "      filter: drop-shadow(0px 1px 2px rgba(0, 0, 0, 0.3));\n",
              "      fill: #FFFFFF;\n",
              "    }\n",
              "  </style>\n",
              "\n",
              "    <script>\n",
              "      const buttonEl =\n",
              "        document.querySelector('#df-b2b642f2-b9f3-41ba-affc-bd85631cca06 button.colab-df-convert');\n",
              "      buttonEl.style.display =\n",
              "        google.colab.kernel.accessAllowed ? 'block' : 'none';\n",
              "\n",
              "      async function convertToInteractive(key) {\n",
              "        const element = document.querySelector('#df-b2b642f2-b9f3-41ba-affc-bd85631cca06');\n",
              "        const dataTable =\n",
              "          await google.colab.kernel.invokeFunction('convertToInteractive',\n",
              "                                                    [key], {});\n",
              "        if (!dataTable) return;\n",
              "\n",
              "        const docLinkHtml = 'Like what you see? Visit the ' +\n",
              "          '<a target=\"_blank\" href=https://colab.research.google.com/notebooks/data_table.ipynb>data table notebook</a>'\n",
              "          + ' to learn more about interactive tables.';\n",
              "        element.innerHTML = '';\n",
              "        dataTable['output_type'] = 'display_data';\n",
              "        await google.colab.output.renderOutput(dataTable, element);\n",
              "        const docLink = document.createElement('div');\n",
              "        docLink.innerHTML = docLinkHtml;\n",
              "        element.appendChild(docLink);\n",
              "      }\n",
              "    </script>\n",
              "  </div>\n",
              "\n",
              "\n",
              "<div id=\"df-1620bfe0-6bfc-4b71-b1bd-73a570aba4f7\">\n",
              "  <button class=\"colab-df-quickchart\" onclick=\"quickchart('df-1620bfe0-6bfc-4b71-b1bd-73a570aba4f7')\"\n",
              "            title=\"Suggest charts\"\n",
              "            style=\"display:none;\">\n",
              "\n",
              "<svg xmlns=\"http://www.w3.org/2000/svg\" height=\"24px\"viewBox=\"0 0 24 24\"\n",
              "     width=\"24px\">\n",
              "    <g>\n",
              "        <path d=\"M19 3H5c-1.1 0-2 .9-2 2v14c0 1.1.9 2 2 2h14c1.1 0 2-.9 2-2V5c0-1.1-.9-2-2-2zM9 17H7v-7h2v7zm4 0h-2V7h2v10zm4 0h-2v-4h2v4z\"/>\n",
              "    </g>\n",
              "</svg>\n",
              "  </button>\n",
              "\n",
              "<style>\n",
              "  .colab-df-quickchart {\n",
              "      --bg-color: #E8F0FE;\n",
              "      --fill-color: #1967D2;\n",
              "      --hover-bg-color: #E2EBFA;\n",
              "      --hover-fill-color: #174EA6;\n",
              "      --disabled-fill-color: #AAA;\n",
              "      --disabled-bg-color: #DDD;\n",
              "  }\n",
              "\n",
              "  [theme=dark] .colab-df-quickchart {\n",
              "      --bg-color: #3B4455;\n",
              "      --fill-color: #D2E3FC;\n",
              "      --hover-bg-color: #434B5C;\n",
              "      --hover-fill-color: #FFFFFF;\n",
              "      --disabled-bg-color: #3B4455;\n",
              "      --disabled-fill-color: #666;\n",
              "  }\n",
              "\n",
              "  .colab-df-quickchart {\n",
              "    background-color: var(--bg-color);\n",
              "    border: none;\n",
              "    border-radius: 50%;\n",
              "    cursor: pointer;\n",
              "    display: none;\n",
              "    fill: var(--fill-color);\n",
              "    height: 32px;\n",
              "    padding: 0;\n",
              "    width: 32px;\n",
              "  }\n",
              "\n",
              "  .colab-df-quickchart:hover {\n",
              "    background-color: var(--hover-bg-color);\n",
              "    box-shadow: 0 1px 2px rgba(60, 64, 67, 0.3), 0 1px 3px 1px rgba(60, 64, 67, 0.15);\n",
              "    fill: var(--button-hover-fill-color);\n",
              "  }\n",
              "\n",
              "  .colab-df-quickchart-complete:disabled,\n",
              "  .colab-df-quickchart-complete:disabled:hover {\n",
              "    background-color: var(--disabled-bg-color);\n",
              "    fill: var(--disabled-fill-color);\n",
              "    box-shadow: none;\n",
              "  }\n",
              "\n",
              "  .colab-df-spinner {\n",
              "    border: 2px solid var(--fill-color);\n",
              "    border-color: transparent;\n",
              "    border-bottom-color: var(--fill-color);\n",
              "    animation:\n",
              "      spin 1s steps(1) infinite;\n",
              "  }\n",
              "\n",
              "  @keyframes spin {\n",
              "    0% {\n",
              "      border-color: transparent;\n",
              "      border-bottom-color: var(--fill-color);\n",
              "      border-left-color: var(--fill-color);\n",
              "    }\n",
              "    20% {\n",
              "      border-color: transparent;\n",
              "      border-left-color: var(--fill-color);\n",
              "      border-top-color: var(--fill-color);\n",
              "    }\n",
              "    30% {\n",
              "      border-color: transparent;\n",
              "      border-left-color: var(--fill-color);\n",
              "      border-top-color: var(--fill-color);\n",
              "      border-right-color: var(--fill-color);\n",
              "    }\n",
              "    40% {\n",
              "      border-color: transparent;\n",
              "      border-right-color: var(--fill-color);\n",
              "      border-top-color: var(--fill-color);\n",
              "    }\n",
              "    60% {\n",
              "      border-color: transparent;\n",
              "      border-right-color: var(--fill-color);\n",
              "    }\n",
              "    80% {\n",
              "      border-color: transparent;\n",
              "      border-right-color: var(--fill-color);\n",
              "      border-bottom-color: var(--fill-color);\n",
              "    }\n",
              "    90% {\n",
              "      border-color: transparent;\n",
              "      border-bottom-color: var(--fill-color);\n",
              "    }\n",
              "  }\n",
              "</style>\n",
              "\n",
              "  <script>\n",
              "    async function quickchart(key) {\n",
              "      const quickchartButtonEl =\n",
              "        document.querySelector('#' + key + ' button');\n",
              "      quickchartButtonEl.disabled = true;  // To prevent multiple clicks.\n",
              "      quickchartButtonEl.classList.add('colab-df-spinner');\n",
              "      try {\n",
              "        const charts = await google.colab.kernel.invokeFunction(\n",
              "            'suggestCharts', [key], {});\n",
              "      } catch (error) {\n",
              "        console.error('Error during call to suggestCharts:', error);\n",
              "      }\n",
              "      quickchartButtonEl.classList.remove('colab-df-spinner');\n",
              "      quickchartButtonEl.classList.add('colab-df-quickchart-complete');\n",
              "    }\n",
              "    (() => {\n",
              "      let quickchartButtonEl =\n",
              "        document.querySelector('#df-1620bfe0-6bfc-4b71-b1bd-73a570aba4f7 button');\n",
              "      quickchartButtonEl.style.display =\n",
              "        google.colab.kernel.accessAllowed ? 'block' : 'none';\n",
              "    })();\n",
              "  </script>\n",
              "</div>\n",
              "    </div>\n",
              "  </div>\n"
            ]
          },
          "metadata": {},
          "execution_count": 77
        }
      ]
    },
    {
      "cell_type": "code",
      "source": [
        "df[columns].apply(lambda x: np.log(x + 1)).hist(figsize=(7, 3.5), bins=25)"
      ],
      "metadata": {
        "colab": {
          "base_uri": "https://localhost:8080/",
          "height": 405
        },
        "id": "F2jed3fhzaCw",
        "outputId": "4da40460-b9ff-4229-8c48-ccba6682288c"
      },
      "execution_count": null,
      "outputs": [
        {
          "output_type": "execute_result",
          "data": {
            "text/plain": [
              "array([[<Axes: title={'center': 'viewCount'}>,\n",
              "        <Axes: title={'center': 'likeCount'}>],\n",
              "       [<Axes: title={'center': 'dislikeCount'}>, <Axes: >]], dtype=object)"
            ]
          },
          "metadata": {},
          "execution_count": 78
        },
        {
          "output_type": "display_data",
          "data": {
            "text/plain": [
              "<Figure size 700x350 with 4 Axes>"
            ],
            "image/png": "[encoded data removed]"
          },
          "metadata": {}
        }
      ]
    },
    {
      "cell_type": "markdown",
      "source": [
        "## 6. Усатые ящики"
      ],
      "metadata": {
        "id": "RJDpYxsVzwny"
      }
    },
    {
      "cell_type": "code",
      "source": [
        "df_log = df[columns].apply(lambda x: np.log(x + 1))\n",
        "df_log['music_style'] = df['music_style']\n",
        "df_log.head()"
      ],
      "metadata": {
        "colab": {
          "base_uri": "https://localhost:8080/",
          "height": 206
        },
        "id": "Ze8PfFXZzzuL",
        "outputId": "cb3858ed-a099-434d-f63a-859dbc0eade7"
      },
      "execution_count": null,
      "outputs": [
        {
          "output_type": "execute_result",
          "data": {
            "text/plain": [
              "   viewCount  likeCount  dislikeCount music_style\n",
              "0  12.275142   7.246368      3.784190       popsa\n",
              "1  14.613657   9.262268      6.538140       popsa\n",
              "2  10.604801   5.598422      2.397895       popsa\n",
              "3   9.384966   5.099866      2.079442       popsa\n",
              "4  11.423919   6.393591      2.995732       popsa"
            ],
            "text/html": [
              "\n",
              "  <div id=\"df-198e640d-a5b0-4cd1-b616-d142e31f3181\" class=\"colab-df-container\">\n",
              "    <div>\n",
              "<style scoped>\n",
              "    .dataframe tbody tr th:only-of-type {\n",
              "        vertical-align: middle;\n",
              "    }\n",
              "\n",
              "    .dataframe tbody tr th {\n",
              "        vertical-align: top;\n",
              "    }\n",
              "\n",
              "    .dataframe thead th {\n",
              "        text-align: right;\n",
              "    }\n",
              "</style>\n",
              "<table border=\"1\" class=\"dataframe\">\n",
              "  <thead>\n",
              "    <tr style=\"text-align: right;\">\n",
              "      <th></th>\n",
              "      <th>viewCount</th>\n",
              "      <th>likeCount</th>\n",
              "      <th>dislikeCount</th>\n",
              "      <th>music_style</th>\n",
              "    </tr>\n",
              "  </thead>\n",
              "  <tbody>\n",
              "    <tr>\n",
              "      <th>0</th>\n",
              "      <td>12.275142</td>\n",
              "      <td>7.246368</td>\n",
              "      <td>3.784190</td>\n",
              "      <td>popsa</td>\n",
              "    </tr>\n",
              "    <tr>\n",
              "      <th>1</th>\n",
              "      <td>14.613657</td>\n",
              "      <td>9.262268</td>\n",
              "      <td>6.538140</td>\n",
              "      <td>popsa</td>\n",
              "    </tr>\n",
              "    <tr>\n",
              "      <th>2</th>\n",
              "      <td>10.604801</td>\n",
              "      <td>5.598422</td>\n",
              "      <td>2.397895</td>\n",
              "      <td>popsa</td>\n",
              "    </tr>\n",
              "    <tr>\n",
              "      <th>3</th>\n",
              "      <td>9.384966</td>\n",
              "      <td>5.099866</td>\n",
              "      <td>2.079442</td>\n",
              "      <td>popsa</td>\n",
              "    </tr>\n",
              "    <tr>\n",
              "      <th>4</th>\n",
              "      <td>11.423919</td>\n",
              "      <td>6.393591</td>\n",
              "      <td>2.995732</td>\n",
              "      <td>popsa</td>\n",
              "    </tr>\n",
              "  </tbody>\n",
              "</table>\n",
              "</div>\n",
              "    <div class=\"colab-df-buttons\">\n",
              "\n",
              "  <div class=\"colab-df-container\">\n",
              "    <button class=\"colab-df-convert\" onclick=\"convertToInteractive('df-198e640d-a5b0-4cd1-b616-d142e31f3181')\"\n",
              "            title=\"Convert this dataframe to an interactive table.\"\n",
              "            style=\"display:none;\">\n",
              "\n",
              "  <svg xmlns=\"http://www.w3.org/2000/svg\" height=\"24px\" viewBox=\"0 -960 960 960\">\n",
              "    <path d=\"M120-120v-720h720v720H120Zm60-500h600v-160H180v160Zm220 220h160v-160H400v160Zm0 220h160v-160H400v160ZM180-400h160v-160H180v160Zm440 0h160v-160H620v160ZM180-180h160v-160H180v160Zm440 0h160v-160H620v160Z\"/>\n",
              "  </svg>\n",
              "    </button>\n",
              "\n",
              "  <style>\n",
              "    .colab-df-container {\n",
              "      display:flex;\n",
              "      gap: 12px;\n",
              "    }\n",
              "\n",
              "    .colab-df-convert {\n",
              "      background-color: #E8F0FE;\n",
              "      border: none;\n",
              "      border-radius: 50%;\n",
              "      cursor: pointer;\n",
              "      display: none;\n",
              "      fill: #1967D2;\n",
              "      height: 32px;\n",
              "      padding: 0 0 0 0;\n",
              "      width: 32px;\n",
              "    }\n",
              "\n",
              "    .colab-df-convert:hover {\n",
              "      background-color: #E2EBFA;\n",
              "      box-shadow: 0px 1px 2px rgba(60, 64, 67, 0.3), 0px 1px 3px 1px rgba(60, 64, 67, 0.15);\n",
              "      fill: #174EA6;\n",
              "    }\n",
              "\n",
              "    .colab-df-buttons div {\n",
              "      margin-bottom: 4px;\n",
              "    }\n",
              "\n",
              "    [theme=dark] .colab-df-convert {\n",
              "      background-color: #3B4455;\n",
              "      fill: #D2E3FC;\n",
              "    }\n",
              "\n",
              "    [theme=dark] .colab-df-convert:hover {\n",
              "      background-color: #434B5C;\n",
              "      box-shadow: 0px 1px 3px 1px rgba(0, 0, 0, 0.15);\n",
              "      filter: drop-shadow(0px 1px 2px rgba(0, 0, 0, 0.3));\n",
              "      fill: #FFFFFF;\n",
              "    }\n",
              "  </style>\n",
              "\n",
              "    <script>\n",
              "      const buttonEl =\n",
              "        document.querySelector('#df-198e640d-a5b0-4cd1-b616-d142e31f3181 button.colab-df-convert');\n",
              "      buttonEl.style.display =\n",
              "        google.colab.kernel.accessAllowed ? 'block' : 'none';\n",
              "\n",
              "      async function convertToInteractive(key) {\n",
              "        const element = document.querySelector('#df-198e640d-a5b0-4cd1-b616-d142e31f3181');\n",
              "        const dataTable =\n",
              "          await google.colab.kernel.invokeFunction('convertToInteractive',\n",
              "                                                    [key], {});\n",
              "        if (!dataTable) return;\n",
              "\n",
              "        const docLinkHtml = 'Like what you see? Visit the ' +\n",
              "          '<a target=\"_blank\" href=https://colab.research.google.com/notebooks/data_table.ipynb>data table notebook</a>'\n",
              "          + ' to learn more about interactive tables.';\n",
              "        element.innerHTML = '';\n",
              "        dataTable['output_type'] = 'display_data';\n",
              "        await google.colab.output.renderOutput(dataTable, element);\n",
              "        const docLink = document.createElement('div');\n",
              "        docLink.innerHTML = docLinkHtml;\n",
              "        element.appendChild(docLink);\n",
              "      }\n",
              "    </script>\n",
              "  </div>\n",
              "\n",
              "\n",
              "<div id=\"df-3951921b-1bc7-4de8-86f1-3fb8b293b43b\">\n",
              "  <button class=\"colab-df-quickchart\" onclick=\"quickchart('df-3951921b-1bc7-4de8-86f1-3fb8b293b43b')\"\n",
              "            title=\"Suggest charts\"\n",
              "            style=\"display:none;\">\n",
              "\n",
              "<svg xmlns=\"http://www.w3.org/2000/svg\" height=\"24px\"viewBox=\"0 0 24 24\"\n",
              "     width=\"24px\">\n",
              "    <g>\n",
              "        <path d=\"M19 3H5c-1.1 0-2 .9-2 2v14c0 1.1.9 2 2 2h14c1.1 0 2-.9 2-2V5c0-1.1-.9-2-2-2zM9 17H7v-7h2v7zm4 0h-2V7h2v10zm4 0h-2v-4h2v4z\"/>\n",
              "    </g>\n",
              "</svg>\n",
              "  </button>\n",
              "\n",
              "<style>\n",
              "  .colab-df-quickchart {\n",
              "      --bg-color: #E8F0FE;\n",
              "      --fill-color: #1967D2;\n",
              "      --hover-bg-color: #E2EBFA;\n",
              "      --hover-fill-color: #174EA6;\n",
              "      --disabled-fill-color: #AAA;\n",
              "      --disabled-bg-color: #DDD;\n",
              "  }\n",
              "\n",
              "  [theme=dark] .colab-df-quickchart {\n",
              "      --bg-color: #3B4455;\n",
              "      --fill-color: #D2E3FC;\n",
              "      --hover-bg-color: #434B5C;\n",
              "      --hover-fill-color: #FFFFFF;\n",
              "      --disabled-bg-color: #3B4455;\n",
              "      --disabled-fill-color: #666;\n",
              "  }\n",
              "\n",
              "  .colab-df-quickchart {\n",
              "    background-color: var(--bg-color);\n",
              "    border: none;\n",
              "    border-radius: 50%;\n",
              "    cursor: pointer;\n",
              "    display: none;\n",
              "    fill: var(--fill-color);\n",
              "    height: 32px;\n",
              "    padding: 0;\n",
              "    width: 32px;\n",
              "  }\n",
              "\n",
              "  .colab-df-quickchart:hover {\n",
              "    background-color: var(--hover-bg-color);\n",
              "    box-shadow: 0 1px 2px rgba(60, 64, 67, 0.3), 0 1px 3px 1px rgba(60, 64, 67, 0.15);\n",
              "    fill: var(--button-hover-fill-color);\n",
              "  }\n",
              "\n",
              "  .colab-df-quickchart-complete:disabled,\n",
              "  .colab-df-quickchart-complete:disabled:hover {\n",
              "    background-color: var(--disabled-bg-color);\n",
              "    fill: var(--disabled-fill-color);\n",
              "    box-shadow: none;\n",
              "  }\n",
              "\n",
              "  .colab-df-spinner {\n",
              "    border: 2px solid var(--fill-color);\n",
              "    border-color: transparent;\n",
              "    border-bottom-color: var(--fill-color);\n",
              "    animation:\n",
              "      spin 1s steps(1) infinite;\n",
              "  }\n",
              "\n",
              "  @keyframes spin {\n",
              "    0% {\n",
              "      border-color: transparent;\n",
              "      border-bottom-color: var(--fill-color);\n",
              "      border-left-color: var(--fill-color);\n",
              "    }\n",
              "    20% {\n",
              "      border-color: transparent;\n",
              "      border-left-color: var(--fill-color);\n",
              "      border-top-color: var(--fill-color);\n",
              "    }\n",
              "    30% {\n",
              "      border-color: transparent;\n",
              "      border-left-color: var(--fill-color);\n",
              "      border-top-color: var(--fill-color);\n",
              "      border-right-color: var(--fill-color);\n",
              "    }\n",
              "    40% {\n",
              "      border-color: transparent;\n",
              "      border-right-color: var(--fill-color);\n",
              "      border-top-color: var(--fill-color);\n",
              "    }\n",
              "    60% {\n",
              "      border-color: transparent;\n",
              "      border-right-color: var(--fill-color);\n",
              "    }\n",
              "    80% {\n",
              "      border-color: transparent;\n",
              "      border-right-color: var(--fill-color);\n",
              "      border-bottom-color: var(--fill-color);\n",
              "    }\n",
              "    90% {\n",
              "      border-color: transparent;\n",
              "      border-bottom-color: var(--fill-color);\n",
              "    }\n",
              "  }\n",
              "</style>\n",
              "\n",
              "  <script>\n",
              "    async function quickchart(key) {\n",
              "      const quickchartButtonEl =\n",
              "        document.querySelector('#' + key + ' button');\n",
              "      quickchartButtonEl.disabled = true;  // To prevent multiple clicks.\n",
              "      quickchartButtonEl.classList.add('colab-df-spinner');\n",
              "      try {\n",
              "        const charts = await google.colab.kernel.invokeFunction(\n",
              "            'suggestCharts', [key], {});\n",
              "      } catch (error) {\n",
              "        console.error('Error during call to suggestCharts:', error);\n",
              "      }\n",
              "      quickchartButtonEl.classList.remove('colab-df-spinner');\n",
              "      quickchartButtonEl.classList.add('colab-df-quickchart-complete');\n",
              "    }\n",
              "    (() => {\n",
              "      let quickchartButtonEl =\n",
              "        document.querySelector('#df-3951921b-1bc7-4de8-86f1-3fb8b293b43b button');\n",
              "      quickchartButtonEl.style.display =\n",
              "        google.colab.kernel.accessAllowed ? 'block' : 'none';\n",
              "    })();\n",
              "  </script>\n",
              "</div>\n",
              "    </div>\n",
              "  </div>\n"
            ]
          },
          "metadata": {},
          "execution_count": 79
        }
      ]
    },
    {
      "cell_type": "code",
      "source": [
        "plt.figure(figsize=(7, 3.5))\n",
        "sns.boxplot(x='music_style', y='likeCount', data=df_log)\n",
        "plt.xlabel('Музыкальный жанр')\n",
        "plt.ylabel('Количество лайков')"
      ],
      "metadata": {
        "colab": {
          "base_uri": "https://localhost:8080/",
          "height": 370
        },
        "id": "zs2sxHYx0C7k",
        "outputId": "1951116f-a3b3-4748-ba56-d1cabb2339c8"
      },
      "execution_count": null,
      "outputs": [
        {
          "output_type": "execute_result",
          "data": {
            "text/plain": [
              "Text(0, 0.5, 'Количество лайков')"
            ]
          },
          "metadata": {},
          "execution_count": 80
        },
        {
          "output_type": "display_data",
          "data": {
            "text/plain": [
              "<Figure size 700x350 with 1 Axes>"
            ],
            "image/png": "[encoded data removed]"
          },
          "metadata": {}
        }
      ]
    },
    {
      "cell_type": "markdown",
      "source": [
        "не совсем ящик, не совсем с усами"
      ],
      "metadata": {
        "id": "kh2z0l9x02jD"
      }
    },
    {
      "cell_type": "code",
      "source": [
        "plt.figure(figsize=(7, 3.5))\n",
        "sns.violinplot(x='music_style', y='likeCount', data=df_log, inner='quartile')\n",
        "plt.xlabel('Музыкальный жанр')\n",
        "plt.ylabel('Количество лайков')"
      ],
      "metadata": {
        "colab": {
          "base_uri": "https://localhost:8080/",
          "height": 370
        },
        "id": "yn5h_55e01Ub",
        "outputId": "4b2ca28e-900e-4705-bfa6-772388528510"
      },
      "execution_count": null,
      "outputs": [
        {
          "output_type": "execute_result",
          "data": {
            "text/plain": [
              "Text(0, 0.5, 'Количество лайков')"
            ]
          },
          "metadata": {},
          "execution_count": 82
        },
        {
          "output_type": "display_data",
          "data": {
            "text/plain": [
              "<Figure size 700x350 with 1 Axes>"
            ],
            "image/png": "[encoded data removed]"
          },
          "metadata": {}
        }
      ]
    },
    {
      "cell_type": "markdown",
      "source": [
        "# Сессия ответов на вопросы"
      ],
      "metadata": {
        "id": "Xo0VnxOu1ZMz"
      }
    },
    {
      "cell_type": "markdown",
      "source": [
        "## 1. Сколько наблюдений?"
      ],
      "metadata": {
        "id": "j7_wRJ1e1fL5"
      }
    },
    {
      "cell_type": "code",
      "source": [
        "df.shape"
      ],
      "metadata": {
        "colab": {
          "base_uri": "https://localhost:8080/"
        },
        "id": "vao-Z-Gn1ezX",
        "outputId": "e650fb78-73d6-4f3a-cc27-28e923bde47a"
      },
      "execution_count": null,
      "outputs": [
        {
          "output_type": "execute_result",
          "data": {
            "text/plain": [
              "(19124, 11)"
            ]
          },
          "metadata": {},
          "execution_count": 85
        }
      ]
    },
    {
      "cell_type": "code",
      "source": [
        "df.size"
      ],
      "metadata": {
        "colab": {
          "base_uri": "https://localhost:8080/"
        },
        "id": "uexJS-cv105f",
        "outputId": "4357ed1c-452c-4911-ea30-b9e64bd94c4a"
      },
      "execution_count": null,
      "outputs": [
        {
          "output_type": "execute_result",
          "data": {
            "text/plain": [
              "210364"
            ]
          },
          "metadata": {},
          "execution_count": 86
        }
      ]
    },
    {
      "cell_type": "markdown",
      "source": [
        "## 2. Сколько уникальных испольнителей в данных?"
      ],
      "metadata": {
        "id": "ntC2maOA14PF"
      }
    },
    {
      "cell_type": "code",
      "source": [
        "len(set(df['performer']))"
      ],
      "metadata": {
        "colab": {
          "base_uri": "https://localhost:8080/"
        },
        "id": "Wh1YDwiI18fB",
        "outputId": "d6fa360e-d169-4103-f0d4-04ba8efff4e9"
      },
      "execution_count": null,
      "outputs": [
        {
          "output_type": "execute_result",
          "data": {
            "text/plain": [
              "111"
            ]
          },
          "metadata": {},
          "execution_count": 88
        }
      ]
    },
    {
      "cell_type": "code",
      "source": [
        "len(df['performer'].unique())"
      ],
      "metadata": {
        "colab": {
          "base_uri": "https://localhost:8080/"
        },
        "id": "FJ1PsT-Z2JRo",
        "outputId": "e90ae0b9-caaa-48ed-c46a-e89977d61be2"
      },
      "execution_count": null,
      "outputs": [
        {
          "output_type": "execute_result",
          "data": {
            "text/plain": [
              "111"
            ]
          },
          "metadata": {},
          "execution_count": 90
        }
      ]
    },
    {
      "cell_type": "code",
      "source": [
        "df['performer'].unique().shape # или .size (вектор же одномерный)"
      ],
      "metadata": {
        "colab": {
          "base_uri": "https://localhost:8080/"
        },
        "id": "HytZEKK72VOQ",
        "outputId": "c03a61da-2add-46e1-df18-bb453c120c06"
      },
      "execution_count": null,
      "outputs": [
        {
          "output_type": "execute_result",
          "data": {
            "text/plain": [
              "(111,)"
            ]
          },
          "metadata": {},
          "execution_count": 92
        }
      ]
    },
    {
      "cell_type": "markdown",
      "source": [
        "## 3. Выведите троих исполнителей, у которых больше всего клипов"
      ],
      "metadata": {
        "id": "S0cTSX632kJ6"
      }
    },
    {
      "cell_type": "code",
      "source": [
        "df['performer'].value_counts().head(3)"
      ],
      "metadata": {
        "colab": {
          "base_uri": "https://localhost:8080/"
        },
        "id": "_PrksAvu2rL2",
        "outputId": "5434149e-fb81-4a59-bf3a-036b8791c01e"
      },
      "execution_count": null,
      "outputs": [
        {
          "output_type": "execute_result",
          "data": {
            "text/plain": [
              "николаев    566\n",
              "валерия     525\n",
              "михайлов    516\n",
              "Name: performer, dtype: int64"
            ]
          },
          "metadata": {},
          "execution_count": 96
        }
      ]
    },
    {
      "cell_type": "code",
      "source": [
        "x = list(df['performer'].value_counts()[:3].index)\n",
        "x"
      ],
      "metadata": {
        "colab": {
          "base_uri": "https://localhost:8080/"
        },
        "id": "bEjUXg1g3VNf",
        "outputId": "9edf3861-959f-4c41-8c87-4f28e90e9767"
      },
      "execution_count": null,
      "outputs": [
        {
          "output_type": "execute_result",
          "data": {
            "text/plain": [
              "['николаев', 'валерия', 'михайлов']"
            ]
          },
          "metadata": {},
          "execution_count": 101
        }
      ]
    },
    {
      "cell_type": "markdown",
      "source": [
        "## 4. Какая доля клипов приходится на рэп?"
      ],
      "metadata": {
        "id": "GYdYi6nt3nXO"
      }
    },
    {
      "cell_type": "code",
      "source": [
        "df['music_style'].value_counts()"
      ],
      "metadata": {
        "colab": {
          "base_uri": "https://localhost:8080/"
        },
        "id": "2suioWsV4LVX",
        "outputId": "db4243ed-482e-48fc-cbbd-4d5f21930497"
      },
      "execution_count": null,
      "outputs": [
        {
          "output_type": "execute_result",
          "data": {
            "text/plain": [
              "rock       5888\n",
              "estrada    4151\n",
              "popsa      3339\n",
              "shanson    2061\n",
              "rap        2028\n",
              "indi       1359\n",
              "classic     298\n",
              "Name: music_style, dtype: int64"
            ]
          },
          "metadata": {},
          "execution_count": 110
        }
      ]
    },
    {
      "cell_type": "code",
      "source": [
        "rap = df[df['music_style'] == 'rap'].shape[0]\n",
        "rap"
      ],
      "metadata": {
        "colab": {
          "base_uri": "https://localhost:8080/"
        },
        "id": "1wUlLxin3ttA",
        "outputId": "6234d4b1-11f1-423b-a390-f081a1b4a7f9"
      },
      "execution_count": null,
      "outputs": [
        {
          "output_type": "execute_result",
          "data": {
            "text/plain": [
              "2028"
            ]
          },
          "metadata": {},
          "execution_count": 112
        }
      ]
    },
    {
      "cell_type": "code",
      "source": [
        "other_genre = df[df['music_style'] != 'rap'].shape[0]\n",
        "other_genre"
      ],
      "metadata": {
        "colab": {
          "base_uri": "https://localhost:8080/"
        },
        "id": "52VPgp5I4RhH",
        "outputId": "bcf95e70-9a27-49d3-beed-59a5a1ef0fef"
      },
      "execution_count": null,
      "outputs": [
        {
          "output_type": "execute_result",
          "data": {
            "text/plain": [
              "17096"
            ]
          },
          "metadata": {},
          "execution_count": 114
        }
      ]
    },
    {
      "cell_type": "code",
      "source": [
        "len_music_styles = rap + other_genre\n",
        "print(rap * 100 / len_music_styles)"
      ],
      "metadata": {
        "colab": {
          "base_uri": "https://localhost:8080/"
        },
        "id": "LbnVE5nv4isn",
        "outputId": "bf01da80-d383-4323-bfea-637e291ea075"
      },
      "execution_count": null,
      "outputs": [
        {
          "output_type": "stream",
          "name": "stdout",
          "text": [
            "10.604476051035348\n"
          ]
        }
      ]
    },
    {
      "cell_type": "code",
      "source": [
        "(df[df['music_style'] == 'rap'].shape[0]) * 100 / df.shape[0]"
      ],
      "metadata": {
        "colab": {
          "base_uri": "https://localhost:8080/"
        },
        "id": "io_ma1EA539F",
        "outputId": "d4b25b78-cb68-4c08-f96e-b376218dd7f1"
      },
      "execution_count": null,
      "outputs": [
        {
          "output_type": "execute_result",
          "data": {
            "text/plain": [
              "10.604476051035348"
            ]
          },
          "metadata": {},
          "execution_count": 129
        }
      ]
    },
    {
      "cell_type": "markdown",
      "source": [
        "## 5. Какая доля приходится на разные жанры?"
      ],
      "metadata": {
        "id": "mnXDzz-85R3m"
      }
    },
    {
      "cell_type": "code",
      "source": [
        "y = (df['music_style'].value_counts()) * 100 / df.shape[0]\n",
        "y"
      ],
      "metadata": {
        "colab": {
          "base_uri": "https://localhost:8080/"
        },
        "id": "LlsWMpPv5Wrx",
        "outputId": "c05581ff-f299-4fec-d734-0900f43cce43"
      },
      "execution_count": null,
      "outputs": [
        {
          "output_type": "execute_result",
          "data": {
            "text/plain": [
              "rock       30.788538\n",
              "estrada    21.705710\n",
              "popsa      17.459736\n",
              "shanson    10.777034\n",
              "rap        10.604476\n",
              "indi        7.106254\n",
              "classic     1.558251\n",
              "Name: music_style, dtype: float64"
            ]
          },
          "metadata": {},
          "execution_count": 134
        }
      ]
    },
    {
      "cell_type": "code",
      "source": [
        "y.plot(kind='bar')"
      ],
      "metadata": {
        "colab": {
          "base_uri": "https://localhost:8080/",
          "height": 490
        },
        "id": "4fzP5drD6iSY",
        "outputId": "b475faac-ff03-4f0f-f53b-5bb21146e977"
      },
      "execution_count": null,
      "outputs": [
        {
          "output_type": "execute_result",
          "data": {
            "text/plain": [
              "<Axes: >"
            ]
          },
          "metadata": {},
          "execution_count": 135
        },
        {
          "output_type": "display_data",
          "data": {
            "text/plain": [
              "<Figure size 640x480 with 1 Axes>"
            ],
            "image/png": "[encoded data removed]"
          },
          "metadata": {}
        }
      ]
    },
    {
      "cell_type": "markdown",
      "source": [
        "## 6. Сколько исполнителей пишут музыку в разных жанрах?"
      ],
      "metadata": {
        "id": "OSuzUAn_6zrn"
      }
    },
    {
      "cell_type": "code",
      "source": [
        "df_agg = df.groupby('performer')['music_style'].agg(['nunique'])\n",
        "(df_agg > 1).sum()"
      ],
      "metadata": {
        "colab": {
          "base_uri": "https://localhost:8080/"
        },
        "id": "v40QK9D466cQ",
        "outputId": "95ab9d11-dec3-4dfe-a04d-ba76bf75a57f"
      },
      "execution_count": null,
      "outputs": [
        {
          "output_type": "execute_result",
          "data": {
            "text/plain": [
              "nunique    0\n",
              "dtype: int64"
            ]
          },
          "metadata": {},
          "execution_count": 150
        }
      ]
    },
    {
      "cell_type": "markdown",
      "source": [
        "## 7. Сколько в среднем просмотров под видео с likeCount > 100000 и Commentators_uniq > 50"
      ],
      "metadata": {
        "id": "XLcz3zWT8Xc9"
      }
    },
    {
      "cell_type": "code",
      "source": [
        "df_like = df[df['likeCount'] > 100000]\n",
        "df_like_comm = df_like[df['commentators_uniq'] > 50]\n",
        "df_like_comm['viewCount'].mean()"
      ],
      "metadata": {
        "colab": {
          "base_uri": "https://localhost:8080/"
        },
        "id": "qQNpxqu68hIg",
        "outputId": "b72a4e40-3886-453a-ede1-032a4a7c621c"
      },
      "execution_count": null,
      "outputs": [
        {
          "output_type": "stream",
          "name": "stderr",
          "text": [
            "<ipython-input-159-2d1bce001b95>:2: UserWarning: Boolean Series key will be reindexed to match DataFrame index.\n",
            "  df_like_comm = df_like[df['commentators_uniq'] > 50]\n"
          ]
        },
        {
          "output_type": "execute_result",
          "data": {
            "text/plain": [
              "39326558.901869155"
            ]
          },
          "metadata": {},
          "execution_count": 159
        }
      ]
    },
    {
      "cell_type": "code",
      "source": [
        "new_df = df[(df['likeCount'] > 100000)&(df['commentators_uniq'] > 50)]\n",
        "new_df['viewCount'].mean()"
      ],
      "metadata": {
        "colab": {
          "base_uri": "https://localhost:8080/"
        },
        "id": "IEN3UkWW-GDq",
        "outputId": "bb4b9e57-dcc1-40ab-d712-468144f90ff2"
      },
      "execution_count": null,
      "outputs": [
        {
          "output_type": "execute_result",
          "data": {
            "text/plain": [
              "39326558.901869155"
            ]
          },
          "metadata": {},
          "execution_count": 160
        }
      ]
    },
    {
      "cell_type": "markdown",
      "source": [
        "## 8. Выведите 5% самых популярных исполнителей. В качестве меры популярности используйте разность между медианным числом лайков и дизлайков. Оценку популярности стройте только по исполнителям, собравшим в сумме больше 100000 лайков."
      ],
      "metadata": {
        "id": "ZXs2Cy2M-maz"
      }
    },
    {
      "cell_type": "code",
      "source": [
        "df_likes = df[df['likeCount'] > 100000]\n",
        "\n",
        "df_performers = df_likes.groupby('performer')[['likeCount', 'dislikeCount']].median()\n",
        "df_performers"
      ],
      "metadata": {
        "colab": {
          "base_uri": "https://localhost:8080/",
          "height": 1000
        },
        "id": "YRQ7fy-_-8aO",
        "outputId": "c1eb5cda-5d25-4fe7-a438-6cf329a95545"
      },
      "execution_count": null,
      "outputs": [
        {
          "output_type": "execute_result",
          "data": {
            "text/plain": [
              "                   likeCount  dislikeCount\n",
              "performer                                 \n",
              "2маши               212909.0       24583.0\n",
              "classical_channel   271070.5       10307.5\n",
              "face                405493.0       54433.0\n",
              "feduk               381360.0       44912.0\n",
              "gazgolder           192971.0       16075.0\n",
              "iowa                159995.0       15828.0\n",
              "johnyboy            135204.0       17801.0\n",
              "loboda              163510.0       34707.0\n",
              "lone                196011.5       16396.0\n",
              "miyagi&эндшпиль     744964.0       43281.0\n",
              "noizemc             136037.0       16491.0\n",
              "oxxxymiron          185535.0       10925.5\n",
              "pharaon             193710.0       29281.5\n",
              "serebro             155140.0       13793.0\n",
              "антоха_мс           141484.0        5090.0\n",
              "барских             165074.0       19383.5\n",
              "билан               273660.0       26857.0\n",
              "бузова              196820.5       93109.5\n",
              "валерия             105405.0        2458.0\n",
              "виа_гра             114552.0       14166.0\n",
              "гагарина            129804.5       20151.0\n",
              "звери               170768.0        9227.0\n",
              "караулова           119438.0        6829.0\n",
              "кино                138371.0        7608.0\n",
              "кипелов             193033.0       17828.0\n",
              "киркоров            377957.0      348770.0\n",
              "кока                149350.5        6795.5\n",
              "крид                248318.0       16877.0\n",
              "лазарев             201703.0       28853.0\n",
              "ленинград           200555.0       39620.5\n",
              "лолита              102636.0       10491.0\n",
              "лсп                 349399.5       12049.5\n",
              "макsим              115186.0        6526.0\n",
              "мальбэк             257428.0       12013.0\n",
              "монеточка           153159.0       32478.0\n",
              "мот                 196179.0       15640.0\n",
              "нюша                122264.0       11359.0\n",
              "пошлая_молли        154171.0       27107.0\n",
              "руки_вверх          306045.5       19916.5\n",
              "тимати              211208.0       42211.0\n",
              "хаски               114810.0       12159.0\n",
              "элджей              203876.0       42829.0"
            ],
            "text/html": [
              "\n",
              "  <div id=\"df-b4213825-6037-4155-a766-a3e12f8f6c97\" class=\"colab-df-container\">\n",
              "    <div>\n",
              "<style scoped>\n",
              "    .dataframe tbody tr th:only-of-type {\n",
              "        vertical-align: middle;\n",
              "    }\n",
              "\n",
              "    .dataframe tbody tr th {\n",
              "        vertical-align: top;\n",
              "    }\n",
              "\n",
              "    .dataframe thead th {\n",
              "        text-align: right;\n",
              "    }\n",
              "</style>\n",
              "<table border=\"1\" class=\"dataframe\">\n",
              "  <thead>\n",
              "    <tr style=\"text-align: right;\">\n",
              "      <th></th>\n",
              "      <th>likeCount</th>\n",
              "      <th>dislikeCount</th>\n",
              "    </tr>\n",
              "    <tr>\n",
              "      <th>performer</th>\n",
              "      <th></th>\n",
              "      <th></th>\n",
              "    </tr>\n",
              "  </thead>\n",
              "  <tbody>\n",
              "    <tr>\n",
              "      <th>2маши</th>\n",
              "      <td>212909.0</td>\n",
              "      <td>24583.0</td>\n",
              "    </tr>\n",
              "    <tr>\n",
              "      <th>classical_channel</th>\n",
              "      <td>271070.5</td>\n",
              "      <td>10307.5</td>\n",
              "    </tr>\n",
              "    <tr>\n",
              "      <th>face</th>\n",
              "      <td>405493.0</td>\n",
              "      <td>54433.0</td>\n",
              "    </tr>\n",
              "    <tr>\n",
              "      <th>feduk</th>\n",
              "      <td>381360.0</td>\n",
              "      <td>44912.0</td>\n",
              "    </tr>\n",
              "    <tr>\n",
              "      <th>gazgolder</th>\n",
              "      <td>192971.0</td>\n",
              "      <td>16075.0</td>\n",
              "    </tr>\n",
              "    <tr>\n",
              "      <th>iowa</th>\n",
              "      <td>159995.0</td>\n",
              "      <td>15828.0</td>\n",
              "    </tr>\n",
              "    <tr>\n",
              "      <th>johnyboy</th>\n",
              "      <td>135204.0</td>\n",
              "      <td>17801.0</td>\n",
              "    </tr>\n",
              "    <tr>\n",
              "      <th>loboda</th>\n",
              "      <td>163510.0</td>\n",
              "      <td>34707.0</td>\n",
              "    </tr>\n",
              "    <tr>\n",
              "      <th>lone</th>\n",
              "      <td>196011.5</td>\n",
              "      <td>16396.0</td>\n",
              "    </tr>\n",
              "    <tr>\n",
              "      <th>miyagi&amp;эндшпиль</th>\n",
              "      <td>744964.0</td>\n",
              "      <td>43281.0</td>\n",
              "    </tr>\n",
              "    <tr>\n",
              "      <th>noizemc</th>\n",
              "      <td>136037.0</td>\n",
              "      <td>16491.0</td>\n",
              "    </tr>\n",
              "    <tr>\n",
              "      <th>oxxxymiron</th>\n",
              "      <td>185535.0</td>\n",
              "      <td>10925.5</td>\n",
              "    </tr>\n",
              "    <tr>\n",
              "      <th>pharaon</th>\n",
              "      <td>193710.0</td>\n",
              "      <td>29281.5</td>\n",
              "    </tr>\n",
              "    <tr>\n",
              "      <th>serebro</th>\n",
              "      <td>155140.0</td>\n",
              "      <td>13793.0</td>\n",
              "    </tr>\n",
              "    <tr>\n",
              "      <th>антоха_мс</th>\n",
              "      <td>141484.0</td>\n",
              "      <td>5090.0</td>\n",
              "    </tr>\n",
              "    <tr>\n",
              "      <th>барских</th>\n",
              "      <td>165074.0</td>\n",
              "      <td>19383.5</td>\n",
              "    </tr>\n",
              "    <tr>\n",
              "      <th>билан</th>\n",
              "      <td>273660.0</td>\n",
              "      <td>26857.0</td>\n",
              "    </tr>\n",
              "    <tr>\n",
              "      <th>бузова</th>\n",
              "      <td>196820.5</td>\n",
              "      <td>93109.5</td>\n",
              "    </tr>\n",
              "    <tr>\n",
              "      <th>валерия</th>\n",
              "      <td>105405.0</td>\n",
              "      <td>2458.0</td>\n",
              "    </tr>\n",
              "    <tr>\n",
              "      <th>виа_гра</th>\n",
              "      <td>114552.0</td>\n",
              "      <td>14166.0</td>\n",
              "    </tr>\n",
              "    <tr>\n",
              "      <th>гагарина</th>\n",
              "      <td>129804.5</td>\n",
              "      <td>20151.0</td>\n",
              "    </tr>\n",
              "    <tr>\n",
              "      <th>звери</th>\n",
              "      <td>170768.0</td>\n",
              "      <td>9227.0</td>\n",
              "    </tr>\n",
              "    <tr>\n",
              "      <th>караулова</th>\n",
              "      <td>119438.0</td>\n",
              "      <td>6829.0</td>\n",
              "    </tr>\n",
              "    <tr>\n",
              "      <th>кино</th>\n",
              "      <td>138371.0</td>\n",
              "      <td>7608.0</td>\n",
              "    </tr>\n",
              "    <tr>\n",
              "      <th>кипелов</th>\n",
              "      <td>193033.0</td>\n",
              "      <td>17828.0</td>\n",
              "    </tr>\n",
              "    <tr>\n",
              "      <th>киркоров</th>\n",
              "      <td>377957.0</td>\n",
              "      <td>348770.0</td>\n",
              "    </tr>\n",
              "    <tr>\n",
              "      <th>кока</th>\n",
              "      <td>149350.5</td>\n",
              "      <td>6795.5</td>\n",
              "    </tr>\n",
              "    <tr>\n",
              "      <th>крид</th>\n",
              "      <td>248318.0</td>\n",
              "      <td>16877.0</td>\n",
              "    </tr>\n",
              "    <tr>\n",
              "      <th>лазарев</th>\n",
              "      <td>201703.0</td>\n",
              "      <td>28853.0</td>\n",
              "    </tr>\n",
              "    <tr>\n",
              "      <th>ленинград</th>\n",
              "      <td>200555.0</td>\n",
              "      <td>39620.5</td>\n",
              "    </tr>\n",
              "    <tr>\n",
              "      <th>лолита</th>\n",
              "      <td>102636.0</td>\n",
              "      <td>10491.0</td>\n",
              "    </tr>\n",
              "    <tr>\n",
              "      <th>лсп</th>\n",
              "      <td>349399.5</td>\n",
              "      <td>12049.5</td>\n",
              "    </tr>\n",
              "    <tr>\n",
              "      <th>макsим</th>\n",
              "      <td>115186.0</td>\n",
              "      <td>6526.0</td>\n",
              "    </tr>\n",
              "    <tr>\n",
              "      <th>мальбэк</th>\n",
              "      <td>257428.0</td>\n",
              "      <td>12013.0</td>\n",
              "    </tr>\n",
              "    <tr>\n",
              "      <th>монеточка</th>\n",
              "      <td>153159.0</td>\n",
              "      <td>32478.0</td>\n",
              "    </tr>\n",
              "    <tr>\n",
              "      <th>мот</th>\n",
              "      <td>196179.0</td>\n",
              "      <td>15640.0</td>\n",
              "    </tr>\n",
              "    <tr>\n",
              "      <th>нюша</th>\n",
              "      <td>122264.0</td>\n",
              "      <td>11359.0</td>\n",
              "    </tr>\n",
              "    <tr>\n",
              "      <th>пошлая_молли</th>\n",
              "      <td>154171.0</td>\n",
              "      <td>27107.0</td>\n",
              "    </tr>\n",
              "    <tr>\n",
              "      <th>руки_вверх</th>\n",
              "      <td>306045.5</td>\n",
              "      <td>19916.5</td>\n",
              "    </tr>\n",
              "    <tr>\n",
              "      <th>тимати</th>\n",
              "      <td>211208.0</td>\n",
              "      <td>42211.0</td>\n",
              "    </tr>\n",
              "    <tr>\n",
              "      <th>хаски</th>\n",
              "      <td>114810.0</td>\n",
              "      <td>12159.0</td>\n",
              "    </tr>\n",
              "    <tr>\n",
              "      <th>элджей</th>\n",
              "      <td>203876.0</td>\n",
              "      <td>42829.0</td>\n",
              "    </tr>\n",
              "  </tbody>\n",
              "</table>\n",
              "</div>\n",
              "    <div class=\"colab-df-buttons\">\n",
              "\n",
              "  <div class=\"colab-df-container\">\n",
              "    <button class=\"colab-df-convert\" onclick=\"convertToInteractive('df-b4213825-6037-4155-a766-a3e12f8f6c97')\"\n",
              "            title=\"Convert this dataframe to an interactive table.\"\n",
              "            style=\"display:none;\">\n",
              "\n",
              "  <svg xmlns=\"http://www.w3.org/2000/svg\" height=\"24px\" viewBox=\"0 -960 960 960\">\n",
              "    <path d=\"M120-120v-720h720v720H120Zm60-500h600v-160H180v160Zm220 220h160v-160H400v160Zm0 220h160v-160H400v160ZM180-400h160v-160H180v160Zm440 0h160v-160H620v160ZM180-180h160v-160H180v160Zm440 0h160v-160H620v160Z\"/>\n",
              "  </svg>\n",
              "    </button>\n",
              "\n",
              "  <style>\n",
              "    .colab-df-container {\n",
              "      display:flex;\n",
              "      gap: 12px;\n",
              "    }\n",
              "\n",
              "    .colab-df-convert {\n",
              "      background-color: #E8F0FE;\n",
              "      border: none;\n",
              "      border-radius: 50%;\n",
              "      cursor: pointer;\n",
              "      display: none;\n",
              "      fill: #1967D2;\n",
              "      height: 32px;\n",
              "      padding: 0 0 0 0;\n",
              "      width: 32px;\n",
              "    }\n",
              "\n",
              "    .colab-df-convert:hover {\n",
              "      background-color: #E2EBFA;\n",
              "      box-shadow: 0px 1px 2px rgba(60, 64, 67, 0.3), 0px 1px 3px 1px rgba(60, 64, 67, 0.15);\n",
              "      fill: #174EA6;\n",
              "    }\n",
              "\n",
              "    .colab-df-buttons div {\n",
              "      margin-bottom: 4px;\n",
              "    }\n",
              "\n",
              "    [theme=dark] .colab-df-convert {\n",
              "      background-color: #3B4455;\n",
              "      fill: #D2E3FC;\n",
              "    }\n",
              "\n",
              "    [theme=dark] .colab-df-convert:hover {\n",
              "      background-color: #434B5C;\n",
              "      box-shadow: 0px 1px 3px 1px rgba(0, 0, 0, 0.15);\n",
              "      filter: drop-shadow(0px 1px 2px rgba(0, 0, 0, 0.3));\n",
              "      fill: #FFFFFF;\n",
              "    }\n",
              "  </style>\n",
              "\n",
              "    <script>\n",
              "      const buttonEl =\n",
              "        document.querySelector('#df-b4213825-6037-4155-a766-a3e12f8f6c97 button.colab-df-convert');\n",
              "      buttonEl.style.display =\n",
              "        google.colab.kernel.accessAllowed ? 'block' : 'none';\n",
              "\n",
              "      async function convertToInteractive(key) {\n",
              "        const element = document.querySelector('#df-b4213825-6037-4155-a766-a3e12f8f6c97');\n",
              "        const dataTable =\n",
              "          await google.colab.kernel.invokeFunction('convertToInteractive',\n",
              "                                                    [key], {});\n",
              "        if (!dataTable) return;\n",
              "\n",
              "        const docLinkHtml = 'Like what you see? Visit the ' +\n",
              "          '<a target=\"_blank\" href=https://colab.research.google.com/notebooks/data_table.ipynb>data table notebook</a>'\n",
              "          + ' to learn more about interactive tables.';\n",
              "        element.innerHTML = '';\n",
              "        dataTable['output_type'] = 'display_data';\n",
              "        await google.colab.output.renderOutput(dataTable, element);\n",
              "        const docLink = document.createElement('div');\n",
              "        docLink.innerHTML = docLinkHtml;\n",
              "        element.appendChild(docLink);\n",
              "      }\n",
              "    </script>\n",
              "  </div>\n",
              "\n",
              "\n",
              "<div id=\"df-eac6d61f-6deb-4528-b6e2-8dbecb37591f\">\n",
              "  <button class=\"colab-df-quickchart\" onclick=\"quickchart('df-eac6d61f-6deb-4528-b6e2-8dbecb37591f')\"\n",
              "            title=\"Suggest charts\"\n",
              "            style=\"display:none;\">\n",
              "\n",
              "<svg xmlns=\"http://www.w3.org/2000/svg\" height=\"24px\"viewBox=\"0 0 24 24\"\n",
              "     width=\"24px\">\n",
              "    <g>\n",
              "        <path d=\"M19 3H5c-1.1 0-2 .9-2 2v14c0 1.1.9 2 2 2h14c1.1 0 2-.9 2-2V5c0-1.1-.9-2-2-2zM9 17H7v-7h2v7zm4 0h-2V7h2v10zm4 0h-2v-4h2v4z\"/>\n",
              "    </g>\n",
              "</svg>\n",
              "  </button>\n",
              "\n",
              "<style>\n",
              "  .colab-df-quickchart {\n",
              "      --bg-color: #E8F0FE;\n",
              "      --fill-color: #1967D2;\n",
              "      --hover-bg-color: #E2EBFA;\n",
              "      --hover-fill-color: #174EA6;\n",
              "      --disabled-fill-color: #AAA;\n",
              "      --disabled-bg-color: #DDD;\n",
              "  }\n",
              "\n",
              "  [theme=dark] .colab-df-quickchart {\n",
              "      --bg-color: #3B4455;\n",
              "      --fill-color: #D2E3FC;\n",
              "      --hover-bg-color: #434B5C;\n",
              "      --hover-fill-color: #FFFFFF;\n",
              "      --disabled-bg-color: #3B4455;\n",
              "      --disabled-fill-color: #666;\n",
              "  }\n",
              "\n",
              "  .colab-df-quickchart {\n",
              "    background-color: var(--bg-color);\n",
              "    border: none;\n",
              "    border-radius: 50%;\n",
              "    cursor: pointer;\n",
              "    display: none;\n",
              "    fill: var(--fill-color);\n",
              "    height: 32px;\n",
              "    padding: 0;\n",
              "    width: 32px;\n",
              "  }\n",
              "\n",
              "  .colab-df-quickchart:hover {\n",
              "    background-color: var(--hover-bg-color);\n",
              "    box-shadow: 0 1px 2px rgba(60, 64, 67, 0.3), 0 1px 3px 1px rgba(60, 64, 67, 0.15);\n",
              "    fill: var(--button-hover-fill-color);\n",
              "  }\n",
              "\n",
              "  .colab-df-quickchart-complete:disabled,\n",
              "  .colab-df-quickchart-complete:disabled:hover {\n",
              "    background-color: var(--disabled-bg-color);\n",
              "    fill: var(--disabled-fill-color);\n",
              "    box-shadow: none;\n",
              "  }\n",
              "\n",
              "  .colab-df-spinner {\n",
              "    border: 2px solid var(--fill-color);\n",
              "    border-color: transparent;\n",
              "    border-bottom-color: var(--fill-color);\n",
              "    animation:\n",
              "      spin 1s steps(1) infinite;\n",
              "  }\n",
              "\n",
              "  @keyframes spin {\n",
              "    0% {\n",
              "      border-color: transparent;\n",
              "      border-bottom-color: var(--fill-color);\n",
              "      border-left-color: var(--fill-color);\n",
              "    }\n",
              "    20% {\n",
              "      border-color: transparent;\n",
              "      border-left-color: var(--fill-color);\n",
              "      border-top-color: var(--fill-color);\n",
              "    }\n",
              "    30% {\n",
              "      border-color: transparent;\n",
              "      border-left-color: var(--fill-color);\n",
              "      border-top-color: var(--fill-color);\n",
              "      border-right-color: var(--fill-color);\n",
              "    }\n",
              "    40% {\n",
              "      border-color: transparent;\n",
              "      border-right-color: var(--fill-color);\n",
              "      border-top-color: var(--fill-color);\n",
              "    }\n",
              "    60% {\n",
              "      border-color: transparent;\n",
              "      border-right-color: var(--fill-color);\n",
              "    }\n",
              "    80% {\n",
              "      border-color: transparent;\n",
              "      border-right-color: var(--fill-color);\n",
              "      border-bottom-color: var(--fill-color);\n",
              "    }\n",
              "    90% {\n",
              "      border-color: transparent;\n",
              "      border-bottom-color: var(--fill-color);\n",
              "    }\n",
              "  }\n",
              "</style>\n",
              "\n",
              "  <script>\n",
              "    async function quickchart(key) {\n",
              "      const quickchartButtonEl =\n",
              "        document.querySelector('#' + key + ' button');\n",
              "      quickchartButtonEl.disabled = true;  // To prevent multiple clicks.\n",
              "      quickchartButtonEl.classList.add('colab-df-spinner');\n",
              "      try {\n",
              "        const charts = await google.colab.kernel.invokeFunction(\n",
              "            'suggestCharts', [key], {});\n",
              "      } catch (error) {\n",
              "        console.error('Error during call to suggestCharts:', error);\n",
              "      }\n",
              "      quickchartButtonEl.classList.remove('colab-df-spinner');\n",
              "      quickchartButtonEl.classList.add('colab-df-quickchart-complete');\n",
              "    }\n",
              "    (() => {\n",
              "      let quickchartButtonEl =\n",
              "        document.querySelector('#df-eac6d61f-6deb-4528-b6e2-8dbecb37591f button');\n",
              "      quickchartButtonEl.style.display =\n",
              "        google.colab.kernel.accessAllowed ? 'block' : 'none';\n",
              "    })();\n",
              "  </script>\n",
              "</div>\n",
              "    </div>\n",
              "  </div>\n"
            ]
          },
          "metadata": {},
          "execution_count": 175
        }
      ]
    },
    {
      "cell_type": "code",
      "source": [
        "df_performers['popularity'] = df_likes.groupby('performer')['likeCount'].median() - df_likes.groupby('performer')['dislikeCount'].median()\n",
        "df_performers"
      ],
      "metadata": {
        "colab": {
          "base_uri": "https://localhost:8080/",
          "height": 1000
        },
        "id": "-KglR3fcBMtm",
        "outputId": "662f37f7-a3dd-446e-b588-83a284f26a74"
      },
      "execution_count": null,
      "outputs": [
        {
          "output_type": "execute_result",
          "data": {
            "text/plain": [
              "                   likeCount  dislikeCount  popularity\n",
              "performer                                             \n",
              "2маши               212909.0       24583.0    188326.0\n",
              "classical_channel   271070.5       10307.5    260763.0\n",
              "face                405493.0       54433.0    351060.0\n",
              "feduk               381360.0       44912.0    336448.0\n",
              "gazgolder           192971.0       16075.0    176896.0\n",
              "iowa                159995.0       15828.0    144167.0\n",
              "johnyboy            135204.0       17801.0    117403.0\n",
              "loboda              163510.0       34707.0    128803.0\n",
              "lone                196011.5       16396.0    179615.5\n",
              "miyagi&эндшпиль     744964.0       43281.0    701683.0\n",
              "noizemc             136037.0       16491.0    119546.0\n",
              "oxxxymiron          185535.0       10925.5    174609.5\n",
              "pharaon             193710.0       29281.5    164428.5\n",
              "serebro             155140.0       13793.0    141347.0\n",
              "антоха_мс           141484.0        5090.0    136394.0\n",
              "барских             165074.0       19383.5    145690.5\n",
              "билан               273660.0       26857.0    246803.0\n",
              "бузова              196820.5       93109.5    103711.0\n",
              "валерия             105405.0        2458.0    102947.0\n",
              "виа_гра             114552.0       14166.0    100386.0\n",
              "гагарина            129804.5       20151.0    109653.5\n",
              "звери               170768.0        9227.0    161541.0\n",
              "караулова           119438.0        6829.0    112609.0\n",
              "кино                138371.0        7608.0    130763.0\n",
              "кипелов             193033.0       17828.0    175205.0\n",
              "киркоров            377957.0      348770.0     29187.0\n",
              "кока                149350.5        6795.5    142555.0\n",
              "крид                248318.0       16877.0    231441.0\n",
              "лазарев             201703.0       28853.0    172850.0\n",
              "ленинград           200555.0       39620.5    160934.5\n",
              "лолита              102636.0       10491.0     92145.0\n",
              "лсп                 349399.5       12049.5    337350.0\n",
              "макsим              115186.0        6526.0    108660.0\n",
              "мальбэк             257428.0       12013.0    245415.0\n",
              "монеточка           153159.0       32478.0    120681.0\n",
              "мот                 196179.0       15640.0    180539.0\n",
              "нюша                122264.0       11359.0    110905.0\n",
              "пошлая_молли        154171.0       27107.0    127064.0\n",
              "руки_вверх          306045.5       19916.5    286129.0\n",
              "тимати              211208.0       42211.0    168997.0\n",
              "хаски               114810.0       12159.0    102651.0\n",
              "элджей              203876.0       42829.0    161047.0"
            ],
            "text/html": [
              "\n",
              "  <div id=\"df-fae5d91e-53e1-465f-bebe-f0c2f2bb4bb8\" class=\"colab-df-container\">\n",
              "    <div>\n",
              "<style scoped>\n",
              "    .dataframe tbody tr th:only-of-type {\n",
              "        vertical-align: middle;\n",
              "    }\n",
              "\n",
              "    .dataframe tbody tr th {\n",
              "        vertical-align: top;\n",
              "    }\n",
              "\n",
              "    .dataframe thead th {\n",
              "        text-align: right;\n",
              "    }\n",
              "</style>\n",
              "<table border=\"1\" class=\"dataframe\">\n",
              "  <thead>\n",
              "    <tr style=\"text-align: right;\">\n",
              "      <th></th>\n",
              "      <th>likeCount</th>\n",
              "      <th>dislikeCount</th>\n",
              "      <th>popularity</th>\n",
              "    </tr>\n",
              "    <tr>\n",
              "      <th>performer</th>\n",
              "      <th></th>\n",
              "      <th></th>\n",
              "      <th></th>\n",
              "    </tr>\n",
              "  </thead>\n",
              "  <tbody>\n",
              "    <tr>\n",
              "      <th>2маши</th>\n",
              "      <td>212909.0</td>\n",
              "      <td>24583.0</td>\n",
              "      <td>188326.0</td>\n",
              "    </tr>\n",
              "    <tr>\n",
              "      <th>classical_channel</th>\n",
              "      <td>271070.5</td>\n",
              "      <td>10307.5</td>\n",
              "      <td>260763.0</td>\n",
              "    </tr>\n",
              "    <tr>\n",
              "      <th>face</th>\n",
              "      <td>405493.0</td>\n",
              "      <td>54433.0</td>\n",
              "      <td>351060.0</td>\n",
              "    </tr>\n",
              "    <tr>\n",
              "      <th>feduk</th>\n",
              "      <td>381360.0</td>\n",
              "      <td>44912.0</td>\n",
              "      <td>336448.0</td>\n",
              "    </tr>\n",
              "    <tr>\n",
              "      <th>gazgolder</th>\n",
              "      <td>192971.0</td>\n",
              "      <td>16075.0</td>\n",
              "      <td>176896.0</td>\n",
              "    </tr>\n",
              "    <tr>\n",
              "      <th>iowa</th>\n",
              "      <td>159995.0</td>\n",
              "      <td>15828.0</td>\n",
              "      <td>144167.0</td>\n",
              "    </tr>\n",
              "    <tr>\n",
              "      <th>johnyboy</th>\n",
              "      <td>135204.0</td>\n",
              "      <td>17801.0</td>\n",
              "      <td>117403.0</td>\n",
              "    </tr>\n",
              "    <tr>\n",
              "      <th>loboda</th>\n",
              "      <td>163510.0</td>\n",
              "      <td>34707.0</td>\n",
              "      <td>128803.0</td>\n",
              "    </tr>\n",
              "    <tr>\n",
              "      <th>lone</th>\n",
              "      <td>196011.5</td>\n",
              "      <td>16396.0</td>\n",
              "      <td>179615.5</td>\n",
              "    </tr>\n",
              "    <tr>\n",
              "      <th>miyagi&amp;эндшпиль</th>\n",
              "      <td>744964.0</td>\n",
              "      <td>43281.0</td>\n",
              "      <td>701683.0</td>\n",
              "    </tr>\n",
              "    <tr>\n",
              "      <th>noizemc</th>\n",
              "      <td>136037.0</td>\n",
              "      <td>16491.0</td>\n",
              "      <td>119546.0</td>\n",
              "    </tr>\n",
              "    <tr>\n",
              "      <th>oxxxymiron</th>\n",
              "      <td>185535.0</td>\n",
              "      <td>10925.5</td>\n",
              "      <td>174609.5</td>\n",
              "    </tr>\n",
              "    <tr>\n",
              "      <th>pharaon</th>\n",
              "      <td>193710.0</td>\n",
              "      <td>29281.5</td>\n",
              "      <td>164428.5</td>\n",
              "    </tr>\n",
              "    <tr>\n",
              "      <th>serebro</th>\n",
              "      <td>155140.0</td>\n",
              "      <td>13793.0</td>\n",
              "      <td>141347.0</td>\n",
              "    </tr>\n",
              "    <tr>\n",
              "      <th>антоха_мс</th>\n",
              "      <td>141484.0</td>\n",
              "      <td>5090.0</td>\n",
              "      <td>136394.0</td>\n",
              "    </tr>\n",
              "    <tr>\n",
              "      <th>барских</th>\n",
              "      <td>165074.0</td>\n",
              "      <td>19383.5</td>\n",
              "      <td>145690.5</td>\n",
              "    </tr>\n",
              "    <tr>\n",
              "      <th>билан</th>\n",
              "      <td>273660.0</td>\n",
              "      <td>26857.0</td>\n",
              "      <td>246803.0</td>\n",
              "    </tr>\n",
              "    <tr>\n",
              "      <th>бузова</th>\n",
              "      <td>196820.5</td>\n",
              "      <td>93109.5</td>\n",
              "      <td>103711.0</td>\n",
              "    </tr>\n",
              "    <tr>\n",
              "      <th>валерия</th>\n",
              "      <td>105405.0</td>\n",
              "      <td>2458.0</td>\n",
              "      <td>102947.0</td>\n",
              "    </tr>\n",
              "    <tr>\n",
              "      <th>виа_гра</th>\n",
              "      <td>114552.0</td>\n",
              "      <td>14166.0</td>\n",
              "      <td>100386.0</td>\n",
              "    </tr>\n",
              "    <tr>\n",
              "      <th>гагарина</th>\n",
              "      <td>129804.5</td>\n",
              "      <td>20151.0</td>\n",
              "      <td>109653.5</td>\n",
              "    </tr>\n",
              "    <tr>\n",
              "      <th>звери</th>\n",
              "      <td>170768.0</td>\n",
              "      <td>9227.0</td>\n",
              "      <td>161541.0</td>\n",
              "    </tr>\n",
              "    <tr>\n",
              "      <th>караулова</th>\n",
              "      <td>119438.0</td>\n",
              "      <td>6829.0</td>\n",
              "      <td>112609.0</td>\n",
              "    </tr>\n",
              "    <tr>\n",
              "      <th>кино</th>\n",
              "      <td>138371.0</td>\n",
              "      <td>7608.0</td>\n",
              "      <td>130763.0</td>\n",
              "    </tr>\n",
              "    <tr>\n",
              "      <th>кипелов</th>\n",
              "      <td>193033.0</td>\n",
              "      <td>17828.0</td>\n",
              "      <td>175205.0</td>\n",
              "    </tr>\n",
              "    <tr>\n",
              "      <th>киркоров</th>\n",
              "      <td>377957.0</td>\n",
              "      <td>348770.0</td>\n",
              "      <td>29187.0</td>\n",
              "    </tr>\n",
              "    <tr>\n",
              "      <th>кока</th>\n",
              "      <td>149350.5</td>\n",
              "      <td>6795.5</td>\n",
              "      <td>142555.0</td>\n",
              "    </tr>\n",
              "    <tr>\n",
              "      <th>крид</th>\n",
              "      <td>248318.0</td>\n",
              "      <td>16877.0</td>\n",
              "      <td>231441.0</td>\n",
              "    </tr>\n",
              "    <tr>\n",
              "      <th>лазарев</th>\n",
              "      <td>201703.0</td>\n",
              "      <td>28853.0</td>\n",
              "      <td>172850.0</td>\n",
              "    </tr>\n",
              "    <tr>\n",
              "      <th>ленинград</th>\n",
              "      <td>200555.0</td>\n",
              "      <td>39620.5</td>\n",
              "      <td>160934.5</td>\n",
              "    </tr>\n",
              "    <tr>\n",
              "      <th>лолита</th>\n",
              "      <td>102636.0</td>\n",
              "      <td>10491.0</td>\n",
              "      <td>92145.0</td>\n",
              "    </tr>\n",
              "    <tr>\n",
              "      <th>лсп</th>\n",
              "      <td>349399.5</td>\n",
              "      <td>12049.5</td>\n",
              "      <td>337350.0</td>\n",
              "    </tr>\n",
              "    <tr>\n",
              "      <th>макsим</th>\n",
              "      <td>115186.0</td>\n",
              "      <td>6526.0</td>\n",
              "      <td>108660.0</td>\n",
              "    </tr>\n",
              "    <tr>\n",
              "      <th>мальбэк</th>\n",
              "      <td>257428.0</td>\n",
              "      <td>12013.0</td>\n",
              "      <td>245415.0</td>\n",
              "    </tr>\n",
              "    <tr>\n",
              "      <th>монеточка</th>\n",
              "      <td>153159.0</td>\n",
              "      <td>32478.0</td>\n",
              "      <td>120681.0</td>\n",
              "    </tr>\n",
              "    <tr>\n",
              "      <th>мот</th>\n",
              "      <td>196179.0</td>\n",
              "      <td>15640.0</td>\n",
              "      <td>180539.0</td>\n",
              "    </tr>\n",
              "    <tr>\n",
              "      <th>нюша</th>\n",
              "      <td>122264.0</td>\n",
              "      <td>11359.0</td>\n",
              "      <td>110905.0</td>\n",
              "    </tr>\n",
              "    <tr>\n",
              "      <th>пошлая_молли</th>\n",
              "      <td>154171.0</td>\n",
              "      <td>27107.0</td>\n",
              "      <td>127064.0</td>\n",
              "    </tr>\n",
              "    <tr>\n",
              "      <th>руки_вверх</th>\n",
              "      <td>306045.5</td>\n",
              "      <td>19916.5</td>\n",
              "      <td>286129.0</td>\n",
              "    </tr>\n",
              "    <tr>\n",
              "      <th>тимати</th>\n",
              "      <td>211208.0</td>\n",
              "      <td>42211.0</td>\n",
              "      <td>168997.0</td>\n",
              "    </tr>\n",
              "    <tr>\n",
              "      <th>хаски</th>\n",
              "      <td>114810.0</td>\n",
              "      <td>12159.0</td>\n",
              "      <td>102651.0</td>\n",
              "    </tr>\n",
              "    <tr>\n",
              "      <th>элджей</th>\n",
              "      <td>203876.0</td>\n",
              "      <td>42829.0</td>\n",
              "      <td>161047.0</td>\n",
              "    </tr>\n",
              "  </tbody>\n",
              "</table>\n",
              "</div>\n",
              "    <div class=\"colab-df-buttons\">\n",
              "\n",
              "  <div class=\"colab-df-container\">\n",
              "    <button class=\"colab-df-convert\" onclick=\"convertToInteractive('df-fae5d91e-53e1-465f-bebe-f0c2f2bb4bb8')\"\n",
              "            title=\"Convert this dataframe to an interactive table.\"\n",
              "            style=\"display:none;\">\n",
              "\n",
              "  <svg xmlns=\"http://www.w3.org/2000/svg\" height=\"24px\" viewBox=\"0 -960 960 960\">\n",
              "    <path d=\"M120-120v-720h720v720H120Zm60-500h600v-160H180v160Zm220 220h160v-160H400v160Zm0 220h160v-160H400v160ZM180-400h160v-160H180v160Zm440 0h160v-160H620v160ZM180-180h160v-160H180v160Zm440 0h160v-160H620v160Z\"/>\n",
              "  </svg>\n",
              "    </button>\n",
              "\n",
              "  <style>\n",
              "    .colab-df-container {\n",
              "      display:flex;\n",
              "      gap: 12px;\n",
              "    }\n",
              "\n",
              "    .colab-df-convert {\n",
              "      background-color: #E8F0FE;\n",
              "      border: none;\n",
              "      border-radius: 50%;\n",
              "      cursor: pointer;\n",
              "      display: none;\n",
              "      fill: #1967D2;\n",
              "      height: 32px;\n",
              "      padding: 0 0 0 0;\n",
              "      width: 32px;\n",
              "    }\n",
              "\n",
              "    .colab-df-convert:hover {\n",
              "      background-color: #E2EBFA;\n",
              "      box-shadow: 0px 1px 2px rgba(60, 64, 67, 0.3), 0px 1px 3px 1px rgba(60, 64, 67, 0.15);\n",
              "      fill: #174EA6;\n",
              "    }\n",
              "\n",
              "    .colab-df-buttons div {\n",
              "      margin-bottom: 4px;\n",
              "    }\n",
              "\n",
              "    [theme=dark] .colab-df-convert {\n",
              "      background-color: #3B4455;\n",
              "      fill: #D2E3FC;\n",
              "    }\n",
              "\n",
              "    [theme=dark] .colab-df-convert:hover {\n",
              "      background-color: #434B5C;\n",
              "      box-shadow: 0px 1px 3px 1px rgba(0, 0, 0, 0.15);\n",
              "      filter: drop-shadow(0px 1px 2px rgba(0, 0, 0, 0.3));\n",
              "      fill: #FFFFFF;\n",
              "    }\n",
              "  </style>\n",
              "\n",
              "    <script>\n",
              "      const buttonEl =\n",
              "        document.querySelector('#df-fae5d91e-53e1-465f-bebe-f0c2f2bb4bb8 button.colab-df-convert');\n",
              "      buttonEl.style.display =\n",
              "        google.colab.kernel.accessAllowed ? 'block' : 'none';\n",
              "\n",
              "      async function convertToInteractive(key) {\n",
              "        const element = document.querySelector('#df-fae5d91e-53e1-465f-bebe-f0c2f2bb4bb8');\n",
              "        const dataTable =\n",
              "          await google.colab.kernel.invokeFunction('convertToInteractive',\n",
              "                                                    [key], {});\n",
              "        if (!dataTable) return;\n",
              "\n",
              "        const docLinkHtml = 'Like what you see? Visit the ' +\n",
              "          '<a target=\"_blank\" href=https://colab.research.google.com/notebooks/data_table.ipynb>data table notebook</a>'\n",
              "          + ' to learn more about interactive tables.';\n",
              "        element.innerHTML = '';\n",
              "        dataTable['output_type'] = 'display_data';\n",
              "        await google.colab.output.renderOutput(dataTable, element);\n",
              "        const docLink = document.createElement('div');\n",
              "        docLink.innerHTML = docLinkHtml;\n",
              "        element.appendChild(docLink);\n",
              "      }\n",
              "    </script>\n",
              "  </div>\n",
              "\n",
              "\n",
              "<div id=\"df-28bad12f-686d-4c45-911c-9a668ab43517\">\n",
              "  <button class=\"colab-df-quickchart\" onclick=\"quickchart('df-28bad12f-686d-4c45-911c-9a668ab43517')\"\n",
              "            title=\"Suggest charts\"\n",
              "            style=\"display:none;\">\n",
              "\n",
              "<svg xmlns=\"http://www.w3.org/2000/svg\" height=\"24px\"viewBox=\"0 0 24 24\"\n",
              "     width=\"24px\">\n",
              "    <g>\n",
              "        <path d=\"M19 3H5c-1.1 0-2 .9-2 2v14c0 1.1.9 2 2 2h14c1.1 0 2-.9 2-2V5c0-1.1-.9-2-2-2zM9 17H7v-7h2v7zm4 0h-2V7h2v10zm4 0h-2v-4h2v4z\"/>\n",
              "    </g>\n",
              "</svg>\n",
              "  </button>\n",
              "\n",
              "<style>\n",
              "  .colab-df-quickchart {\n",
              "      --bg-color: #E8F0FE;\n",
              "      --fill-color: #1967D2;\n",
              "      --hover-bg-color: #E2EBFA;\n",
              "      --hover-fill-color: #174EA6;\n",
              "      --disabled-fill-color: #AAA;\n",
              "      --disabled-bg-color: #DDD;\n",
              "  }\n",
              "\n",
              "  [theme=dark] .colab-df-quickchart {\n",
              "      --bg-color: #3B4455;\n",
              "      --fill-color: #D2E3FC;\n",
              "      --hover-bg-color: #434B5C;\n",
              "      --hover-fill-color: #FFFFFF;\n",
              "      --disabled-bg-color: #3B4455;\n",
              "      --disabled-fill-color: #666;\n",
              "  }\n",
              "\n",
              "  .colab-df-quickchart {\n",
              "    background-color: var(--bg-color);\n",
              "    border: none;\n",
              "    border-radius: 50%;\n",
              "    cursor: pointer;\n",
              "    display: none;\n",
              "    fill: var(--fill-color);\n",
              "    height: 32px;\n",
              "    padding: 0;\n",
              "    width: 32px;\n",
              "  }\n",
              "\n",
              "  .colab-df-quickchart:hover {\n",
              "    background-color: var(--hover-bg-color);\n",
              "    box-shadow: 0 1px 2px rgba(60, 64, 67, 0.3), 0 1px 3px 1px rgba(60, 64, 67, 0.15);\n",
              "    fill: var(--button-hover-fill-color);\n",
              "  }\n",
              "\n",
              "  .colab-df-quickchart-complete:disabled,\n",
              "  .colab-df-quickchart-complete:disabled:hover {\n",
              "    background-color: var(--disabled-bg-color);\n",
              "    fill: var(--disabled-fill-color);\n",
              "    box-shadow: none;\n",
              "  }\n",
              "\n",
              "  .colab-df-spinner {\n",
              "    border: 2px solid var(--fill-color);\n",
              "    border-color: transparent;\n",
              "    border-bottom-color: var(--fill-color);\n",
              "    animation:\n",
              "      spin 1s steps(1) infinite;\n",
              "  }\n",
              "\n",
              "  @keyframes spin {\n",
              "    0% {\n",
              "      border-color: transparent;\n",
              "      border-bottom-color: var(--fill-color);\n",
              "      border-left-color: var(--fill-color);\n",
              "    }\n",
              "    20% {\n",
              "      border-color: transparent;\n",
              "      border-left-color: var(--fill-color);\n",
              "      border-top-color: var(--fill-color);\n",
              "    }\n",
              "    30% {\n",
              "      border-color: transparent;\n",
              "      border-left-color: var(--fill-color);\n",
              "      border-top-color: var(--fill-color);\n",
              "      border-right-color: var(--fill-color);\n",
              "    }\n",
              "    40% {\n",
              "      border-color: transparent;\n",
              "      border-right-color: var(--fill-color);\n",
              "      border-top-color: var(--fill-color);\n",
              "    }\n",
              "    60% {\n",
              "      border-color: transparent;\n",
              "      border-right-color: var(--fill-color);\n",
              "    }\n",
              "    80% {\n",
              "      border-color: transparent;\n",
              "      border-right-color: var(--fill-color);\n",
              "      border-bottom-color: var(--fill-color);\n",
              "    }\n",
              "    90% {\n",
              "      border-color: transparent;\n",
              "      border-bottom-color: var(--fill-color);\n",
              "    }\n",
              "  }\n",
              "</style>\n",
              "\n",
              "  <script>\n",
              "    async function quickchart(key) {\n",
              "      const quickchartButtonEl =\n",
              "        document.querySelector('#' + key + ' button');\n",
              "      quickchartButtonEl.disabled = true;  // To prevent multiple clicks.\n",
              "      quickchartButtonEl.classList.add('colab-df-spinner');\n",
              "      try {\n",
              "        const charts = await google.colab.kernel.invokeFunction(\n",
              "            'suggestCharts', [key], {});\n",
              "      } catch (error) {\n",
              "        console.error('Error during call to suggestCharts:', error);\n",
              "      }\n",
              "      quickchartButtonEl.classList.remove('colab-df-spinner');\n",
              "      quickchartButtonEl.classList.add('colab-df-quickchart-complete');\n",
              "    }\n",
              "    (() => {\n",
              "      let quickchartButtonEl =\n",
              "        document.querySelector('#df-28bad12f-686d-4c45-911c-9a668ab43517 button');\n",
              "      quickchartButtonEl.style.display =\n",
              "        google.colab.kernel.accessAllowed ? 'block' : 'none';\n",
              "    })();\n",
              "  </script>\n",
              "</div>\n",
              "    </div>\n",
              "  </div>\n"
            ]
          },
          "metadata": {},
          "execution_count": 176
        }
      ]
    },
    {
      "cell_type": "code",
      "source": [
        "q = df_performers['popularity'].quantile(0.95)\n",
        "q"
      ],
      "metadata": {
        "colab": {
          "base_uri": "https://localhost:8080/"
        },
        "id": "nh5HrmE8B7Qs",
        "outputId": "17bd5f3d-5dec-468d-8f9c-b705f693b2a8"
      },
      "execution_count": null,
      "outputs": [
        {
          "output_type": "execute_result",
          "data": {
            "text/plain": [
              "337304.9"
            ]
          },
          "metadata": {},
          "execution_count": 179
        }
      ]
    },
    {
      "cell_type": "code",
      "source": [
        "df_performers[df_performers['popularity'] > q]['popularity'].sort_values(ascending=False)"
      ],
      "metadata": {
        "colab": {
          "base_uri": "https://localhost:8080/"
        },
        "id": "9vXfo_qiCSBh",
        "outputId": "ae9d83df-347d-4a7f-f0de-05a7e22594eb"
      },
      "execution_count": null,
      "outputs": [
        {
          "output_type": "execute_result",
          "data": {
            "text/plain": [
              "performer\n",
              "miyagi&эндшпиль    701683.0\n",
              "face               351060.0\n",
              "лсп                337350.0\n",
              "Name: popularity, dtype: float64"
            ]
          },
          "metadata": {},
          "execution_count": 191
        }
      ]
    }
  ]
}